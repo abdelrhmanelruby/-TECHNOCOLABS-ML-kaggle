{
 "cells": [
  {
   "cell_type": "markdown",
   "id": "2c58df2c",
   "metadata": {
    "papermill": {
     "duration": 0.00728,
     "end_time": "2022-08-31T08:49:00.590839",
     "exception": false,
     "start_time": "2022-08-31T08:49:00.583559",
     "status": "completed"
    },
    "tags": []
   },
   "source": [
    "**This notebook is an exercise in the [Data Cleaning](https://www.kaggle.com/learn/data-cleaning) course.  You can reference the tutorial at [this link](https://www.kaggle.com/alexisbcook/handling-missing-values).**\n",
    "\n",
    "---\n"
   ]
  },
  {
   "cell_type": "markdown",
   "id": "2a13703a",
   "metadata": {
    "papermill": {
     "duration": 0.005852,
     "end_time": "2022-08-31T08:49:00.603055",
     "exception": false,
     "start_time": "2022-08-31T08:49:00.597203",
     "status": "completed"
    },
    "tags": []
   },
   "source": [
    "In this exercise, you'll apply what you learned in the **Handling missing values** tutorial.\n",
    "\n",
    "# Setup\n",
    "\n",
    "The questions below will give you feedback on your work. Run the following cell to set up the feedback system."
   ]
  },
  {
   "cell_type": "code",
   "execution_count": 1,
   "id": "25131f29",
   "metadata": {
    "execution": {
     "iopub.execute_input": "2022-08-31T08:49:00.617487Z",
     "iopub.status.busy": "2022-08-31T08:49:00.616984Z",
     "iopub.status.idle": "2022-08-31T08:49:04.864763Z",
     "shell.execute_reply": "2022-08-31T08:49:04.863214Z"
    },
    "papermill": {
     "duration": 4.25897,
     "end_time": "2022-08-31T08:49:04.868143",
     "exception": false,
     "start_time": "2022-08-31T08:49:00.609173",
     "status": "completed"
    },
    "tags": []
   },
   "outputs": [
    {
     "name": "stderr",
     "output_type": "stream",
     "text": [
      "/opt/conda/lib/python3.7/site-packages/ipykernel_launcher.py:3: DtypeWarning: Columns (22,32) have mixed types.Specify dtype option on import or set low_memory=False.\n",
      "  This is separate from the ipykernel package so we can avoid doing imports until\n"
     ]
    },
    {
     "name": "stdout",
     "output_type": "stream",
     "text": [
      "Setup Complete\n"
     ]
    }
   ],
   "source": [
    "from learntools.core import binder\n",
    "binder.bind(globals())\n",
    "from learntools.data_cleaning.ex1 import *\n",
    "print(\"Setup Complete\")"
   ]
  },
  {
   "cell_type": "markdown",
   "id": "c6a9aec4",
   "metadata": {
    "papermill": {
     "duration": 0.006855,
     "end_time": "2022-08-31T08:49:04.884675",
     "exception": false,
     "start_time": "2022-08-31T08:49:04.877820",
     "status": "completed"
    },
    "tags": []
   },
   "source": [
    "# 1) Take a first look at the data\n",
    "\n",
    "Run the next code cell to load in the libraries and dataset you'll use to complete the exercise."
   ]
  },
  {
   "cell_type": "code",
   "execution_count": 2,
   "id": "683649b4",
   "metadata": {
    "execution": {
     "iopub.execute_input": "2022-08-31T08:49:04.899934Z",
     "iopub.status.busy": "2022-08-31T08:49:04.899157Z",
     "iopub.status.idle": "2022-08-31T08:49:06.797872Z",
     "shell.execute_reply": "2022-08-31T08:49:06.796414Z"
    },
    "papermill": {
     "duration": 1.910819,
     "end_time": "2022-08-31T08:49:06.801951",
     "exception": false,
     "start_time": "2022-08-31T08:49:04.891132",
     "status": "completed"
    },
    "tags": []
   },
   "outputs": [
    {
     "name": "stderr",
     "output_type": "stream",
     "text": [
      "/opt/conda/lib/python3.7/site-packages/IPython/core/interactiveshell.py:3552: DtypeWarning: Columns (22,32) have mixed types.Specify dtype option on import or set low_memory=False.\n",
      "  exec(code_obj, self.user_global_ns, self.user_ns)\n"
     ]
    }
   ],
   "source": [
    "# modules we'll use\n",
    "import pandas as pd\n",
    "import numpy as np\n",
    "\n",
    "# read in all our data\n",
    "sf_permits = pd.read_csv(\"../input/building-permit-applications-data/Building_Permits.csv\")\n",
    "\n",
    "# set seed for reproducibility\n",
    "np.random.seed(0) "
   ]
  },
  {
   "cell_type": "markdown",
   "id": "eedeb2c4",
   "metadata": {
    "papermill": {
     "duration": 0.006272,
     "end_time": "2022-08-31T08:49:06.814974",
     "exception": false,
     "start_time": "2022-08-31T08:49:06.808702",
     "status": "completed"
    },
    "tags": []
   },
   "source": [
    "Use the code cell below to print the first five rows of the `sf_permits` DataFrame."
   ]
  },
  {
   "cell_type": "code",
   "execution_count": 3,
   "id": "2a8a2c88",
   "metadata": {
    "execution": {
     "iopub.execute_input": "2022-08-31T08:49:06.831121Z",
     "iopub.status.busy": "2022-08-31T08:49:06.830009Z",
     "iopub.status.idle": "2022-08-31T08:49:06.853004Z",
     "shell.execute_reply": "2022-08-31T08:49:06.850905Z"
    },
    "papermill": {
     "duration": 0.033859,
     "end_time": "2022-08-31T08:49:06.855902",
     "exception": false,
     "start_time": "2022-08-31T08:49:06.822043",
     "status": "completed"
    },
    "tags": []
   },
   "outputs": [
    {
     "name": "stdout",
     "output_type": "stream",
     "text": [
      "  Permit Number  Permit Type            Permit Type Definition  \\\n",
      "0  201505065519            4                      sign - erect   \n",
      "1  201604195146            4                      sign - erect   \n",
      "2  201605278609            3  additions alterations or repairs   \n",
      "3  201611072166            8            otc alterations permit   \n",
      "4  201611283529            6                       demolitions   \n",
      "\n",
      "  Permit Creation Date Block  Lot  Street Number Street Number Suffix  \\\n",
      "0           05/06/2015  0326  023            140                  NaN   \n",
      "1           04/19/2016  0306  007            440                  NaN   \n",
      "2           05/27/2016  0595  203           1647                  NaN   \n",
      "3           11/07/2016  0156  011           1230                  NaN   \n",
      "4           11/28/2016  0342  001            950                  NaN   \n",
      "\n",
      "  Street Name Street Suffix  ...  Existing Construction Type  \\\n",
      "0       Ellis            St  ...                         3.0   \n",
      "1       Geary            St  ...                         3.0   \n",
      "2     Pacific            Av  ...                         1.0   \n",
      "3     Pacific            Av  ...                         5.0   \n",
      "4      Market            St  ...                         3.0   \n",
      "\n",
      "  Existing Construction Type Description Proposed Construction Type  \\\n",
      "0                          constr type 3                        NaN   \n",
      "1                          constr type 3                        NaN   \n",
      "2                          constr type 1                        1.0   \n",
      "3                         wood frame (5)                        5.0   \n",
      "4                          constr type 3                        NaN   \n",
      "\n",
      "  Proposed Construction Type Description Site Permit Supervisor District  \\\n",
      "0                                    NaN         NaN                 3.0   \n",
      "1                                    NaN         NaN                 3.0   \n",
      "2                          constr type 1         NaN                 3.0   \n",
      "3                         wood frame (5)         NaN                 3.0   \n",
      "4                                    NaN         NaN                 6.0   \n",
      "\n",
      "  Neighborhoods - Analysis Boundaries  Zipcode  \\\n",
      "0                          Tenderloin  94102.0   \n",
      "1                          Tenderloin  94102.0   \n",
      "2                        Russian Hill  94109.0   \n",
      "3                            Nob Hill  94109.0   \n",
      "4                          Tenderloin  94102.0   \n",
      "\n",
      "                                    Location      Record ID  \n",
      "0  (37.785719256680785, -122.40852313194863)  1380611233945  \n",
      "1   (37.78733980600732, -122.41063199757738)  1420164406718  \n",
      "2    (37.7946573324287, -122.42232562979227)  1424856504716  \n",
      "3   (37.79595867909168, -122.41557405519474)  1443574295566  \n",
      "4   (37.78315261897309, -122.40950883997789)   144548169992  \n",
      "\n",
      "[5 rows x 43 columns]\n"
     ]
    }
   ],
   "source": [
    "# TODO: Your code here!\n",
    "print(sf_permits.head())\n"
   ]
  },
  {
   "cell_type": "markdown",
   "id": "1e85ecbe",
   "metadata": {
    "papermill": {
     "duration": 0.006891,
     "end_time": "2022-08-31T08:49:06.869440",
     "exception": false,
     "start_time": "2022-08-31T08:49:06.862549",
     "status": "completed"
    },
    "tags": []
   },
   "source": [
    "Does the dataset have any missing values?  Once you have an answer, run the code cell below to get credit for your work."
   ]
  },
  {
   "cell_type": "code",
   "execution_count": 4,
   "id": "82f8bddd",
   "metadata": {
    "execution": {
     "iopub.execute_input": "2022-08-31T08:49:06.885319Z",
     "iopub.status.busy": "2022-08-31T08:49:06.884279Z",
     "iopub.status.idle": "2022-08-31T08:49:06.897914Z",
     "shell.execute_reply": "2022-08-31T08:49:06.896573Z"
    },
    "papermill": {
     "duration": 0.024322,
     "end_time": "2022-08-31T08:49:06.900482",
     "exception": false,
     "start_time": "2022-08-31T08:49:06.876160",
     "status": "completed"
    },
    "tags": []
   },
   "outputs": [
    {
     "data": {
      "application/javascript": [
       "parent.postMessage({\"jupyterEvent\": \"custom.exercise_interaction\", \"data\": {\"outcomeType\": 1, \"valueTowardsCompletion\": 0.16666666666666666, \"interactionType\": 1, \"questionType\": 4, \"questionId\": \"1_TakeFirstLook\", \"learnToolsVersion\": \"0.3.4\", \"failureMessage\": \"\", \"exceptionClass\": \"\", \"trace\": \"\"}}, \"*\")"
      ],
      "text/plain": [
       "<IPython.core.display.Javascript object>"
      ]
     },
     "metadata": {},
     "output_type": "display_data"
    },
    {
     "data": {
      "text/markdown": [
       "<span style=\"color:#33cc33\">Correct:</span> \n",
       "\n",
       "The first five rows of the data does show that several columns have missing values.  You can see this in the \"Street Number Suffix\", \"Proposed Construction Type\" and \"Site Permit\" columns, among others."
      ],
      "text/plain": [
       "Correct: \n",
       "\n",
       "The first five rows of the data does show that several columns have missing values.  You can see this in the \"Street Number Suffix\", \"Proposed Construction Type\" and \"Site Permit\" columns, among others."
      ]
     },
     "metadata": {},
     "output_type": "display_data"
    }
   ],
   "source": [
    "# Check your answer (Run this code cell to receive credit!)\n",
    "q1.check()"
   ]
  },
  {
   "cell_type": "code",
   "execution_count": 5,
   "id": "e7d361f6",
   "metadata": {
    "execution": {
     "iopub.execute_input": "2022-08-31T08:49:06.916532Z",
     "iopub.status.busy": "2022-08-31T08:49:06.915615Z",
     "iopub.status.idle": "2022-08-31T08:49:06.920725Z",
     "shell.execute_reply": "2022-08-31T08:49:06.919517Z"
    },
    "papermill": {
     "duration": 0.015669,
     "end_time": "2022-08-31T08:49:06.923133",
     "exception": false,
     "start_time": "2022-08-31T08:49:06.907464",
     "status": "completed"
    },
    "tags": []
   },
   "outputs": [],
   "source": [
    "# Line below will give you a hint\n",
    "#q1.hint()"
   ]
  },
  {
   "cell_type": "markdown",
   "id": "248a8c94",
   "metadata": {
    "papermill": {
     "duration": 0.006546,
     "end_time": "2022-08-31T08:49:06.936681",
     "exception": false,
     "start_time": "2022-08-31T08:49:06.930135",
     "status": "completed"
    },
    "tags": []
   },
   "source": [
    "# 2) How many missing data points do we have?\n",
    "\n",
    "What percentage of the values in the dataset are missing?  Your answer should be a number between 0 and 100.  (If 1/4 of the values in the dataset are missing, the answer is 25.)"
   ]
  },
  {
   "cell_type": "code",
   "execution_count": 6,
   "id": "8037d82f",
   "metadata": {
    "execution": {
     "iopub.execute_input": "2022-08-31T08:49:06.952434Z",
     "iopub.status.busy": "2022-08-31T08:49:06.951982Z",
     "iopub.status.idle": "2022-08-31T08:49:07.194966Z",
     "shell.execute_reply": "2022-08-31T08:49:07.193758Z"
    },
    "papermill": {
     "duration": 0.253754,
     "end_time": "2022-08-31T08:49:07.197382",
     "exception": false,
     "start_time": "2022-08-31T08:49:06.943628",
     "status": "completed"
    },
    "tags": []
   },
   "outputs": [
    {
     "data": {
      "application/javascript": [
       "parent.postMessage({\"jupyterEvent\": \"custom.exercise_interaction\", \"data\": {\"outcomeType\": 1, \"valueTowardsCompletion\": 0.16666666666666666, \"interactionType\": 1, \"questionType\": 1, \"questionId\": \"2_PercentMissingValues\", \"learnToolsVersion\": \"0.3.4\", \"failureMessage\": \"\", \"exceptionClass\": \"\", \"trace\": \"\"}}, \"*\")"
      ],
      "text/plain": [
       "<IPython.core.display.Javascript object>"
      ]
     },
     "metadata": {},
     "output_type": "display_data"
    },
    {
     "data": {
      "text/markdown": [
       "<span style=\"color:#33cc33\">Correct</span>"
      ],
      "text/plain": [
       "Correct"
      ]
     },
     "metadata": {},
     "output_type": "display_data"
    }
   ],
   "source": [
    "# TODO: Your code here!\n",
    "total=np.product(sf_permits.shape)\n",
    "mising=sf_permits.isnull().sum().sum()\n",
    "percent_missing = (mising/total)*100\n",
    "\n",
    "# Check your answer\n",
    "q2.check()"
   ]
  },
  {
   "cell_type": "code",
   "execution_count": 7,
   "id": "34727b4f",
   "metadata": {
    "execution": {
     "iopub.execute_input": "2022-08-31T08:49:07.213583Z",
     "iopub.status.busy": "2022-08-31T08:49:07.213181Z",
     "iopub.status.idle": "2022-08-31T08:49:07.218041Z",
     "shell.execute_reply": "2022-08-31T08:49:07.216579Z"
    },
    "papermill": {
     "duration": 0.016072,
     "end_time": "2022-08-31T08:49:07.220524",
     "exception": false,
     "start_time": "2022-08-31T08:49:07.204452",
     "status": "completed"
    },
    "tags": []
   },
   "outputs": [],
   "source": [
    "# Lines below will give you a hint or solution code\n",
    "#q2.hint()\n",
    "#q2.solution()"
   ]
  },
  {
   "cell_type": "markdown",
   "id": "a968e8ff",
   "metadata": {
    "papermill": {
     "duration": 0.006857,
     "end_time": "2022-08-31T08:49:07.235510",
     "exception": false,
     "start_time": "2022-08-31T08:49:07.228653",
     "status": "completed"
    },
    "tags": []
   },
   "source": [
    "# 3) Figure out why the data is missing\n",
    "\n",
    "Look at the columns **\"Street Number Suffix\"** and **\"Zipcode\"** from the [San Francisco Building Permits dataset](https://www.kaggle.com/aparnashastry/building-permit-applications-data). Both of these contain missing values. \n",
    "- Which, if either, are missing because they don't exist? \n",
    "- Which, if either, are missing because they weren't recorded?  \n",
    "\n",
    "Once you have an answer, run the code cell below."
   ]
  },
  {
   "cell_type": "code",
   "execution_count": 8,
   "id": "e0c88f1c",
   "metadata": {
    "execution": {
     "iopub.execute_input": "2022-08-31T08:49:07.251656Z",
     "iopub.status.busy": "2022-08-31T08:49:07.251245Z",
     "iopub.status.idle": "2022-08-31T08:49:07.260907Z",
     "shell.execute_reply": "2022-08-31T08:49:07.259561Z"
    },
    "papermill": {
     "duration": 0.020914,
     "end_time": "2022-08-31T08:49:07.263506",
     "exception": false,
     "start_time": "2022-08-31T08:49:07.242592",
     "status": "completed"
    },
    "tags": []
   },
   "outputs": [
    {
     "data": {
      "application/javascript": [
       "parent.postMessage({\"jupyterEvent\": \"custom.exercise_interaction\", \"data\": {\"outcomeType\": 1, \"valueTowardsCompletion\": 0.16666666666666666, \"interactionType\": 1, \"questionType\": 4, \"questionId\": \"3_WhyDataMissing\", \"learnToolsVersion\": \"0.3.4\", \"failureMessage\": \"\", \"exceptionClass\": \"\", \"trace\": \"\"}}, \"*\")"
      ],
      "text/plain": [
       "<IPython.core.display.Javascript object>"
      ]
     },
     "metadata": {},
     "output_type": "display_data"
    },
    {
     "data": {
      "text/markdown": [
       "<span style=\"color:#33cc33\">Correct:</span> \n",
       "\n",
       "If a value in the \"Street Number Suffix\" column is missing, it is likely because it does not exist. If a value in the \"Zipcode\" column is missing, it was not recorded."
      ],
      "text/plain": [
       "Correct: \n",
       "\n",
       "If a value in the \"Street Number Suffix\" column is missing, it is likely because it does not exist. If a value in the \"Zipcode\" column is missing, it was not recorded."
      ]
     },
     "metadata": {},
     "output_type": "display_data"
    }
   ],
   "source": [
    "# Check your answer (Run this code cell to receive credit!)\n",
    "q3.check()"
   ]
  },
  {
   "cell_type": "code",
   "execution_count": 9,
   "id": "c0b94500",
   "metadata": {
    "execution": {
     "iopub.execute_input": "2022-08-31T08:49:07.280518Z",
     "iopub.status.busy": "2022-08-31T08:49:07.280103Z",
     "iopub.status.idle": "2022-08-31T08:49:07.284731Z",
     "shell.execute_reply": "2022-08-31T08:49:07.283312Z"
    },
    "papermill": {
     "duration": 0.016015,
     "end_time": "2022-08-31T08:49:07.287182",
     "exception": false,
     "start_time": "2022-08-31T08:49:07.271167",
     "status": "completed"
    },
    "tags": []
   },
   "outputs": [],
   "source": [
    "# Line below will give you a hint\n",
    "#q3.hint()"
   ]
  },
  {
   "cell_type": "markdown",
   "id": "171e8730",
   "metadata": {
    "papermill": {
     "duration": 0.007064,
     "end_time": "2022-08-31T08:49:07.301827",
     "exception": false,
     "start_time": "2022-08-31T08:49:07.294763",
     "status": "completed"
    },
    "tags": []
   },
   "source": [
    "# 4) Drop missing values: rows\n",
    "\n",
    "If you removed all of the rows of `sf_permits` with missing values, how many rows are left?\n",
    "\n",
    "**Note**: Do not change the value of `sf_permits` when checking this.  "
   ]
  },
  {
   "cell_type": "code",
   "execution_count": 10,
   "id": "492527e9",
   "metadata": {
    "execution": {
     "iopub.execute_input": "2022-08-31T08:49:07.319707Z",
     "iopub.status.busy": "2022-08-31T08:49:07.318748Z",
     "iopub.status.idle": "2022-08-31T08:49:07.566607Z",
     "shell.execute_reply": "2022-08-31T08:49:07.565512Z"
    },
    "papermill": {
     "duration": 0.259708,
     "end_time": "2022-08-31T08:49:07.569539",
     "exception": false,
     "start_time": "2022-08-31T08:49:07.309831",
     "status": "completed"
    },
    "tags": []
   },
   "outputs": [],
   "source": [
    "# TODO: Your code here!\n",
    "sf_permits_drop_row=sf_permits.dropna()\n"
   ]
  },
  {
   "cell_type": "markdown",
   "id": "d481eb7b",
   "metadata": {
    "papermill": {
     "duration": 0.007273,
     "end_time": "2022-08-31T08:49:07.584585",
     "exception": false,
     "start_time": "2022-08-31T08:49:07.577312",
     "status": "completed"
    },
    "tags": []
   },
   "source": [
    "Once you have an answer, run the code cell below."
   ]
  },
  {
   "cell_type": "code",
   "execution_count": 11,
   "id": "fbf7e4cc",
   "metadata": {
    "execution": {
     "iopub.execute_input": "2022-08-31T08:49:07.601797Z",
     "iopub.status.busy": "2022-08-31T08:49:07.601402Z",
     "iopub.status.idle": "2022-08-31T08:49:07.610469Z",
     "shell.execute_reply": "2022-08-31T08:49:07.609319Z"
    },
    "papermill": {
     "duration": 0.020781,
     "end_time": "2022-08-31T08:49:07.613113",
     "exception": false,
     "start_time": "2022-08-31T08:49:07.592332",
     "status": "completed"
    },
    "tags": []
   },
   "outputs": [
    {
     "data": {
      "application/javascript": [
       "parent.postMessage({\"jupyterEvent\": \"custom.exercise_interaction\", \"data\": {\"outcomeType\": 1, \"valueTowardsCompletion\": 0.16666666666666666, \"interactionType\": 1, \"questionType\": 4, \"questionId\": \"4_DropMissingRows\", \"learnToolsVersion\": \"0.3.4\", \"failureMessage\": \"\", \"exceptionClass\": \"\", \"trace\": \"\"}}, \"*\")"
      ],
      "text/plain": [
       "<IPython.core.display.Javascript object>"
      ]
     },
     "metadata": {},
     "output_type": "display_data"
    },
    {
     "data": {
      "text/markdown": [
       "<span style=\"color:#33cc33\">Correct:</span> \n",
       "\n",
       "There are no rows remaining in the dataset!"
      ],
      "text/plain": [
       "Correct: \n",
       "\n",
       "There are no rows remaining in the dataset!"
      ]
     },
     "metadata": {},
     "output_type": "display_data"
    }
   ],
   "source": [
    "# Check your answer (Run this code cell to receive credit!)\n",
    "q4.check()"
   ]
  },
  {
   "cell_type": "code",
   "execution_count": 12,
   "id": "2b13492e",
   "metadata": {
    "execution": {
     "iopub.execute_input": "2022-08-31T08:49:07.630582Z",
     "iopub.status.busy": "2022-08-31T08:49:07.630130Z",
     "iopub.status.idle": "2022-08-31T08:49:07.634453Z",
     "shell.execute_reply": "2022-08-31T08:49:07.633364Z"
    },
    "papermill": {
     "duration": 0.015922,
     "end_time": "2022-08-31T08:49:07.636707",
     "exception": false,
     "start_time": "2022-08-31T08:49:07.620785",
     "status": "completed"
    },
    "tags": []
   },
   "outputs": [],
   "source": [
    "# Line below will give you a hint\n",
    "#q4.hint()"
   ]
  },
  {
   "cell_type": "markdown",
   "id": "22f93203",
   "metadata": {
    "papermill": {
     "duration": 0.007364,
     "end_time": "2022-08-31T08:49:07.651934",
     "exception": false,
     "start_time": "2022-08-31T08:49:07.644570",
     "status": "completed"
    },
    "tags": []
   },
   "source": [
    "# 5) Drop missing values: columns\n",
    "\n",
    "Now try removing all the columns with empty values.  \n",
    "- Create a new DataFrame called `sf_permits_with_na_dropped` that has all of the columns with empty values removed.  \n",
    "- How many columns were removed from the original `sf_permits` DataFrame? Use this number to set the value of the `dropped_columns` variable below."
   ]
  },
  {
   "cell_type": "code",
   "execution_count": 13,
   "id": "d73c4de2",
   "metadata": {
    "execution": {
     "iopub.execute_input": "2022-08-31T08:49:07.669494Z",
     "iopub.status.busy": "2022-08-31T08:49:07.669038Z",
     "iopub.status.idle": "2022-08-31T08:49:07.928142Z",
     "shell.execute_reply": "2022-08-31T08:49:07.926973Z"
    },
    "papermill": {
     "duration": 0.271071,
     "end_time": "2022-08-31T08:49:07.930669",
     "exception": false,
     "start_time": "2022-08-31T08:49:07.659598",
     "status": "completed"
    },
    "tags": []
   },
   "outputs": [
    {
     "data": {
      "application/javascript": [
       "parent.postMessage({\"jupyterEvent\": \"custom.exercise_interaction\", \"data\": {\"outcomeType\": 1, \"valueTowardsCompletion\": 0.16666666666666666, \"interactionType\": 1, \"questionType\": 1, \"questionId\": \"5_DropMissingCols\", \"learnToolsVersion\": \"0.3.4\", \"failureMessage\": \"\", \"exceptionClass\": \"\", \"trace\": \"\"}}, \"*\")"
      ],
      "text/plain": [
       "<IPython.core.display.Javascript object>"
      ]
     },
     "metadata": {},
     "output_type": "display_data"
    },
    {
     "data": {
      "text/markdown": [
       "<span style=\"color:#33cc33\">Correct</span>"
      ],
      "text/plain": [
       "Correct"
      ]
     },
     "metadata": {},
     "output_type": "display_data"
    }
   ],
   "source": [
    "# TODO: Your code here\n",
    "sf_permits_with_na_dropped = sf_permits.dropna(axis=1)\n",
    "\n",
    "dropped_columns = sf_permits.shape[1]-sf_permits_with_na_dropped.shape[1]\n",
    "\n",
    "# Check your answer\n",
    "q5.check()"
   ]
  },
  {
   "cell_type": "code",
   "execution_count": 14,
   "id": "f1381b5e",
   "metadata": {
    "execution": {
     "iopub.execute_input": "2022-08-31T08:49:07.948035Z",
     "iopub.status.busy": "2022-08-31T08:49:07.947629Z",
     "iopub.status.idle": "2022-08-31T08:49:07.952134Z",
     "shell.execute_reply": "2022-08-31T08:49:07.950980Z"
    },
    "papermill": {
     "duration": 0.015994,
     "end_time": "2022-08-31T08:49:07.954454",
     "exception": false,
     "start_time": "2022-08-31T08:49:07.938460",
     "status": "completed"
    },
    "tags": []
   },
   "outputs": [],
   "source": [
    "# Lines below will give you a hint or solution code\n",
    "#q5.hint()\n",
    "#q5.solution()"
   ]
  },
  {
   "cell_type": "markdown",
   "id": "b138c704",
   "metadata": {
    "papermill": {
     "duration": 0.007547,
     "end_time": "2022-08-31T08:49:07.969957",
     "exception": false,
     "start_time": "2022-08-31T08:49:07.962410",
     "status": "completed"
    },
    "tags": []
   },
   "source": [
    "# 6) Fill in missing values automatically\n",
    "\n",
    "Try replacing all the NaN's in the `sf_permits` data with the one that comes directly after it and then replacing any remaining NaN's with 0.  Set the result to a new DataFrame `sf_permits_with_na_imputed`."
   ]
  },
  {
   "cell_type": "code",
   "execution_count": 15,
   "id": "6a295f78",
   "metadata": {
    "execution": {
     "iopub.execute_input": "2022-08-31T08:49:07.988077Z",
     "iopub.status.busy": "2022-08-31T08:49:07.987573Z",
     "iopub.status.idle": "2022-08-31T08:49:08.929956Z",
     "shell.execute_reply": "2022-08-31T08:49:08.928759Z"
    },
    "papermill": {
     "duration": 0.9545,
     "end_time": "2022-08-31T08:49:08.932370",
     "exception": false,
     "start_time": "2022-08-31T08:49:07.977870",
     "status": "completed"
    },
    "tags": []
   },
   "outputs": [
    {
     "data": {
      "application/javascript": [
       "parent.postMessage({\"jupyterEvent\": \"custom.exercise_interaction\", \"data\": {\"outcomeType\": 1, \"valueTowardsCompletion\": 0.16666666666666666, \"interactionType\": 1, \"questionType\": 1, \"questionId\": \"6_ImputeAutomatically\", \"learnToolsVersion\": \"0.3.4\", \"failureMessage\": \"\", \"exceptionClass\": \"\", \"trace\": \"\"}}, \"*\")"
      ],
      "text/plain": [
       "<IPython.core.display.Javascript object>"
      ]
     },
     "metadata": {},
     "output_type": "display_data"
    },
    {
     "data": {
      "text/markdown": [
       "<span style=\"color:#33cc33\">Correct</span>"
      ],
      "text/plain": [
       "Correct"
      ]
     },
     "metadata": {},
     "output_type": "display_data"
    }
   ],
   "source": [
    "# TODO: Your code here\n",
    "sf_permits_with_na_imputed = sf_permits.fillna(method='bfill', axis=0).fillna(0)\n",
    "\n",
    "# Check your answer\n",
    "q6.check()"
   ]
  },
  {
   "cell_type": "code",
   "execution_count": 16,
   "id": "683d12d4",
   "metadata": {
    "execution": {
     "iopub.execute_input": "2022-08-31T08:49:08.951602Z",
     "iopub.status.busy": "2022-08-31T08:49:08.950318Z",
     "iopub.status.idle": "2022-08-31T08:49:08.954753Z",
     "shell.execute_reply": "2022-08-31T08:49:08.953939Z"
    },
    "papermill": {
     "duration": 0.016321,
     "end_time": "2022-08-31T08:49:08.956968",
     "exception": false,
     "start_time": "2022-08-31T08:49:08.940647",
     "status": "completed"
    },
    "tags": []
   },
   "outputs": [],
   "source": [
    "# Lines below will give you a hint or solution code\n",
    "#q6.hint()\n",
    "#q6.solution()"
   ]
  },
  {
   "cell_type": "markdown",
   "id": "bd5973fd",
   "metadata": {
    "papermill": {
     "duration": 0.008101,
     "end_time": "2022-08-31T08:49:08.973453",
     "exception": false,
     "start_time": "2022-08-31T08:49:08.965352",
     "status": "completed"
    },
    "tags": []
   },
   "source": [
    "# More practice\n",
    "\n",
    "If you're looking for more practice handling missing values:\n",
    "\n",
    "* Check out [this noteboook](https://www.kaggle.com/alexisbcook/missing-values) on handling missing values using scikit-learn's imputer. \n",
    "* Look back at the \"Zipcode\" column in the `sf_permits` dataset, which has some missing values. How would you go about figuring out what the actual zipcode of each address should be? (You might try using another dataset. You can search for datasets about San Fransisco on the [Datasets listing](https://www.kaggle.com/datasets).) \n",
    "\n",
    "# Keep going\n",
    "\n",
    "In the next lesson, learn how to [**apply scaling and normalization**](https://www.kaggle.com/alexisbcook/scaling-and-normalization) to transform your data."
   ]
  },
  {
   "cell_type": "markdown",
   "id": "d76fa66f",
   "metadata": {
    "papermill": {
     "duration": 0.007877,
     "end_time": "2022-08-31T08:49:08.989614",
     "exception": false,
     "start_time": "2022-08-31T08:49:08.981737",
     "status": "completed"
    },
    "tags": []
   },
   "source": [
    "---\n",
    "\n",
    "\n",
    "\n",
    "\n",
    "*Have questions or comments? Visit the [course discussion forum](https://www.kaggle.com/learn/data-cleaning/discussion) to chat with other learners.*"
   ]
  }
 ],
 "metadata": {
  "kernelspec": {
   "display_name": "Python 3",
   "language": "python",
   "name": "python3"
  },
  "language_info": {
   "codemirror_mode": {
    "name": "ipython",
    "version": 3
   },
   "file_extension": ".py",
   "mimetype": "text/x-python",
   "name": "python",
   "nbconvert_exporter": "python",
   "pygments_lexer": "ipython3",
   "version": "3.7.12"
  },
  "papermill": {
   "default_parameters": {},
   "duration": 19.850701,
   "end_time": "2022-08-31T08:49:09.922176",
   "environment_variables": {},
   "exception": null,
   "input_path": "__notebook__.ipynb",
   "output_path": "__notebook__.ipynb",
   "parameters": {},
   "start_time": "2022-08-31T08:48:50.071475",
   "version": "2.3.4"
  }
 },
 "nbformat": 4,
 "nbformat_minor": 5
}
