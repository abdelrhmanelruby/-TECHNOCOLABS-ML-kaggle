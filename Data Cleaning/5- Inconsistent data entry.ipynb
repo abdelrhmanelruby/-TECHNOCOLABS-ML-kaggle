{
 "cells": [
  {
   "cell_type": "markdown",
   "id": "22a2b71d",
   "metadata": {
    "papermill": {
     "duration": 0.005892,
     "end_time": "2022-08-31T08:52:17.763369",
     "exception": false,
     "start_time": "2022-08-31T08:52:17.757477",
     "status": "completed"
    },
    "tags": []
   },
   "source": [
    "**This notebook is an exercise in the [Data Cleaning](https://www.kaggle.com/learn/data-cleaning) course.  You can reference the tutorial at [this link](https://www.kaggle.com/alexisbcook/inconsistent-data-entry).**\n",
    "\n",
    "---\n"
   ]
  },
  {
   "cell_type": "markdown",
   "id": "23f2a0ac",
   "metadata": {
    "papermill": {
     "duration": 0.004546,
     "end_time": "2022-08-31T08:52:17.773172",
     "exception": false,
     "start_time": "2022-08-31T08:52:17.768626",
     "status": "completed"
    },
    "tags": []
   },
   "source": [
    "In this exercise, you'll apply what you learned in the **Inconsistent data entry** tutorial.\n",
    "\n",
    "# Setup\n",
    "\n",
    "The questions below will give you feedback on your work. Run the following cell to set up the feedback system."
   ]
  },
  {
   "cell_type": "code",
   "execution_count": 1,
   "id": "e4c2c156",
   "metadata": {
    "execution": {
     "iopub.execute_input": "2022-08-31T08:52:17.785003Z",
     "iopub.status.busy": "2022-08-31T08:52:17.784068Z",
     "iopub.status.idle": "2022-08-31T08:52:17.897541Z",
     "shell.execute_reply": "2022-08-31T08:52:17.895751Z"
    },
    "papermill": {
     "duration": 0.121906,
     "end_time": "2022-08-31T08:52:17.899927",
     "exception": false,
     "start_time": "2022-08-31T08:52:17.778021",
     "status": "completed"
    },
    "tags": []
   },
   "outputs": [
    {
     "name": "stdout",
     "output_type": "stream",
     "text": [
      "Setup Complete\n"
     ]
    }
   ],
   "source": [
    "from learntools.core import binder\n",
    "binder.bind(globals())\n",
    "from learntools.data_cleaning.ex5 import *\n",
    "print(\"Setup Complete\")"
   ]
  },
  {
   "cell_type": "markdown",
   "id": "a4623da3",
   "metadata": {
    "papermill": {
     "duration": 0.004581,
     "end_time": "2022-08-31T08:52:17.909459",
     "exception": false,
     "start_time": "2022-08-31T08:52:17.904878",
     "status": "completed"
    },
    "tags": []
   },
   "source": [
    "# Get our environment set up\n",
    "\n",
    "The first thing we'll need to do is load in the libraries and dataset we'll be using.  We use the same dataset from the tutorial."
   ]
  },
  {
   "cell_type": "code",
   "execution_count": 2,
   "id": "20d858fc",
   "metadata": {
    "execution": {
     "iopub.execute_input": "2022-08-31T08:52:17.920472Z",
     "iopub.status.busy": "2022-08-31T08:52:17.920094Z",
     "iopub.status.idle": "2022-08-31T08:52:17.935036Z",
     "shell.execute_reply": "2022-08-31T08:52:17.933729Z"
    },
    "papermill": {
     "duration": 0.023664,
     "end_time": "2022-08-31T08:52:17.937767",
     "exception": false,
     "start_time": "2022-08-31T08:52:17.914103",
     "status": "completed"
    },
    "tags": []
   },
   "outputs": [],
   "source": [
    "# modules we'll use\n",
    "import pandas as pd\n",
    "import numpy as np\n",
    "\n",
    "# helpful modules\n",
    "import fuzzywuzzy\n",
    "from fuzzywuzzy import process\n",
    "import chardet\n",
    "\n",
    "# read in all our data\n",
    "professors = pd.read_csv(\"../input/pakistan-intellectual-capital/pakistan_intellectual_capital.csv\")\n",
    "\n",
    "# set seed for reproducibility\n",
    "np.random.seed(0)"
   ]
  },
  {
   "cell_type": "markdown",
   "id": "f8345748",
   "metadata": {
    "papermill": {
     "duration": 0.004586,
     "end_time": "2022-08-31T08:52:17.947323",
     "exception": false,
     "start_time": "2022-08-31T08:52:17.942737",
     "status": "completed"
    },
    "tags": []
   },
   "source": [
    "Next, we'll redo all of the work that we did in the tutorial."
   ]
  },
  {
   "cell_type": "code",
   "execution_count": 3,
   "id": "5aa7ed0a",
   "metadata": {
    "execution": {
     "iopub.execute_input": "2022-08-31T08:52:17.958729Z",
     "iopub.status.busy": "2022-08-31T08:52:17.958042Z",
     "iopub.status.idle": "2022-08-31T08:52:17.973734Z",
     "shell.execute_reply": "2022-08-31T08:52:17.972404Z"
    },
    "papermill": {
     "duration": 0.023962,
     "end_time": "2022-08-31T08:52:17.975971",
     "exception": false,
     "start_time": "2022-08-31T08:52:17.952009",
     "status": "completed"
    },
    "tags": []
   },
   "outputs": [
    {
     "name": "stdout",
     "output_type": "stream",
     "text": [
      "All done!\n"
     ]
    }
   ],
   "source": [
    "# convert to lower case\n",
    "professors['Country'] = professors['Country'].str.lower()\n",
    "# remove trailing white spaces\n",
    "professors['Country'] = professors['Country'].str.strip()\n",
    "\n",
    "# get the top 10 closest matches to \"south korea\"\n",
    "countries = professors['Country'].unique()\n",
    "matches = fuzzywuzzy.process.extract(\"south korea\", countries, limit=10, scorer=fuzzywuzzy.fuzz.token_sort_ratio)\n",
    "\n",
    "def replace_matches_in_column(df, column, string_to_match, min_ratio = 47):\n",
    "    # get a list of unique strings\n",
    "    strings = df[column].unique()\n",
    "    \n",
    "    # get the top 10 closest matches to our input string\n",
    "    matches = fuzzywuzzy.process.extract(string_to_match, strings, \n",
    "                                         limit=10, scorer=fuzzywuzzy.fuzz.token_sort_ratio)\n",
    "\n",
    "    # only get matches with a ratio > 90\n",
    "    close_matches = [matches[0] for matches in matches if matches[1] >= min_ratio]\n",
    "\n",
    "    # get the rows of all the close matches in our dataframe\n",
    "    rows_with_matches = df[column].isin(close_matches)\n",
    "\n",
    "    # replace all rows with close matches with the input matches \n",
    "    df.loc[rows_with_matches, column] = string_to_match\n",
    "    \n",
    "    # let us know the function's done\n",
    "    print(\"All done!\")\n",
    "    \n",
    "replace_matches_in_column(df=professors, column='Country', string_to_match=\"south korea\")\n",
    "countries = professors['Country'].unique()"
   ]
  },
  {
   "cell_type": "markdown",
   "id": "6234a8a4",
   "metadata": {
    "papermill": {
     "duration": 0.004327,
     "end_time": "2022-08-31T08:52:17.985085",
     "exception": false,
     "start_time": "2022-08-31T08:52:17.980758",
     "status": "completed"
    },
    "tags": []
   },
   "source": [
    "# 1) Examine another column\n",
    "\n",
    "Write code below to take a look at all the unique values in the \"Graduated from\" column."
   ]
  },
  {
   "cell_type": "code",
   "execution_count": 4,
   "id": "b4c0e46d",
   "metadata": {
    "execution": {
     "iopub.execute_input": "2022-08-31T08:52:17.995717Z",
     "iopub.status.busy": "2022-08-31T08:52:17.995385Z",
     "iopub.status.idle": "2022-08-31T08:52:17.999646Z",
     "shell.execute_reply": "2022-08-31T08:52:17.998753Z"
    },
    "papermill": {
     "duration": 0.011974,
     "end_time": "2022-08-31T08:52:18.001479",
     "exception": false,
     "start_time": "2022-08-31T08:52:17.989505",
     "status": "completed"
    },
    "tags": []
   },
   "outputs": [],
   "source": [
    "# TODO: Your code here\n",
    "unis = professors['Graduated from'].unique()"
   ]
  },
  {
   "cell_type": "markdown",
   "id": "111f6f12",
   "metadata": {
    "papermill": {
     "duration": 0.005219,
     "end_time": "2022-08-31T08:52:18.011474",
     "exception": false,
     "start_time": "2022-08-31T08:52:18.006255",
     "status": "completed"
    },
    "tags": []
   },
   "source": [
    "Do you notice any inconsistencies in the data?  Can any of the inconsistencies in the data be fixed by removing white spaces at the beginning and end of cells?\n",
    "\n",
    "Once you have answered these questions, run the code cell below to get credit for your work."
   ]
  },
  {
   "cell_type": "code",
   "execution_count": 5,
   "id": "d9c8c19c",
   "metadata": {
    "execution": {
     "iopub.execute_input": "2022-08-31T08:52:18.024013Z",
     "iopub.status.busy": "2022-08-31T08:52:18.023542Z",
     "iopub.status.idle": "2022-08-31T08:52:18.036130Z",
     "shell.execute_reply": "2022-08-31T08:52:18.034418Z"
    },
    "papermill": {
     "duration": 0.021519,
     "end_time": "2022-08-31T08:52:18.038512",
     "exception": false,
     "start_time": "2022-08-31T08:52:18.016993",
     "status": "completed"
    },
    "tags": []
   },
   "outputs": [
    {
     "data": {
      "application/javascript": [
       "parent.postMessage({\"jupyterEvent\": \"custom.exercise_interaction\", \"data\": {\"outcomeType\": 1, \"valueTowardsCompletion\": 0.3333333333333333, \"interactionType\": 1, \"questionType\": 4, \"questionId\": \"1_ExamineProvince\", \"learnToolsVersion\": \"0.3.4\", \"failureMessage\": \"\", \"exceptionClass\": \"\", \"trace\": \"\"}}, \"*\")"
      ],
      "text/plain": [
       "<IPython.core.display.Javascript object>"
      ]
     },
     "metadata": {},
     "output_type": "display_data"
    },
    {
     "data": {
      "text/markdown": [
       "<span style=\"color:#33cc33\">Correct:</span> \n",
       "\n",
       "There are inconsistencies that can be fixed by removing white spaces at the beginning and end of cells.  For instance, \"University of Central Florida\" and \" University of Central Florida\" both appear in the column."
      ],
      "text/plain": [
       "Correct: \n",
       "\n",
       "There are inconsistencies that can be fixed by removing white spaces at the beginning and end of cells.  For instance, \"University of Central Florida\" and \" University of Central Florida\" both appear in the column."
      ]
     },
     "metadata": {},
     "output_type": "display_data"
    }
   ],
   "source": [
    "# Check your answer (Run this code cell to receive credit!)\n",
    "q1.check()"
   ]
  },
  {
   "cell_type": "code",
   "execution_count": 6,
   "id": "32b52043",
   "metadata": {
    "execution": {
     "iopub.execute_input": "2022-08-31T08:52:18.051641Z",
     "iopub.status.busy": "2022-08-31T08:52:18.050480Z",
     "iopub.status.idle": "2022-08-31T08:52:18.054944Z",
     "shell.execute_reply": "2022-08-31T08:52:18.054167Z"
    },
    "papermill": {
     "duration": 0.012781,
     "end_time": "2022-08-31T08:52:18.056719",
     "exception": false,
     "start_time": "2022-08-31T08:52:18.043938",
     "status": "completed"
    },
    "tags": []
   },
   "outputs": [],
   "source": [
    "# Line below will give you a hint\n",
    "#q1.hint()"
   ]
  },
  {
   "cell_type": "markdown",
   "id": "77614124",
   "metadata": {
    "papermill": {
     "duration": 0.004573,
     "end_time": "2022-08-31T08:52:18.066320",
     "exception": false,
     "start_time": "2022-08-31T08:52:18.061747",
     "status": "completed"
    },
    "tags": []
   },
   "source": [
    "# 2) Do some text pre-processing\n",
    "\n",
    "Convert every entry in the \"Graduated from\" column in the `professors` DataFrame to remove white spaces at the beginning and end of cells."
   ]
  },
  {
   "cell_type": "code",
   "execution_count": 7,
   "id": "0fc946d5",
   "metadata": {
    "execution": {
     "iopub.execute_input": "2022-08-31T08:52:18.078629Z",
     "iopub.status.busy": "2022-08-31T08:52:18.078269Z",
     "iopub.status.idle": "2022-08-31T08:52:18.092203Z",
     "shell.execute_reply": "2022-08-31T08:52:18.091241Z"
    },
    "papermill": {
     "duration": 0.023071,
     "end_time": "2022-08-31T08:52:18.094248",
     "exception": false,
     "start_time": "2022-08-31T08:52:18.071177",
     "status": "completed"
    },
    "tags": []
   },
   "outputs": [
    {
     "data": {
      "application/javascript": [
       "parent.postMessage({\"jupyterEvent\": \"custom.exercise_interaction\", \"data\": {\"outcomeType\": 1, \"valueTowardsCompletion\": 0.3333333333333333, \"interactionType\": 1, \"questionType\": 1, \"questionId\": \"2_TextProcessing\", \"learnToolsVersion\": \"0.3.4\", \"failureMessage\": \"\", \"exceptionClass\": \"\", \"trace\": \"\"}}, \"*\")"
      ],
      "text/plain": [
       "<IPython.core.display.Javascript object>"
      ]
     },
     "metadata": {},
     "output_type": "display_data"
    },
    {
     "data": {
      "text/markdown": [
       "<span style=\"color:#33cc33\">Correct</span>"
      ],
      "text/plain": [
       "Correct"
      ]
     },
     "metadata": {},
     "output_type": "display_data"
    }
   ],
   "source": [
    "# TODO: Your code here\n",
    "professors['Graduated from'] = professors['Graduated from'].str.strip()\n",
    "____\n",
    "\n",
    "# Check your answer\n",
    "q2.check()"
   ]
  },
  {
   "cell_type": "code",
   "execution_count": 8,
   "id": "af785098",
   "metadata": {
    "execution": {
     "iopub.execute_input": "2022-08-31T08:52:18.106602Z",
     "iopub.status.busy": "2022-08-31T08:52:18.106203Z",
     "iopub.status.idle": "2022-08-31T08:52:18.110648Z",
     "shell.execute_reply": "2022-08-31T08:52:18.109738Z"
    },
    "papermill": {
     "duration": 0.013078,
     "end_time": "2022-08-31T08:52:18.112546",
     "exception": false,
     "start_time": "2022-08-31T08:52:18.099468",
     "status": "completed"
    },
    "tags": []
   },
   "outputs": [],
   "source": [
    "# Lines below will give you a hint or solution code\n",
    "#q2.hint()\n",
    "#q2.solution()"
   ]
  },
  {
   "cell_type": "markdown",
   "id": "bd0021e7",
   "metadata": {
    "papermill": {
     "duration": 0.004653,
     "end_time": "2022-08-31T08:52:18.122163",
     "exception": false,
     "start_time": "2022-08-31T08:52:18.117510",
     "status": "completed"
    },
    "tags": []
   },
   "source": [
    "# 3) Continue working with countries\n",
    "\n",
    "In the tutorial, we focused on cleaning up inconsistencies in the \"Country\" column.  Run the code cell below to view the list of unique values that we ended with."
   ]
  },
  {
   "cell_type": "code",
   "execution_count": 9,
   "id": "d7874ca1",
   "metadata": {
    "execution": {
     "iopub.execute_input": "2022-08-31T08:52:18.134219Z",
     "iopub.status.busy": "2022-08-31T08:52:18.133877Z",
     "iopub.status.idle": "2022-08-31T08:52:18.140737Z",
     "shell.execute_reply": "2022-08-31T08:52:18.139867Z"
    },
    "papermill": {
     "duration": 0.014861,
     "end_time": "2022-08-31T08:52:18.142593",
     "exception": false,
     "start_time": "2022-08-31T08:52:18.127732",
     "status": "completed"
    },
    "tags": []
   },
   "outputs": [
    {
     "data": {
      "text/plain": [
       "array(['australia', 'austria', 'canada', 'china', 'finland', 'france',\n",
       "       'germany', 'greece', 'hongkong', 'ireland', 'italy', 'japan',\n",
       "       'macau', 'malaysia', 'mauritius', 'netherland', 'new zealand',\n",
       "       'norway', 'pakistan', 'portugal', 'russian federation',\n",
       "       'saudi arabia', 'scotland', 'singapore', 'south korea', 'spain',\n",
       "       'sweden', 'thailand', 'turkey', 'uk', 'urbana', 'usa', 'usofa'],\n",
       "      dtype=object)"
      ]
     },
     "execution_count": 9,
     "metadata": {},
     "output_type": "execute_result"
    }
   ],
   "source": [
    "# get all the unique values in the 'City' column\n",
    "countries = professors['Country'].unique()\n",
    "\n",
    "# sort them alphabetically and then take a closer look\n",
    "countries.sort()\n",
    "countries"
   ]
  },
  {
   "cell_type": "markdown",
   "id": "0be38088",
   "metadata": {
    "papermill": {
     "duration": 0.004822,
     "end_time": "2022-08-31T08:52:18.152558",
     "exception": false,
     "start_time": "2022-08-31T08:52:18.147736",
     "status": "completed"
    },
    "tags": []
   },
   "source": [
    "Take another look at the \"Country\" column and see if there's any more data cleaning we need to do.\n",
    "\n",
    "It looks like 'usa' and 'usofa' should be the same country.  Correct the \"Country\" column in the dataframe to replace 'usofa' with 'usa'.\n",
    "\n",
    "**Use the most recent version of the DataFrame (with the whitespaces at the beginning and end of cells removed) from question 2.**"
   ]
  },
  {
   "cell_type": "code",
   "execution_count": 10,
   "id": "a74fbb59",
   "metadata": {
    "execution": {
     "iopub.execute_input": "2022-08-31T08:52:18.164455Z",
     "iopub.status.busy": "2022-08-31T08:52:18.164107Z",
     "iopub.status.idle": "2022-08-31T08:52:18.176576Z",
     "shell.execute_reply": "2022-08-31T08:52:18.175642Z"
    },
    "papermill": {
     "duration": 0.02094,
     "end_time": "2022-08-31T08:52:18.178535",
     "exception": false,
     "start_time": "2022-08-31T08:52:18.157595",
     "status": "completed"
    },
    "tags": []
   },
   "outputs": [
    {
     "name": "stdout",
     "output_type": "stream",
     "text": [
      "All done!\n"
     ]
    },
    {
     "data": {
      "application/javascript": [
       "parent.postMessage({\"jupyterEvent\": \"custom.exercise_interaction\", \"data\": {\"outcomeType\": 1, \"valueTowardsCompletion\": 0.3333333333333333, \"interactionType\": 1, \"questionType\": 1, \"questionId\": \"3_WorkingWithCities\", \"learnToolsVersion\": \"0.3.4\", \"failureMessage\": \"\", \"exceptionClass\": \"\", \"trace\": \"\"}}, \"*\")"
      ],
      "text/plain": [
       "<IPython.core.display.Javascript object>"
      ]
     },
     "metadata": {},
     "output_type": "display_data"
    },
    {
     "data": {
      "text/markdown": [
       "<span style=\"color:#33cc33\">Correct</span>"
      ],
      "text/plain": [
       "Correct"
      ]
     },
     "metadata": {},
     "output_type": "display_data"
    }
   ],
   "source": [
    "# TODO: Your code here!\n",
    "matches = fuzzywuzzy.process.extract(\"usa\", countries, limit=10, scorer=fuzzywuzzy.fuzz.token_sort_ratio)\n",
    "replace_matches_in_column(df=professors, column='Country', string_to_match=\"usa\", min_ratio=70)\n",
    "____\n",
    "\n",
    "# Check your answer\n",
    "q3.check()"
   ]
  },
  {
   "cell_type": "code",
   "execution_count": 11,
   "id": "3cea3ce5",
   "metadata": {
    "execution": {
     "iopub.execute_input": "2022-08-31T08:52:18.191224Z",
     "iopub.status.busy": "2022-08-31T08:52:18.190816Z",
     "iopub.status.idle": "2022-08-31T08:52:18.195361Z",
     "shell.execute_reply": "2022-08-31T08:52:18.194017Z"
    },
    "papermill": {
     "duration": 0.013313,
     "end_time": "2022-08-31T08:52:18.197456",
     "exception": false,
     "start_time": "2022-08-31T08:52:18.184143",
     "status": "completed"
    },
    "tags": []
   },
   "outputs": [],
   "source": [
    "# Lines below will give you a hint or solution code\n",
    "#q3.hint()\n",
    "#q3.solution()"
   ]
  },
  {
   "cell_type": "markdown",
   "id": "b5faf796",
   "metadata": {
    "papermill": {
     "duration": 0.00517,
     "end_time": "2022-08-31T08:52:18.208266",
     "exception": false,
     "start_time": "2022-08-31T08:52:18.203096",
     "status": "completed"
    },
    "tags": []
   },
   "source": [
    "# Congratulations!\n",
    "\n",
    "Congratulations for completing the **Data Cleaning** course on Kaggle Learn!\n",
    "\n",
    "To practice your new skills, you're encouraged to download and investigate some of [Kaggle's Datasets](https://www.kaggle.com/datasets)."
   ]
  },
  {
   "cell_type": "markdown",
   "id": "db699377",
   "metadata": {
    "papermill": {
     "duration": 0.005024,
     "end_time": "2022-08-31T08:52:18.219069",
     "exception": false,
     "start_time": "2022-08-31T08:52:18.214045",
     "status": "completed"
    },
    "tags": []
   },
   "source": [
    "---\n",
    "\n",
    "\n",
    "\n",
    "\n",
    "*Have questions or comments? Visit the [course discussion forum](https://www.kaggle.com/learn/data-cleaning/discussion) to chat with other learners.*"
   ]
  }
 ],
 "metadata": {
  "kernelspec": {
   "display_name": "Python 3",
   "language": "python",
   "name": "python3"
  },
  "language_info": {
   "codemirror_mode": {
    "name": "ipython",
    "version": 3
   },
   "file_extension": ".py",
   "mimetype": "text/x-python",
   "name": "python",
   "nbconvert_exporter": "python",
   "pygments_lexer": "ipython3",
   "version": "3.7.12"
  },
  "papermill": {
   "default_parameters": {},
   "duration": 9.652839,
   "end_time": "2022-08-31T08:52:18.944347",
   "environment_variables": {},
   "exception": null,
   "input_path": "__notebook__.ipynb",
   "output_path": "__notebook__.ipynb",
   "parameters": {},
   "start_time": "2022-08-31T08:52:09.291508",
   "version": "2.3.4"
  }
 },
 "nbformat": 4,
 "nbformat_minor": 5
}
