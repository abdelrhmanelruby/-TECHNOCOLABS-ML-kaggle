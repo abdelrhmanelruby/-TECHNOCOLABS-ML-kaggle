{
 "cells": [
  {
   "cell_type": "markdown",
   "id": "0b688f62",
   "metadata": {
    "papermill": {
     "duration": 0.004717,
     "end_time": "2022-08-31T08:51:34.953909",
     "exception": false,
     "start_time": "2022-08-31T08:51:34.949192",
     "status": "completed"
    },
    "tags": []
   },
   "source": [
    "**This notebook is an exercise in the [Data Cleaning](https://www.kaggle.com/learn/data-cleaning) course.  You can reference the tutorial at [this link](https://www.kaggle.com/alexisbcook/character-encodings).**\n",
    "\n",
    "---\n"
   ]
  },
  {
   "cell_type": "markdown",
   "id": "743bb2ea",
   "metadata": {
    "papermill": {
     "duration": 0.003512,
     "end_time": "2022-08-31T08:51:34.961495",
     "exception": false,
     "start_time": "2022-08-31T08:51:34.957983",
     "status": "completed"
    },
    "tags": []
   },
   "source": [
    "In this exercise, you'll apply what you learned in the **Character encodings** tutorial.\n",
    "\n",
    "# Setup\n",
    "\n",
    "The questions below will give you feedback on your work. Run the following cell to set up the feedback system."
   ]
  },
  {
   "cell_type": "code",
   "execution_count": 1,
   "id": "e3e948a6",
   "metadata": {
    "execution": {
     "iopub.execute_input": "2022-08-31T08:51:34.970585Z",
     "iopub.status.busy": "2022-08-31T08:51:34.970219Z",
     "iopub.status.idle": "2022-08-31T08:51:35.054967Z",
     "shell.execute_reply": "2022-08-31T08:51:35.054063Z"
    },
    "papermill": {
     "duration": 0.091692,
     "end_time": "2022-08-31T08:51:35.056869",
     "exception": false,
     "start_time": "2022-08-31T08:51:34.965177",
     "status": "completed"
    },
    "tags": []
   },
   "outputs": [
    {
     "name": "stdout",
     "output_type": "stream",
     "text": [
      "Setup Complete\n"
     ]
    }
   ],
   "source": [
    "from learntools.core import binder\n",
    "binder.bind(globals())\n",
    "from learntools.data_cleaning.ex4 import *\n",
    "print(\"Setup Complete\")"
   ]
  },
  {
   "cell_type": "markdown",
   "id": "799fd8bc",
   "metadata": {
    "papermill": {
     "duration": 0.003514,
     "end_time": "2022-08-31T08:51:35.064390",
     "exception": false,
     "start_time": "2022-08-31T08:51:35.060876",
     "status": "completed"
    },
    "tags": []
   },
   "source": [
    "# Get our environment set up\n",
    "\n",
    "The first thing we'll need to do is load in the libraries we'll be using."
   ]
  },
  {
   "cell_type": "code",
   "execution_count": 2,
   "id": "721663e6",
   "metadata": {
    "execution": {
     "iopub.execute_input": "2022-08-31T08:51:35.074710Z",
     "iopub.status.busy": "2022-08-31T08:51:35.073319Z",
     "iopub.status.idle": "2022-08-31T08:51:35.078370Z",
     "shell.execute_reply": "2022-08-31T08:51:35.077603Z"
    },
    "papermill": {
     "duration": 0.012408,
     "end_time": "2022-08-31T08:51:35.080619",
     "exception": false,
     "start_time": "2022-08-31T08:51:35.068211",
     "status": "completed"
    },
    "tags": []
   },
   "outputs": [],
   "source": [
    "# modules we'll use\n",
    "import pandas as pd\n",
    "import numpy as np\n",
    "\n",
    "# helpful character encoding module\n",
    "import chardet\n",
    "\n",
    "# set seed for reproducibility\n",
    "np.random.seed(0)"
   ]
  },
  {
   "cell_type": "markdown",
   "id": "8fdeab25",
   "metadata": {
    "papermill": {
     "duration": 0.003644,
     "end_time": "2022-08-31T08:51:35.088471",
     "exception": false,
     "start_time": "2022-08-31T08:51:35.084827",
     "status": "completed"
    },
    "tags": []
   },
   "source": [
    "# 1) What are encodings?\n",
    "\n",
    "You're working with a dataset composed of bytes.  Run the code cell below to print a sample entry."
   ]
  },
  {
   "cell_type": "code",
   "execution_count": 3,
   "id": "85fb6f00",
   "metadata": {
    "execution": {
     "iopub.execute_input": "2022-08-31T08:51:35.098352Z",
     "iopub.status.busy": "2022-08-31T08:51:35.097539Z",
     "iopub.status.idle": "2022-08-31T08:51:35.102562Z",
     "shell.execute_reply": "2022-08-31T08:51:35.101282Z"
    },
    "papermill": {
     "duration": 0.012513,
     "end_time": "2022-08-31T08:51:35.104841",
     "exception": false,
     "start_time": "2022-08-31T08:51:35.092328",
     "status": "completed"
    },
    "tags": []
   },
   "outputs": [
    {
     "name": "stdout",
     "output_type": "stream",
     "text": [
      "b'\\xa7A\\xa6n'\n",
      "data type: <class 'bytes'>\n"
     ]
    }
   ],
   "source": [
    "sample_entry = b'\\xa7A\\xa6n'\n",
    "print(sample_entry)\n",
    "print('data type:', type(sample_entry))"
   ]
  },
  {
   "cell_type": "markdown",
   "id": "7bb0fc4d",
   "metadata": {
    "papermill": {
     "duration": 0.003921,
     "end_time": "2022-08-31T08:51:35.113186",
     "exception": false,
     "start_time": "2022-08-31T08:51:35.109265",
     "status": "completed"
    },
    "tags": []
   },
   "source": [
    "You notice that it doesn't use the standard UTF-8 encoding. \n",
    "\n",
    "Use the next code cell to create a variable `new_entry` that changes the encoding from `\"big5-tw\"` to `\"utf-8\"`.  `new_entry` should have the bytes datatype."
   ]
  },
  {
   "cell_type": "code",
   "execution_count": 4,
   "id": "a27a1b47",
   "metadata": {
    "execution": {
     "iopub.execute_input": "2022-08-31T08:51:35.123352Z",
     "iopub.status.busy": "2022-08-31T08:51:35.122255Z",
     "iopub.status.idle": "2022-08-31T08:51:35.132667Z",
     "shell.execute_reply": "2022-08-31T08:51:35.131738Z"
    },
    "papermill": {
     "duration": 0.017928,
     "end_time": "2022-08-31T08:51:35.135105",
     "exception": false,
     "start_time": "2022-08-31T08:51:35.117177",
     "status": "completed"
    },
    "tags": []
   },
   "outputs": [
    {
     "data": {
      "application/javascript": [
       "parent.postMessage({\"jupyterEvent\": \"custom.exercise_interaction\", \"data\": {\"outcomeType\": 1, \"valueTowardsCompletion\": 0.3333333333333333, \"interactionType\": 1, \"questionType\": 1, \"questionId\": \"1_EncodingsIntro\", \"learnToolsVersion\": \"0.3.4\", \"failureMessage\": \"\", \"exceptionClass\": \"\", \"trace\": \"\"}}, \"*\")"
      ],
      "text/plain": [
       "<IPython.core.display.Javascript object>"
      ]
     },
     "metadata": {},
     "output_type": "display_data"
    },
    {
     "data": {
      "text/markdown": [
       "<span style=\"color:#33cc33\">Correct</span>"
      ],
      "text/plain": [
       "Correct"
      ]
     },
     "metadata": {},
     "output_type": "display_data"
    }
   ],
   "source": [
    "X=sample_entry.decode(\"big5-tw\")\n",
    "new_entry = X.encode(\"utf-8\")\n",
    "\n",
    "# Check your answer\n",
    "q1.check()"
   ]
  },
  {
   "cell_type": "code",
   "execution_count": 5,
   "id": "82bdd75e",
   "metadata": {
    "execution": {
     "iopub.execute_input": "2022-08-31T08:51:35.145774Z",
     "iopub.status.busy": "2022-08-31T08:51:35.144768Z",
     "iopub.status.idle": "2022-08-31T08:51:35.149007Z",
     "shell.execute_reply": "2022-08-31T08:51:35.148107Z"
    },
    "papermill": {
     "duration": 0.011213,
     "end_time": "2022-08-31T08:51:35.150801",
     "exception": false,
     "start_time": "2022-08-31T08:51:35.139588",
     "status": "completed"
    },
    "tags": []
   },
   "outputs": [],
   "source": [
    "# Lines below will give you a hint or solution code\n",
    "#q1.hint()\n",
    "#q1.solution()"
   ]
  },
  {
   "cell_type": "markdown",
   "id": "65e39683",
   "metadata": {
    "papermill": {
     "duration": 0.003776,
     "end_time": "2022-08-31T08:51:35.158754",
     "exception": false,
     "start_time": "2022-08-31T08:51:35.154978",
     "status": "completed"
    },
    "tags": []
   },
   "source": [
    "# 2) Reading in files with encoding problems\n",
    "\n",
    "Use the code cell below to read in this file at path `\"../input/fatal-police-shootings-in-the-us/PoliceKillingsUS.csv\"`.  \n",
    "\n",
    "Figure out what the correct encoding should be and read in the file to a DataFrame `police_killings`."
   ]
  },
  {
   "cell_type": "code",
   "execution_count": 6,
   "id": "a71a8d4e",
   "metadata": {
    "execution": {
     "iopub.execute_input": "2022-08-31T08:51:35.167761Z",
     "iopub.status.busy": "2022-08-31T08:51:35.167461Z",
     "iopub.status.idle": "2022-08-31T08:51:36.426202Z",
     "shell.execute_reply": "2022-08-31T08:51:36.424335Z"
    },
    "papermill": {
     "duration": 1.265673,
     "end_time": "2022-08-31T08:51:36.428267",
     "exception": false,
     "start_time": "2022-08-31T08:51:35.162594",
     "status": "completed"
    },
    "tags": []
   },
   "outputs": [
    {
     "name": "stdout",
     "output_type": "stream",
     "text": [
      "{'encoding': 'Windows-1252', 'confidence': 0.73, 'language': ''}\n"
     ]
    },
    {
     "data": {
      "application/javascript": [
       "parent.postMessage({\"jupyterEvent\": \"custom.exercise_interaction\", \"data\": {\"outcomeType\": 1, \"valueTowardsCompletion\": 0.3333333333333333, \"interactionType\": 1, \"questionType\": 1, \"questionId\": \"2_ReadIn\", \"learnToolsVersion\": \"0.3.4\", \"failureMessage\": \"\", \"exceptionClass\": \"\", \"trace\": \"\"}}, \"*\")"
      ],
      "text/plain": [
       "<IPython.core.display.Javascript object>"
      ]
     },
     "metadata": {},
     "output_type": "display_data"
    },
    {
     "data": {
      "text/markdown": [
       "<span style=\"color:#33cc33\">Correct</span>"
      ],
      "text/plain": [
       "Correct"
      ]
     },
     "metadata": {},
     "output_type": "display_data"
    }
   ],
   "source": [
    "# TODO: Load in the DataFrame correctly.\n",
    "with open(\"../input/fatal-police-shootings-in-the-us/PoliceKillingsUS.csv\", 'rb') as raw:\n",
    "    Wdecode = chardet.detect(raw.read(100000))\n",
    "    \n",
    "print(Wdecode)\n",
    "police_killings = pd.read_csv(\"../input/fatal-police-shootings-in-the-us/PoliceKillingsUS.csv\",encoding ='Windows-1252')\n",
    "\n",
    "# Check your answer\n",
    "q2.check()"
   ]
  },
  {
   "cell_type": "markdown",
   "id": "6e8f81f6",
   "metadata": {
    "papermill": {
     "duration": 0.004002,
     "end_time": "2022-08-31T08:51:36.437103",
     "exception": false,
     "start_time": "2022-08-31T08:51:36.433101",
     "status": "completed"
    },
    "tags": []
   },
   "source": [
    "Feel free to use any additional code cells for supplemental work.  To get credit for finishing this question, you'll need to run `q2.check()` and get a result of **Correct**."
   ]
  },
  {
   "cell_type": "code",
   "execution_count": 7,
   "id": "e001b6b1",
   "metadata": {
    "execution": {
     "iopub.execute_input": "2022-08-31T08:51:36.447146Z",
     "iopub.status.busy": "2022-08-31T08:51:36.446831Z",
     "iopub.status.idle": "2022-08-31T08:51:36.451288Z",
     "shell.execute_reply": "2022-08-31T08:51:36.450453Z"
    },
    "papermill": {
     "duration": 0.011816,
     "end_time": "2022-08-31T08:51:36.453195",
     "exception": false,
     "start_time": "2022-08-31T08:51:36.441379",
     "status": "completed"
    },
    "tags": []
   },
   "outputs": [],
   "source": [
    "# (Optional) Use this code cell for any additional work."
   ]
  },
  {
   "cell_type": "code",
   "execution_count": 8,
   "id": "36414fd6",
   "metadata": {
    "execution": {
     "iopub.execute_input": "2022-08-31T08:51:36.465670Z",
     "iopub.status.busy": "2022-08-31T08:51:36.464395Z",
     "iopub.status.idle": "2022-08-31T08:51:36.469163Z",
     "shell.execute_reply": "2022-08-31T08:51:36.468309Z"
    },
    "papermill": {
     "duration": 0.013065,
     "end_time": "2022-08-31T08:51:36.471134",
     "exception": false,
     "start_time": "2022-08-31T08:51:36.458069",
     "status": "completed"
    },
    "tags": []
   },
   "outputs": [],
   "source": [
    "# Lines below will give you a hint or solution code\n",
    "#q2.hint()\n",
    "#q2.solution()"
   ]
  },
  {
   "cell_type": "markdown",
   "id": "c7737110",
   "metadata": {
    "papermill": {
     "duration": 0.00395,
     "end_time": "2022-08-31T08:51:36.479764",
     "exception": false,
     "start_time": "2022-08-31T08:51:36.475814",
     "status": "completed"
    },
    "tags": []
   },
   "source": [
    "# 3) Saving your files with UTF-8 encoding\n",
    "\n",
    "Save a version of the police killings dataset to CSV with UTF-8 encoding.  Your answer will be marked correct after saving this file.  \n",
    "\n",
    "Note: When using the `to_csv()` method, supply only the name of the file (e.g., `\"my_file.csv\"`).  This saves the file at the filepath `\"/kaggle/working/my_file.csv\"`."
   ]
  },
  {
   "cell_type": "code",
   "execution_count": 9,
   "id": "f8122dd4",
   "metadata": {
    "execution": {
     "iopub.execute_input": "2022-08-31T08:51:36.489680Z",
     "iopub.status.busy": "2022-08-31T08:51:36.489328Z",
     "iopub.status.idle": "2022-08-31T08:51:36.507780Z",
     "shell.execute_reply": "2022-08-31T08:51:36.507141Z"
    },
    "papermill": {
     "duration": 0.025423,
     "end_time": "2022-08-31T08:51:36.509480",
     "exception": false,
     "start_time": "2022-08-31T08:51:36.484057",
     "status": "completed"
    },
    "tags": []
   },
   "outputs": [
    {
     "data": {
      "application/javascript": [
       "parent.postMessage({\"jupyterEvent\": \"custom.exercise_interaction\", \"data\": {\"outcomeType\": 2, \"failureMessage\": \"Please save a CSV file and run this code cell again to get credit!\", \"interactionType\": 1, \"questionType\": 2, \"questionId\": \"3_SaveCSV\", \"learnToolsVersion\": \"0.3.4\", \"valueTowardsCompletion\": 0.0, \"exceptionClass\": \"\", \"trace\": \"\"}}, \"*\")"
      ],
      "text/plain": [
       "<IPython.core.display.Javascript object>"
      ]
     },
     "metadata": {},
     "output_type": "display_data"
    },
    {
     "data": {
      "text/markdown": [
       "<span style=\"color:#cc3333\">Incorrect:</span> Please save a CSV file and run this code cell again to get credit!"
      ],
      "text/plain": [
       "Incorrect: Please save a CSV file and run this code cell again to get credit!"
      ]
     },
     "metadata": {},
     "output_type": "display_data"
    }
   ],
   "source": [
    "# TODO: Save the police killings dataset to CSV\n",
    "police_killings.to_csv()\n",
    "\n",
    "# Check your answer\n",
    "q3.check()"
   ]
  },
  {
   "cell_type": "code",
   "execution_count": 10,
   "id": "9d7a7bc4",
   "metadata": {
    "execution": {
     "iopub.execute_input": "2022-08-31T08:51:36.520087Z",
     "iopub.status.busy": "2022-08-31T08:51:36.519647Z",
     "iopub.status.idle": "2022-08-31T08:51:36.522395Z",
     "shell.execute_reply": "2022-08-31T08:51:36.521903Z"
    },
    "papermill": {
     "duration": 0.009943,
     "end_time": "2022-08-31T08:51:36.524004",
     "exception": false,
     "start_time": "2022-08-31T08:51:36.514061",
     "status": "completed"
    },
    "tags": []
   },
   "outputs": [],
   "source": [
    "# Lines below will give you a hint or solution code\n",
    "#q3.hint()\n",
    "#q3.solution()"
   ]
  },
  {
   "cell_type": "markdown",
   "id": "25d304fe",
   "metadata": {
    "papermill": {
     "duration": 0.004108,
     "end_time": "2022-08-31T08:51:36.533299",
     "exception": false,
     "start_time": "2022-08-31T08:51:36.529191",
     "status": "completed"
    },
    "tags": []
   },
   "source": [
    "# (Optional) More practice\n",
    "\n",
    "Check out [this dataset of files in different character encodings](https://www.kaggle.com/rtatman/character-encoding-examples). Can you read in all the files with their original encodings and them save them out as UTF-8 files?\n",
    "\n",
    "If you have a file that's in UTF-8 but has just a couple of weird-looking characters in it, you can try out the [ftfy module](https://ftfy.readthedocs.io/en/latest/#) and see if it helps. \n",
    "\n",
    "# Keep going\n",
    "\n",
    "In the final lesson, learn how to [**clean up inconsistent text entries**](https://www.kaggle.com/alexisbcook/inconsistent-data-entry) in your dataset."
   ]
  },
  {
   "cell_type": "markdown",
   "id": "1c72c714",
   "metadata": {
    "papermill": {
     "duration": 0.004091,
     "end_time": "2022-08-31T08:51:36.541661",
     "exception": false,
     "start_time": "2022-08-31T08:51:36.537570",
     "status": "completed"
    },
    "tags": []
   },
   "source": [
    "---\n",
    "\n",
    "\n",
    "\n",
    "\n",
    "*Have questions or comments? Visit the [course discussion forum](https://www.kaggle.com/learn/data-cleaning/discussion) to chat with other learners.*"
   ]
  }
 ],
 "metadata": {
  "kernelspec": {
   "display_name": "Python 3",
   "language": "python",
   "name": "python3"
  },
  "language_info": {
   "codemirror_mode": {
    "name": "ipython",
    "version": 3
   },
   "file_extension": ".py",
   "mimetype": "text/x-python",
   "name": "python",
   "nbconvert_exporter": "python",
   "pygments_lexer": "ipython3",
   "version": "3.7.12"
  },
  "papermill": {
   "default_parameters": {},
   "duration": 9.839288,
   "end_time": "2022-08-31T08:51:37.165002",
   "environment_variables": {},
   "exception": null,
   "input_path": "__notebook__.ipynb",
   "output_path": "__notebook__.ipynb",
   "parameters": {},
   "start_time": "2022-08-31T08:51:27.325714",
   "version": "2.3.4"
  }
 },
 "nbformat": 4,
 "nbformat_minor": 5
}
