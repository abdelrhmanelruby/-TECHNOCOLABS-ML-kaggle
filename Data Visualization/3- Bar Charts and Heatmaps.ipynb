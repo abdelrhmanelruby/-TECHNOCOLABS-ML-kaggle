{
 "cells": [
  {
   "cell_type": "markdown",
   "id": "456e338d",
   "metadata": {
    "papermill": {
     "duration": 0.008466,
     "end_time": "2022-08-31T08:57:04.639850",
     "exception": false,
     "start_time": "2022-08-31T08:57:04.631384",
     "status": "completed"
    },
    "tags": []
   },
   "source": [
    "**This notebook is an exercise in the [Data Visualization](https://www.kaggle.com/learn/data-visualization) course.  You can reference the tutorial at [this link](https://www.kaggle.com/alexisbcook/bar-charts-and-heatmaps).**\n",
    "\n",
    "---\n"
   ]
  },
  {
   "cell_type": "markdown",
   "id": "73b1c724",
   "metadata": {
    "papermill": {
     "duration": 0.005658,
     "end_time": "2022-08-31T08:57:04.651750",
     "exception": false,
     "start_time": "2022-08-31T08:57:04.646092",
     "status": "completed"
    },
    "tags": []
   },
   "source": [
    "In this exercise, you will use your new knowledge to propose a solution to a real-world scenario.  To succeed, you will need to import data into Python, answer questions using the data, and generate **bar charts** and **heatmaps** to understand patterns in the data.\n",
    "\n",
    "## Scenario\n",
    "\n",
    "You've recently decided to create your very own video game!  As an avid reader of [IGN Game Reviews](https://www.ign.com/reviews/games), you hear about all of the most recent game releases, along with the ranking they've received from experts, ranging from 0 (_Disaster_) to 10 (_Masterpiece_).\n",
    "\n",
    "![ex2_ign](https://i.imgur.com/Oh06Fu1.png)\n",
    "\n",
    "You're interested in using [IGN reviews](https://www.ign.com/reviews/games) to guide the design of your upcoming game.  Thankfully, someone has summarized the rankings in a really useful CSV file that you can use to guide your analysis.\n",
    "\n",
    "## Setup\n",
    "\n",
    "Run the next cell to import and configure the Python libraries that you need to complete the exercise."
   ]
  },
  {
   "cell_type": "code",
   "execution_count": 1,
   "id": "80ad7cea",
   "metadata": {
    "execution": {
     "iopub.execute_input": "2022-08-31T08:57:04.668861Z",
     "iopub.status.busy": "2022-08-31T08:57:04.668061Z",
     "iopub.status.idle": "2022-08-31T08:57:05.810097Z",
     "shell.execute_reply": "2022-08-31T08:57:05.809073Z"
    },
    "papermill": {
     "duration": 1.155723,
     "end_time": "2022-08-31T08:57:05.813468",
     "exception": false,
     "start_time": "2022-08-31T08:57:04.657745",
     "status": "completed"
    },
    "tags": []
   },
   "outputs": [
    {
     "name": "stdout",
     "output_type": "stream",
     "text": [
      "Setup Complete\n"
     ]
    }
   ],
   "source": [
    "import pandas as pd\n",
    "pd.plotting.register_matplotlib_converters()\n",
    "import matplotlib.pyplot as plt\n",
    "%matplotlib inline\n",
    "import seaborn as sns\n",
    "print(\"Setup Complete\")"
   ]
  },
  {
   "cell_type": "markdown",
   "id": "9b7a18ec",
   "metadata": {
    "papermill": {
     "duration": 0.005707,
     "end_time": "2022-08-31T08:57:05.826054",
     "exception": false,
     "start_time": "2022-08-31T08:57:05.820347",
     "status": "completed"
    },
    "tags": []
   },
   "source": [
    "The questions below will give you feedback on your work. Run the following cell to set up our feedback system."
   ]
  },
  {
   "cell_type": "code",
   "execution_count": 2,
   "id": "3889224b",
   "metadata": {
    "execution": {
     "iopub.execute_input": "2022-08-31T08:57:05.839745Z",
     "iopub.status.busy": "2022-08-31T08:57:05.839330Z",
     "iopub.status.idle": "2022-08-31T08:57:05.905168Z",
     "shell.execute_reply": "2022-08-31T08:57:05.903755Z"
    },
    "papermill": {
     "duration": 0.07612,
     "end_time": "2022-08-31T08:57:05.908065",
     "exception": false,
     "start_time": "2022-08-31T08:57:05.831945",
     "status": "completed"
    },
    "tags": []
   },
   "outputs": [
    {
     "name": "stdout",
     "output_type": "stream",
     "text": [
      "Setup Complete\n"
     ]
    }
   ],
   "source": [
    "# Set up code checking\n",
    "import os\n",
    "if not os.path.exists(\"../input/ign_scores.csv\"):\n",
    "    os.symlink(\"../input/data-for-datavis/ign_scores.csv\", \"../input/ign_scores.csv\") \n",
    "from learntools.core import binder\n",
    "binder.bind(globals())\n",
    "from learntools.data_viz_to_coder.ex3 import *\n",
    "print(\"Setup Complete\")"
   ]
  },
  {
   "cell_type": "markdown",
   "id": "b5766b9c",
   "metadata": {
    "papermill": {
     "duration": 0.005664,
     "end_time": "2022-08-31T08:57:05.919835",
     "exception": false,
     "start_time": "2022-08-31T08:57:05.914171",
     "status": "completed"
    },
    "tags": []
   },
   "source": [
    "## Step 1: Load the data\n",
    "\n",
    "Read the IGN data file into `ign_data`.  Use the `\"Platform\"` column to label the rows."
   ]
  },
  {
   "cell_type": "code",
   "execution_count": 3,
   "id": "7f0dce0d",
   "metadata": {
    "execution": {
     "iopub.execute_input": "2022-08-31T08:57:05.933221Z",
     "iopub.status.busy": "2022-08-31T08:57:05.932792Z",
     "iopub.status.idle": "2022-08-31T08:57:05.947689Z",
     "shell.execute_reply": "2022-08-31T08:57:05.946901Z"
    },
    "papermill": {
     "duration": 0.023947,
     "end_time": "2022-08-31T08:57:05.949594",
     "exception": false,
     "start_time": "2022-08-31T08:57:05.925647",
     "status": "completed"
    },
    "tags": []
   },
   "outputs": [
    {
     "data": {
      "application/javascript": [
       "parent.postMessage({\"jupyterEvent\": \"custom.exercise_interaction\", \"data\": {\"outcomeType\": 1, \"valueTowardsCompletion\": 0.5, \"interactionType\": 1, \"questionType\": 1, \"questionId\": \"1_LoadIGNData\", \"learnToolsVersion\": \"0.3.4\", \"failureMessage\": \"\", \"exceptionClass\": \"\", \"trace\": \"\"}}, \"*\")"
      ],
      "text/plain": [
       "<IPython.core.display.Javascript object>"
      ]
     },
     "metadata": {},
     "output_type": "display_data"
    },
    {
     "data": {
      "text/markdown": [
       "<span style=\"color:#33cc33\">Correct</span>"
      ],
      "text/plain": [
       "Correct"
      ]
     },
     "metadata": {},
     "output_type": "display_data"
    }
   ],
   "source": [
    "# Path of the file to read\n",
    "ign_filepath = \"../input/ign_scores.csv\"\n",
    "\n",
    "# Fill in the line below to read the file into a variable ign_data\n",
    "ign_data = pd.read_csv(ign_filepath,index_col=\"Platform\")\n",
    "\n",
    "# Run the line below with no changes to check that you've loaded the data correctly\n",
    "step_1.check()"
   ]
  },
  {
   "cell_type": "code",
   "execution_count": 4,
   "id": "11b291ca",
   "metadata": {
    "execution": {
     "iopub.execute_input": "2022-08-31T08:57:05.964013Z",
     "iopub.status.busy": "2022-08-31T08:57:05.963269Z",
     "iopub.status.idle": "2022-08-31T08:57:05.967166Z",
     "shell.execute_reply": "2022-08-31T08:57:05.966404Z"
    },
    "papermill": {
     "duration": 0.013549,
     "end_time": "2022-08-31T08:57:05.969308",
     "exception": false,
     "start_time": "2022-08-31T08:57:05.955759",
     "status": "completed"
    },
    "tags": []
   },
   "outputs": [],
   "source": [
    "# Lines below will give you a hint or solution code\n",
    "#step_1.hint()\n",
    "#step_1.solution()"
   ]
  },
  {
   "cell_type": "markdown",
   "id": "9b142983",
   "metadata": {
    "papermill": {
     "duration": 0.006019,
     "end_time": "2022-08-31T08:57:05.981555",
     "exception": false,
     "start_time": "2022-08-31T08:57:05.975536",
     "status": "completed"
    },
    "tags": []
   },
   "source": [
    "## Step 2: Review the data\n",
    "\n",
    "Use a Python command to print the entire dataset."
   ]
  },
  {
   "cell_type": "code",
   "execution_count": 5,
   "id": "395a9a0a",
   "metadata": {
    "execution": {
     "iopub.execute_input": "2022-08-31T08:57:05.996111Z",
     "iopub.status.busy": "2022-08-31T08:57:05.995353Z",
     "iopub.status.idle": "2022-08-31T08:57:06.012899Z",
     "shell.execute_reply": "2022-08-31T08:57:06.011950Z"
    },
    "papermill": {
     "duration": 0.028106,
     "end_time": "2022-08-31T08:57:06.015916",
     "exception": false,
     "start_time": "2022-08-31T08:57:05.987810",
     "status": "completed"
    },
    "tags": []
   },
   "outputs": [
    {
     "name": "stdout",
     "output_type": "stream",
     "text": [
      "                        Action  Action, Adventure  Adventure  Fighting  \\\n",
      "Platform                                                                 \n",
      "Dreamcast             6.882857           7.511111   6.281818  8.200000   \n",
      "Game Boy Advance      6.373077           7.507692   6.057143  6.226316   \n",
      "Game Boy Color        6.272727           8.166667   5.307692  4.500000   \n",
      "GameCube              6.532584           7.608333   6.753846  7.422222   \n",
      "Nintendo 3DS          6.670833           7.481818   7.414286  6.614286   \n",
      "Nintendo 64           6.649057           8.250000   7.000000  5.681250   \n",
      "Nintendo DS           5.903608           7.240000   6.259804  6.320000   \n",
      "Nintendo DSi          6.827027           8.500000   6.090909  7.500000   \n",
      "PC                    6.805791           7.334746   7.136798  7.166667   \n",
      "PlayStation           6.016406           7.933333   6.313725  6.553731   \n",
      "PlayStation 2         6.467361           7.250000   6.315152  7.306349   \n",
      "PlayStation 3         6.853819           7.306154   6.820988  7.710938   \n",
      "PlayStation 4         7.550000           7.835294   7.388571  7.280000   \n",
      "PlayStation Portable  6.467797           7.000000   6.938095  6.822222   \n",
      "PlayStation Vita      7.173077           6.133333   8.057143  7.527273   \n",
      "Wii                   6.262718           7.294643   6.234043  6.733333   \n",
      "Wireless              7.041699           7.312500   6.972414  6.740000   \n",
      "Xbox                  6.819512           7.479032   6.821429  7.029630   \n",
      "Xbox 360              6.719048           7.137838   6.857353  7.552239   \n",
      "Xbox One              7.702857           7.566667   7.254545  7.171429   \n",
      "iPhone                6.865445           7.764286   7.745833  6.087500   \n",
      "\n",
      "                      Platformer    Puzzle       RPG    Racing   Shooter  \\\n",
      "Platform                                                                   \n",
      "Dreamcast               8.340000  8.088889  7.700000  7.042500  7.616667   \n",
      "Game Boy Advance        6.970588  6.532143  7.542857  6.657143  6.444444   \n",
      "Game Boy Color          6.352941  6.583333  7.285714  5.897436  4.500000   \n",
      "GameCube                6.665714  6.133333  7.890909  6.852632  6.981818   \n",
      "Nintendo 3DS            7.503448  8.000000  7.719231  6.900000  7.033333   \n",
      "Nintendo 64             6.889655  7.461538  6.050000  6.939623  8.042857   \n",
      "Nintendo DS             6.840000  6.604615  7.222619  6.038636  6.965217   \n",
      "Nintendo DSi            7.250000  6.810526  7.166667  6.563636  6.500000   \n",
      "PC                      7.410938  6.924706  7.759930  7.032418  7.084878   \n",
      "PlayStation             6.579070  6.757895  7.910000  6.773387  6.424000   \n",
      "PlayStation 2           7.068421  6.354545  7.473077  6.585065  6.641667   \n",
      "PlayStation 3           7.735714  7.350000  7.436111  6.978571  7.219553   \n",
      "PlayStation 4           8.390909  7.400000  7.944000  7.590000  7.804444   \n",
      "PlayStation Portable    7.194737  6.726667  6.817778  6.401961  7.071053   \n",
      "PlayStation Vita        8.568750  8.250000  7.337500  6.300000  7.660000   \n",
      "Wii                     7.054255  6.426984  7.410345  5.011667  6.479798   \n",
      "Wireless                7.509091  7.360550  8.260000  6.898305  6.906780   \n",
      "Xbox                    7.303448  5.125000  8.277778  7.021591  7.485417   \n",
      "Xbox 360                7.559574  7.141026  7.650000  6.996154  7.338153   \n",
      "Xbox One                6.733333  8.100000  8.291667  8.163636  8.020000   \n",
      "iPhone                  7.471930  7.810784  7.185185  7.315789  6.995588   \n",
      "\n",
      "                      Simulation    Sports  Strategy  \n",
      "Platform                                              \n",
      "Dreamcast               7.628571  7.272222  6.433333  \n",
      "Game Boy Advance        6.928571  6.694444  7.175000  \n",
      "Game Boy Color          5.900000  5.790698  7.400000  \n",
      "GameCube                8.028571  7.481319  7.116667  \n",
      "Nintendo 3DS            7.700000  6.388889  7.900000  \n",
      "Nintendo 64             5.675000  6.967857  6.900000  \n",
      "Nintendo DS             5.874359  5.936667  6.644737  \n",
      "Nintendo DSi            5.195652  5.644444  6.566667  \n",
      "PC                      7.104889  6.902424  7.310207  \n",
      "PlayStation             6.918182  6.751220  6.496875  \n",
      "PlayStation 2           7.152632  7.197826  7.238889  \n",
      "PlayStation 3           7.142857  7.485816  7.355172  \n",
      "PlayStation 4           9.250000  7.430000  6.566667  \n",
      "PlayStation Portable    6.761538  6.956790  6.550000  \n",
      "PlayStation Vita        5.725000  7.130000  8.900000  \n",
      "Wii                     6.327027  5.966901  6.975000  \n",
      "Wireless                7.802857  7.417699  7.542857  \n",
      "Xbox                    7.155556  7.884397  7.313333  \n",
      "Xbox 360                7.325000  7.317857  7.112245  \n",
      "Xbox One                7.733333  7.331818  8.500000  \n",
      "iPhone                  7.328571  7.152174  7.534921  \n"
     ]
    }
   ],
   "source": [
    "# Print the data\n",
    "print(ign_data) # Your code here"
   ]
  },
  {
   "cell_type": "markdown",
   "id": "aa2ddc65",
   "metadata": {
    "papermill": {
     "duration": 0.006211,
     "end_time": "2022-08-31T08:57:06.029818",
     "exception": false,
     "start_time": "2022-08-31T08:57:06.023607",
     "status": "completed"
    },
    "tags": []
   },
   "source": [
    "The dataset that you've just printed shows the average score, by platform and genre.  Use the data to answer the questions below."
   ]
  },
  {
   "cell_type": "code",
   "execution_count": 6,
   "id": "9225d9ae",
   "metadata": {
    "execution": {
     "iopub.execute_input": "2022-08-31T08:57:06.044775Z",
     "iopub.status.busy": "2022-08-31T08:57:06.044030Z",
     "iopub.status.idle": "2022-08-31T08:57:06.052117Z",
     "shell.execute_reply": "2022-08-31T08:57:06.051106Z"
    },
    "papermill": {
     "duration": 0.017999,
     "end_time": "2022-08-31T08:57:06.054341",
     "exception": false,
     "start_time": "2022-08-31T08:57:06.036342",
     "status": "completed"
    },
    "tags": []
   },
   "outputs": [
    {
     "data": {
      "application/javascript": [
       "parent.postMessage({\"jupyterEvent\": \"custom.exercise_interaction\", \"data\": {\"outcomeType\": 1, \"valueTowardsCompletion\": 0.5, \"interactionType\": 1, \"questionType\": 1, \"questionId\": \"2_ReviewData\", \"learnToolsVersion\": \"0.3.4\", \"failureMessage\": \"\", \"exceptionClass\": \"\", \"trace\": \"\"}}, \"*\")"
      ],
      "text/plain": [
       "<IPython.core.display.Javascript object>"
      ]
     },
     "metadata": {},
     "output_type": "display_data"
    },
    {
     "data": {
      "text/markdown": [
       "<span style=\"color:#33cc33\">Correct</span>"
      ],
      "text/plain": [
       "Correct"
      ]
     },
     "metadata": {},
     "output_type": "display_data"
    }
   ],
   "source": [
    "# Fill in the line below: What is the highest average score received by PC games,\n",
    "# for any genre?\n",
    "high_score = 7.759930\n",
    "\n",
    "# Fill in the line below: On the Playstation Vita platform, which genre has the \n",
    "# lowest average score? Please provide the name of the column, and put your answer \n",
    "# in single quotes (e.g., 'Action', 'Adventure', 'Fighting', etc.)\n",
    "worst_genre = 'Simulation'\n",
    "\n",
    "# Check your answers\n",
    "step_2.check()"
   ]
  },
  {
   "cell_type": "code",
   "execution_count": 7,
   "id": "3101ace0",
   "metadata": {
    "execution": {
     "iopub.execute_input": "2022-08-31T08:57:06.070506Z",
     "iopub.status.busy": "2022-08-31T08:57:06.069793Z",
     "iopub.status.idle": "2022-08-31T08:57:06.073778Z",
     "shell.execute_reply": "2022-08-31T08:57:06.072857Z"
    },
    "papermill": {
     "duration": 0.014764,
     "end_time": "2022-08-31T08:57:06.076152",
     "exception": false,
     "start_time": "2022-08-31T08:57:06.061388",
     "status": "completed"
    },
    "tags": []
   },
   "outputs": [],
   "source": [
    "# Lines below will give you a hint or solution code\n",
    "#step_2.hint()\n",
    "#step_2.solution()"
   ]
  },
  {
   "cell_type": "markdown",
   "id": "83456fe3",
   "metadata": {
    "papermill": {
     "duration": 0.006247,
     "end_time": "2022-08-31T08:57:06.089830",
     "exception": false,
     "start_time": "2022-08-31T08:57:06.083583",
     "status": "completed"
    },
    "tags": []
   },
   "source": [
    "## Step 3: Which platform is best?\n",
    "\n",
    "Since you can remember, your favorite video game has been [**Mario Kart Wii**](https://www.ign.com/games/mario-kart-wii), a racing game released for the Wii platform in 2008.  And, IGN agrees with you that it is a great game -- their rating for this game is a whopping 8.9!  Inspired by the success of this game, you're considering creating your very own racing game for the Wii platform.\n",
    "\n",
    "#### Part A\n",
    "\n",
    "Create a bar chart that shows the average score for **racing** games, for each platform.  Your chart should have one bar for each platform. "
   ]
  },
  {
   "cell_type": "code",
   "execution_count": 8,
   "id": "1ddcb8ef",
   "metadata": {
    "execution": {
     "iopub.execute_input": "2022-08-31T08:57:06.105528Z",
     "iopub.status.busy": "2022-08-31T08:57:06.104290Z",
     "iopub.status.idle": "2022-08-31T08:57:06.493695Z",
     "shell.execute_reply": "2022-08-31T08:57:06.492545Z"
    },
    "papermill": {
     "duration": 0.399401,
     "end_time": "2022-08-31T08:57:06.495994",
     "exception": false,
     "start_time": "2022-08-31T08:57:06.096593",
     "status": "completed"
    },
    "tags": []
   },
   "outputs": [
    {
     "data": {
      "application/javascript": [
       "parent.postMessage({\"jupyterEvent\": \"custom.exercise_interaction\", \"data\": {\"outcomeType\": 1, \"valueTowardsCompletion\": 0.5, \"interactionType\": 1, \"questionType\": 2, \"questionId\": \"3.1_PlotRacing\", \"learnToolsVersion\": \"0.3.4\", \"failureMessage\": \"\", \"exceptionClass\": \"\", \"trace\": \"\"}}, \"*\")"
      ],
      "text/plain": [
       "<IPython.core.display.Javascript object>"
      ]
     },
     "metadata": {},
     "output_type": "display_data"
    },
    {
     "data": {
      "text/markdown": [
       "<span style=\"color:#33cc33\">Correct</span>"
      ],
      "text/plain": [
       "Correct"
      ]
     },
     "metadata": {},
     "output_type": "display_data"
    },
    {
     "data": {
      "image/png": "[encoded data removed]",
      "text/plain": [
       "<Figure size 432x288 with 1 Axes>"
      ]
     },
     "metadata": {
      "needs_background": "light"
     },
     "output_type": "display_data"
    }
   ],
   "source": [
    "# Bar chart showing average score for racing games by platform\n",
    "sns.barplot(x=ign_data['Racing'],y=ign_data.index) # Your code here\n",
    "\n",
    "# Check your answer\n",
    "step_3.a.check()"
   ]
  },
  {
   "cell_type": "code",
   "execution_count": 9,
   "id": "6e391400",
   "metadata": {
    "execution": {
     "iopub.execute_input": "2022-08-31T08:57:06.512502Z",
     "iopub.status.busy": "2022-08-31T08:57:06.511333Z",
     "iopub.status.idle": "2022-08-31T08:57:06.516754Z",
     "shell.execute_reply": "2022-08-31T08:57:06.515720Z"
    },
    "papermill": {
     "duration": 0.016161,
     "end_time": "2022-08-31T08:57:06.519292",
     "exception": false,
     "start_time": "2022-08-31T08:57:06.503131",
     "status": "completed"
    },
    "tags": []
   },
   "outputs": [],
   "source": [
    "# Lines below will give you a hint or solution code\n",
    "#step_3.a.hint()\n",
    "#step_3.a.solution_plot()"
   ]
  },
  {
   "cell_type": "markdown",
   "id": "3f965b4e",
   "metadata": {
    "papermill": {
     "duration": 0.006994,
     "end_time": "2022-08-31T08:57:06.533575",
     "exception": false,
     "start_time": "2022-08-31T08:57:06.526581",
     "status": "completed"
    },
    "tags": []
   },
   "source": [
    "#### Part B\n",
    "\n",
    "Based on the bar chart, do you expect a racing game for the **Wii** platform to receive a high rating?  If not, what gaming platform seems to be the best alternative?"
   ]
  },
  {
   "cell_type": "code",
   "execution_count": 10,
   "id": "03346a0e",
   "metadata": {
    "execution": {
     "iopub.execute_input": "2022-08-31T08:57:06.549869Z",
     "iopub.status.busy": "2022-08-31T08:57:06.549422Z",
     "iopub.status.idle": "2022-08-31T08:57:06.554513Z",
     "shell.execute_reply": "2022-08-31T08:57:06.553735Z"
    },
    "papermill": {
     "duration": 0.015907,
     "end_time": "2022-08-31T08:57:06.556837",
     "exception": false,
     "start_time": "2022-08-31T08:57:06.540930",
     "status": "completed"
    },
    "tags": []
   },
   "outputs": [],
   "source": [
    "#step_3.b.hint()"
   ]
  },
  {
   "cell_type": "code",
   "execution_count": 11,
   "id": "ffa40bc4",
   "metadata": {
    "execution": {
     "iopub.execute_input": "2022-08-31T08:57:06.573587Z",
     "iopub.status.busy": "2022-08-31T08:57:06.572829Z",
     "iopub.status.idle": "2022-08-31T08:57:06.581851Z",
     "shell.execute_reply": "2022-08-31T08:57:06.580725Z"
    },
    "papermill": {
     "duration": 0.020008,
     "end_time": "2022-08-31T08:57:06.584133",
     "exception": false,
     "start_time": "2022-08-31T08:57:06.564125",
     "status": "completed"
    },
    "tags": []
   },
   "outputs": [
    {
     "data": {
      "application/javascript": [
       "parent.postMessage({\"jupyterEvent\": \"custom.exercise_interaction\", \"data\": {\"interactionType\": 3, \"questionType\": 4, \"questionId\": \"3.2_ThinkRacing\", \"learnToolsVersion\": \"0.3.4\", \"valueTowardsCompletion\": 0.0, \"failureMessage\": \"\", \"exceptionClass\": \"\", \"trace\": \"\", \"outcomeType\": 4}}, \"*\")"
      ],
      "text/plain": [
       "<IPython.core.display.Javascript object>"
      ]
     },
     "metadata": {},
     "output_type": "display_data"
    },
    {
     "data": {
      "text/markdown": [
       "<span style=\"color:#33cc99\">Solution:</span> Based on the data, we should not expect a racing game for the Wii platform to receive a high rating.  In fact, on average, racing games for Wii score lower than any other platform.  Xbox One seems to be the best alternative, since it has the highest average ratings."
      ],
      "text/plain": [
       "Solution: Based on the data, we should not expect a racing game for the Wii platform to receive a high rating.  In fact, on average, racing games for Wii score lower than any other platform.  Xbox One seems to be the best alternative, since it has the highest average ratings."
      ]
     },
     "metadata": {},
     "output_type": "display_data"
    }
   ],
   "source": [
    "# Check your answer (Run this code cell to receive credit!)\n",
    "step_3.b.solution()"
   ]
  },
  {
   "cell_type": "markdown",
   "id": "7973c346",
   "metadata": {
    "papermill": {
     "duration": 0.00705,
     "end_time": "2022-08-31T08:57:06.598977",
     "exception": false,
     "start_time": "2022-08-31T08:57:06.591927",
     "status": "completed"
    },
    "tags": []
   },
   "source": [
    "## Step 4: All possible combinations!\n",
    "\n",
    "Eventually, you decide against creating a racing game for Wii, but you're still committed to creating your own video game!  Since your gaming interests are pretty broad (_... you generally love most video games_), you decide to use the IGN data to inform your new choice of genre and platform.\n",
    "\n",
    "#### Part A\n",
    "\n",
    "Use the data to create a heatmap of average score by genre and platform.  "
   ]
  },
  {
   "cell_type": "code",
   "execution_count": 12,
   "id": "345c6453",
   "metadata": {
    "execution": {
     "iopub.execute_input": "2022-08-31T08:57:06.615748Z",
     "iopub.status.busy": "2022-08-31T08:57:06.615031Z",
     "iopub.status.idle": "2022-08-31T08:57:08.133229Z",
     "shell.execute_reply": "2022-08-31T08:57:08.131863Z"
    },
    "papermill": {
     "duration": 1.53013,
     "end_time": "2022-08-31T08:57:08.136433",
     "exception": false,
     "start_time": "2022-08-31T08:57:06.606303",
     "status": "completed"
    },
    "tags": []
   },
   "outputs": [
    {
     "data": {
      "application/javascript": [
       "parent.postMessage({\"jupyterEvent\": \"custom.exercise_interaction\", \"data\": {\"outcomeType\": 1, \"valueTowardsCompletion\": 0.5, \"interactionType\": 1, \"questionType\": 2, \"questionId\": \"4.1_PlotHeat\", \"learnToolsVersion\": \"0.3.4\", \"failureMessage\": \"\", \"exceptionClass\": \"\", \"trace\": \"\"}}, \"*\")"
      ],
      "text/plain": [
       "<IPython.core.display.Javascript object>"
      ]
     },
     "metadata": {},
     "output_type": "display_data"
    },
    {
     "data": {
      "text/markdown": [
       "<span style=\"color:#33cc33\">Correct</span>"
      ],
      "text/plain": [
       "Correct"
      ]
     },
     "metadata": {},
     "output_type": "display_data"
    },
    {
     "data": {
      "image/png": "[encoded data removed]",
      "text/plain": [
       "<Figure size 1440x1440 with 2 Axes>"
      ]
     },
     "metadata": {
      "needs_background": "light"
     },
     "output_type": "display_data"
    }
   ],
   "source": [
    "# Heatmap showing average game score by platform and genre\n",
    "plt.figure(figsize=(20,20))\n",
    "sns.heatmap(data=ign_data,annot=True) # Your code here\n",
    "\n",
    "# Check your answer\n",
    "step_4.a.check()"
   ]
  },
  {
   "cell_type": "code",
   "execution_count": 13,
   "id": "8a439117",
   "metadata": {
    "execution": {
     "iopub.execute_input": "2022-08-31T08:57:08.157498Z",
     "iopub.status.busy": "2022-08-31T08:57:08.157106Z",
     "iopub.status.idle": "2022-08-31T08:57:08.161854Z",
     "shell.execute_reply": "2022-08-31T08:57:08.160622Z"
    },
    "papermill": {
     "duration": 0.017897,
     "end_time": "2022-08-31T08:57:08.164035",
     "exception": false,
     "start_time": "2022-08-31T08:57:08.146138",
     "status": "completed"
    },
    "tags": []
   },
   "outputs": [],
   "source": [
    "# Lines below will give you a hint or solution code\n",
    "#step_4.a.hint()\n",
    "#step_4.a.solution_plot()"
   ]
  },
  {
   "cell_type": "markdown",
   "id": "8a1fbc45",
   "metadata": {
    "papermill": {
     "duration": 0.009365,
     "end_time": "2022-08-31T08:57:08.182942",
     "exception": false,
     "start_time": "2022-08-31T08:57:08.173577",
     "status": "completed"
    },
    "tags": []
   },
   "source": [
    "#### Part B\n",
    "\n",
    "Which combination of genre and platform receives the highest average ratings?  Which combination receives the lowest average rankings?"
   ]
  },
  {
   "cell_type": "code",
   "execution_count": 14,
   "id": "a3061dc9",
   "metadata": {
    "execution": {
     "iopub.execute_input": "2022-08-31T08:57:08.204624Z",
     "iopub.status.busy": "2022-08-31T08:57:08.203510Z",
     "iopub.status.idle": "2022-08-31T08:57:08.207862Z",
     "shell.execute_reply": "2022-08-31T08:57:08.207018Z"
    },
    "papermill": {
     "duration": 0.017364,
     "end_time": "2022-08-31T08:57:08.209892",
     "exception": false,
     "start_time": "2022-08-31T08:57:08.192528",
     "status": "completed"
    },
    "tags": []
   },
   "outputs": [],
   "source": [
    "#step_4.b.hint()"
   ]
  },
  {
   "cell_type": "code",
   "execution_count": 15,
   "id": "0c96fb71",
   "metadata": {
    "execution": {
     "iopub.execute_input": "2022-08-31T08:57:08.231176Z",
     "iopub.status.busy": "2022-08-31T08:57:08.230320Z",
     "iopub.status.idle": "2022-08-31T08:57:08.237745Z",
     "shell.execute_reply": "2022-08-31T08:57:08.236926Z"
    },
    "papermill": {
     "duration": 0.020328,
     "end_time": "2022-08-31T08:57:08.239728",
     "exception": false,
     "start_time": "2022-08-31T08:57:08.219400",
     "status": "completed"
    },
    "tags": []
   },
   "outputs": [
    {
     "data": {
      "application/javascript": [
       "parent.postMessage({\"jupyterEvent\": \"custom.exercise_interaction\", \"data\": {\"interactionType\": 3, \"questionType\": 4, \"questionId\": \"4.2_ThinkHeat\", \"learnToolsVersion\": \"0.3.4\", \"valueTowardsCompletion\": 0.0, \"failureMessage\": \"\", \"exceptionClass\": \"\", \"trace\": \"\", \"outcomeType\": 4}}, \"*\")"
      ],
      "text/plain": [
       "<IPython.core.display.Javascript object>"
      ]
     },
     "metadata": {},
     "output_type": "display_data"
    },
    {
     "data": {
      "text/markdown": [
       "<span style=\"color:#33cc99\">Solution:</span> **Simulation** games for **Playstation 4** receive the highest average ratings (9.2). **Shooting** and **Fighting** games for **Game Boy Color** receive the lowest average rankings (4.5)."
      ],
      "text/plain": [
       "Solution: **Simulation** games for **Playstation 4** receive the highest average ratings (9.2). **Shooting** and **Fighting** games for **Game Boy Color** receive the lowest average rankings (4.5)."
      ]
     },
     "metadata": {},
     "output_type": "display_data"
    }
   ],
   "source": [
    "# Check your answer (Run this code cell to receive credit!)\n",
    "step_4.b.solution()"
   ]
  },
  {
   "cell_type": "markdown",
   "id": "de35b818",
   "metadata": {
    "papermill": {
     "duration": 0.009312,
     "end_time": "2022-08-31T08:57:08.258729",
     "exception": false,
     "start_time": "2022-08-31T08:57:08.249417",
     "status": "completed"
    },
    "tags": []
   },
   "source": [
    "# Keep going\n",
    "\n",
    "Move on to learn all about **[scatter plots](https://www.kaggle.com/alexisbcook/scatter-plots)**!"
   ]
  },
  {
   "cell_type": "markdown",
   "id": "96437fc8",
   "metadata": {
    "papermill": {
     "duration": 0.009329,
     "end_time": "2022-08-31T08:57:08.277739",
     "exception": false,
     "start_time": "2022-08-31T08:57:08.268410",
     "status": "completed"
    },
    "tags": []
   },
   "source": [
    "---\n",
    "\n",
    "\n",
    "\n",
    "\n",
    "*Have questions or comments? Visit the [course discussion forum](https://www.kaggle.com/learn/data-visualization/discussion) to chat with other learners.*"
   ]
  }
 ],
 "metadata": {
  "kernelspec": {
   "display_name": "Python 3",
   "language": "python",
   "name": "python3"
  },
  "language_info": {
   "codemirror_mode": {
    "name": "ipython",
    "version": 3
   },
   "file_extension": ".py",
   "mimetype": "text/x-python",
   "name": "python",
   "nbconvert_exporter": "python",
   "pygments_lexer": "ipython3",
   "version": "3.7.12"
  },
  "papermill": {
   "default_parameters": {},
   "duration": 13.401132,
   "end_time": "2022-08-31T08:57:09.009025",
   "environment_variables": {},
   "exception": null,
   "input_path": "__notebook__.ipynb",
   "output_path": "__notebook__.ipynb",
   "parameters": {},
   "start_time": "2022-08-31T08:56:55.607893",
   "version": "2.3.4"
  }
 },
 "nbformat": 4,
 "nbformat_minor": 5
}
