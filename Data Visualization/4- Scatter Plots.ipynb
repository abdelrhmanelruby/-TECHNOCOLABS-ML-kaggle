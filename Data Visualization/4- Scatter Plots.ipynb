{
 "cells": [
  {
   "cell_type": "markdown",
   "id": "fb33521f",
   "metadata": {
    "papermill": {
     "duration": 0.009656,
     "end_time": "2022-08-31T08:57:40.609408",
     "exception": false,
     "start_time": "2022-08-31T08:57:40.599752",
     "status": "completed"
    },
    "tags": []
   },
   "source": [
    "**This notebook is an exercise in the [Data Visualization](https://www.kaggle.com/learn/data-visualization) course.  You can reference the tutorial at [this link](https://www.kaggle.com/alexisbcook/scatter-plots).**\n",
    "\n",
    "---\n"
   ]
  },
  {
   "cell_type": "markdown",
   "id": "6b7775fc",
   "metadata": {
    "papermill": {
     "duration": 0.008124,
     "end_time": "2022-08-31T08:57:40.626223",
     "exception": false,
     "start_time": "2022-08-31T08:57:40.618099",
     "status": "completed"
    },
    "tags": []
   },
   "source": [
    "In this exercise, you will use your new knowledge to propose a solution to a real-world scenario.  To succeed, you will need to import data into Python, answer questions using the data, and generate **scatter plots** to understand patterns in the data.\n",
    "\n",
    "## Scenario\n",
    "\n",
    "You work for a major candy producer, and your goal is to write a report that your company can use to guide the design of its next product.  Soon after starting your research, you stumble across this [very interesting dataset](https://fivethirtyeight.com/features/the-ultimate-halloween-candy-power-ranking/) containing results from a fun survey to crowdsource favorite candies.\n",
    "\n",
    "## Setup\n",
    "\n",
    "Run the next cell to import and configure the Python libraries that you need to complete the exercise."
   ]
  },
  {
   "cell_type": "code",
   "execution_count": 1,
   "id": "33e18007",
   "metadata": {
    "execution": {
     "iopub.execute_input": "2022-08-31T08:57:40.645727Z",
     "iopub.status.busy": "2022-08-31T08:57:40.644716Z",
     "iopub.status.idle": "2022-08-31T08:57:41.771781Z",
     "shell.execute_reply": "2022-08-31T08:57:41.770664Z"
    },
    "papermill": {
     "duration": 1.140183,
     "end_time": "2022-08-31T08:57:41.774760",
     "exception": false,
     "start_time": "2022-08-31T08:57:40.634577",
     "status": "completed"
    },
    "tags": []
   },
   "outputs": [
    {
     "name": "stdout",
     "output_type": "stream",
     "text": [
      "Setup Complete\n"
     ]
    }
   ],
   "source": [
    "import pandas as pd\n",
    "pd.plotting.register_matplotlib_converters()\n",
    "import matplotlib.pyplot as plt\n",
    "%matplotlib inline\n",
    "import seaborn as sns\n",
    "print(\"Setup Complete\")"
   ]
  },
  {
   "cell_type": "markdown",
   "id": "2295ceaa",
   "metadata": {
    "papermill": {
     "duration": 0.0079,
     "end_time": "2022-08-31T08:57:41.791229",
     "exception": false,
     "start_time": "2022-08-31T08:57:41.783329",
     "status": "completed"
    },
    "tags": []
   },
   "source": [
    "The questions below will give you feedback on your work. Run the following cell to set up our feedback system."
   ]
  },
  {
   "cell_type": "code",
   "execution_count": 2,
   "id": "688207af",
   "metadata": {
    "execution": {
     "iopub.execute_input": "2022-08-31T08:57:41.810014Z",
     "iopub.status.busy": "2022-08-31T08:57:41.808922Z",
     "iopub.status.idle": "2022-08-31T08:57:41.876239Z",
     "shell.execute_reply": "2022-08-31T08:57:41.874876Z"
    },
    "papermill": {
     "duration": 0.079866,
     "end_time": "2022-08-31T08:57:41.879336",
     "exception": false,
     "start_time": "2022-08-31T08:57:41.799470",
     "status": "completed"
    },
    "tags": []
   },
   "outputs": [
    {
     "name": "stdout",
     "output_type": "stream",
     "text": [
      "Setup Complete\n"
     ]
    }
   ],
   "source": [
    "# Set up code checking\n",
    "import os\n",
    "if not os.path.exists(\"../input/candy.csv\"):\n",
    "    os.symlink(\"../input/data-for-datavis/candy.csv\", \"../input/candy.csv\") \n",
    "from learntools.core import binder\n",
    "binder.bind(globals())\n",
    "from learntools.data_viz_to_coder.ex4 import *\n",
    "print(\"Setup Complete\")"
   ]
  },
  {
   "cell_type": "markdown",
   "id": "7c550fc9",
   "metadata": {
    "papermill": {
     "duration": 0.00815,
     "end_time": "2022-08-31T08:57:41.896509",
     "exception": false,
     "start_time": "2022-08-31T08:57:41.888359",
     "status": "completed"
    },
    "tags": []
   },
   "source": [
    "## Step 1: Load the Data\n",
    "\n",
    "Read the candy data file into `candy_data`.  Use the `\"id\"` column to label the rows."
   ]
  },
  {
   "cell_type": "code",
   "execution_count": 3,
   "id": "8ba47314",
   "metadata": {
    "execution": {
     "iopub.execute_input": "2022-08-31T08:57:41.915558Z",
     "iopub.status.busy": "2022-08-31T08:57:41.914339Z",
     "iopub.status.idle": "2022-08-31T08:57:41.931419Z",
     "shell.execute_reply": "2022-08-31T08:57:41.930301Z"
    },
    "papermill": {
     "duration": 0.028834,
     "end_time": "2022-08-31T08:57:41.933697",
     "exception": false,
     "start_time": "2022-08-31T08:57:41.904863",
     "status": "completed"
    },
    "tags": []
   },
   "outputs": [
    {
     "data": {
      "application/javascript": [
       "parent.postMessage({\"jupyterEvent\": \"custom.exercise_interaction\", \"data\": {\"outcomeType\": 1, \"valueTowardsCompletion\": 0.3333333333333333, \"interactionType\": 1, \"questionType\": 1, \"questionId\": \"1_LoadData\", \"learnToolsVersion\": \"0.3.4\", \"failureMessage\": \"\", \"exceptionClass\": \"\", \"trace\": \"\"}}, \"*\")"
      ],
      "text/plain": [
       "<IPython.core.display.Javascript object>"
      ]
     },
     "metadata": {},
     "output_type": "display_data"
    },
    {
     "data": {
      "text/markdown": [
       "<span style=\"color:#33cc33\">Correct</span>"
      ],
      "text/plain": [
       "Correct"
      ]
     },
     "metadata": {},
     "output_type": "display_data"
    }
   ],
   "source": [
    "# Path of the file to read\n",
    "candy_filepath = \"../input/candy.csv\"\n",
    "\n",
    "# Fill in the line below to read the file into a variable candy_data\n",
    "candy_data = pd.read_csv(candy_filepath,index_col=\"id\")\n",
    "\n",
    "# Run the line below with no changes to check that you've loaded the data correctly\n",
    "step_1.check()"
   ]
  },
  {
   "cell_type": "code",
   "execution_count": 4,
   "id": "0ea99f2b",
   "metadata": {
    "execution": {
     "iopub.execute_input": "2022-08-31T08:57:41.953840Z",
     "iopub.status.busy": "2022-08-31T08:57:41.953426Z",
     "iopub.status.idle": "2022-08-31T08:57:41.957732Z",
     "shell.execute_reply": "2022-08-31T08:57:41.956565Z"
    },
    "papermill": {
     "duration": 0.016836,
     "end_time": "2022-08-31T08:57:41.960113",
     "exception": false,
     "start_time": "2022-08-31T08:57:41.943277",
     "status": "completed"
    },
    "tags": []
   },
   "outputs": [],
   "source": [
    "# Lines below will give you a hint or solution code\n",
    "#step_1.hint()\n",
    "#step_1.solution()"
   ]
  },
  {
   "cell_type": "markdown",
   "id": "6f3ab470",
   "metadata": {
    "papermill": {
     "duration": 0.008418,
     "end_time": "2022-08-31T08:57:41.977142",
     "exception": false,
     "start_time": "2022-08-31T08:57:41.968724",
     "status": "completed"
    },
    "tags": []
   },
   "source": [
    "## Step 2: Review the data\n",
    "\n",
    "Use a Python command to print the first five rows of the data."
   ]
  },
  {
   "cell_type": "code",
   "execution_count": 5,
   "id": "380f9f52",
   "metadata": {
    "execution": {
     "iopub.execute_input": "2022-08-31T08:57:42.003179Z",
     "iopub.status.busy": "2022-08-31T08:57:42.002290Z",
     "iopub.status.idle": "2022-08-31T08:57:42.027478Z",
     "shell.execute_reply": "2022-08-31T08:57:42.026290Z"
    },
    "papermill": {
     "duration": 0.044185,
     "end_time": "2022-08-31T08:57:42.030061",
     "exception": false,
     "start_time": "2022-08-31T08:57:41.985876",
     "status": "completed"
    },
    "tags": []
   },
   "outputs": [
    {
     "data": {
      "text/html": [
       "<div>\n",
       "<style scoped>\n",
       "    .dataframe tbody tr th:only-of-type {\n",
       "        vertical-align: middle;\n",
       "    }\n",
       "\n",
       "    .dataframe tbody tr th {\n",
       "        vertical-align: top;\n",
       "    }\n",
       "\n",
       "    .dataframe thead th {\n",
       "        text-align: right;\n",
       "    }\n",
       "</style>\n",
       "<table border=\"1\" class=\"dataframe\">\n",
       "  <thead>\n",
       "    <tr style=\"text-align: right;\">\n",
       "      <th></th>\n",
       "      <th>competitorname</th>\n",
       "      <th>chocolate</th>\n",
       "      <th>fruity</th>\n",
       "      <th>caramel</th>\n",
       "      <th>peanutyalmondy</th>\n",
       "      <th>nougat</th>\n",
       "      <th>crispedricewafer</th>\n",
       "      <th>hard</th>\n",
       "      <th>bar</th>\n",
       "      <th>pluribus</th>\n",
       "      <th>sugarpercent</th>\n",
       "      <th>pricepercent</th>\n",
       "      <th>winpercent</th>\n",
       "    </tr>\n",
       "    <tr>\n",
       "      <th>id</th>\n",
       "      <th></th>\n",
       "      <th></th>\n",
       "      <th></th>\n",
       "      <th></th>\n",
       "      <th></th>\n",
       "      <th></th>\n",
       "      <th></th>\n",
       "      <th></th>\n",
       "      <th></th>\n",
       "      <th></th>\n",
       "      <th></th>\n",
       "      <th></th>\n",
       "      <th></th>\n",
       "    </tr>\n",
       "  </thead>\n",
       "  <tbody>\n",
       "    <tr>\n",
       "      <th>0</th>\n",
       "      <td>100 Grand</td>\n",
       "      <td>Yes</td>\n",
       "      <td>No</td>\n",
       "      <td>Yes</td>\n",
       "      <td>No</td>\n",
       "      <td>No</td>\n",
       "      <td>Yes</td>\n",
       "      <td>No</td>\n",
       "      <td>Yes</td>\n",
       "      <td>No</td>\n",
       "      <td>0.732</td>\n",
       "      <td>0.860</td>\n",
       "      <td>66.971725</td>\n",
       "    </tr>\n",
       "    <tr>\n",
       "      <th>1</th>\n",
       "      <td>3 Musketeers</td>\n",
       "      <td>Yes</td>\n",
       "      <td>No</td>\n",
       "      <td>No</td>\n",
       "      <td>No</td>\n",
       "      <td>Yes</td>\n",
       "      <td>No</td>\n",
       "      <td>No</td>\n",
       "      <td>Yes</td>\n",
       "      <td>No</td>\n",
       "      <td>0.604</td>\n",
       "      <td>0.511</td>\n",
       "      <td>67.602936</td>\n",
       "    </tr>\n",
       "    <tr>\n",
       "      <th>2</th>\n",
       "      <td>Air Heads</td>\n",
       "      <td>No</td>\n",
       "      <td>Yes</td>\n",
       "      <td>No</td>\n",
       "      <td>No</td>\n",
       "      <td>No</td>\n",
       "      <td>No</td>\n",
       "      <td>No</td>\n",
       "      <td>No</td>\n",
       "      <td>No</td>\n",
       "      <td>0.906</td>\n",
       "      <td>0.511</td>\n",
       "      <td>52.341465</td>\n",
       "    </tr>\n",
       "    <tr>\n",
       "      <th>3</th>\n",
       "      <td>Almond Joy</td>\n",
       "      <td>Yes</td>\n",
       "      <td>No</td>\n",
       "      <td>No</td>\n",
       "      <td>Yes</td>\n",
       "      <td>No</td>\n",
       "      <td>No</td>\n",
       "      <td>No</td>\n",
       "      <td>Yes</td>\n",
       "      <td>No</td>\n",
       "      <td>0.465</td>\n",
       "      <td>0.767</td>\n",
       "      <td>50.347546</td>\n",
       "    </tr>\n",
       "    <tr>\n",
       "      <th>4</th>\n",
       "      <td>Baby Ruth</td>\n",
       "      <td>Yes</td>\n",
       "      <td>No</td>\n",
       "      <td>Yes</td>\n",
       "      <td>Yes</td>\n",
       "      <td>Yes</td>\n",
       "      <td>No</td>\n",
       "      <td>No</td>\n",
       "      <td>Yes</td>\n",
       "      <td>No</td>\n",
       "      <td>0.604</td>\n",
       "      <td>0.767</td>\n",
       "      <td>56.914547</td>\n",
       "    </tr>\n",
       "  </tbody>\n",
       "</table>\n",
       "</div>"
      ],
      "text/plain": [
       "   competitorname chocolate fruity caramel peanutyalmondy nougat  \\\n",
       "id                                                                 \n",
       "0       100 Grand       Yes     No     Yes             No     No   \n",
       "1    3 Musketeers       Yes     No      No             No    Yes   \n",
       "2       Air Heads        No    Yes      No             No     No   \n",
       "3      Almond Joy       Yes     No      No            Yes     No   \n",
       "4       Baby Ruth       Yes     No     Yes            Yes    Yes   \n",
       "\n",
       "   crispedricewafer hard  bar pluribus  sugarpercent  pricepercent  winpercent  \n",
       "id                                                                              \n",
       "0               Yes   No  Yes       No         0.732         0.860   66.971725  \n",
       "1                No   No  Yes       No         0.604         0.511   67.602936  \n",
       "2                No   No   No       No         0.906         0.511   52.341465  \n",
       "3                No   No  Yes       No         0.465         0.767   50.347546  \n",
       "4                No   No  Yes       No         0.604         0.767   56.914547  "
      ]
     },
     "execution_count": 5,
     "metadata": {},
     "output_type": "execute_result"
    }
   ],
   "source": [
    "# Print the first five rows of the data\n",
    "candy_data.head() # Your code here"
   ]
  },
  {
   "cell_type": "markdown",
   "id": "20e9ae2b",
   "metadata": {
    "papermill": {
     "duration": 0.009888,
     "end_time": "2022-08-31T08:57:42.054788",
     "exception": false,
     "start_time": "2022-08-31T08:57:42.044900",
     "status": "completed"
    },
    "tags": []
   },
   "source": [
    "The dataset contains 83 rows, where each corresponds to a different candy bar.  There are 13 columns:\n",
    "- `'competitorname'` contains the name of the candy bar. \n",
    "- the next **9** columns (from `'chocolate'` to `'pluribus'`) describe the candy.  For instance, rows with chocolate candies have `\"Yes\"` in the `'chocolate'` column (and candies without chocolate have `\"No\"` in the same column).\n",
    "- `'sugarpercent'` provides some indication of the amount of sugar, where higher values signify higher sugar content.\n",
    "- `'pricepercent'` shows the price per unit, relative to the other candies in the dataset.\n",
    "- `'winpercent'` is calculated from the survey results; higher values indicate that the candy was more popular with survey respondents.\n",
    "\n",
    "Use the first five rows of the data to answer the questions below."
   ]
  },
  {
   "cell_type": "code",
   "execution_count": 6,
   "id": "6aa31c35",
   "metadata": {
    "execution": {
     "iopub.execute_input": "2022-08-31T08:57:42.077858Z",
     "iopub.status.busy": "2022-08-31T08:57:42.076608Z",
     "iopub.status.idle": "2022-08-31T08:57:42.091632Z",
     "shell.execute_reply": "2022-08-31T08:57:42.088940Z"
    },
    "papermill": {
     "duration": 0.029448,
     "end_time": "2022-08-31T08:57:42.094886",
     "exception": false,
     "start_time": "2022-08-31T08:57:42.065438",
     "status": "completed"
    },
    "tags": []
   },
   "outputs": [
    {
     "data": {
      "application/javascript": [
       "parent.postMessage({\"jupyterEvent\": \"custom.exercise_interaction\", \"data\": {\"outcomeType\": 1, \"valueTowardsCompletion\": 0.3333333333333333, \"interactionType\": 1, \"questionType\": 1, \"questionId\": \"2_ReviewData\", \"learnToolsVersion\": \"0.3.4\", \"failureMessage\": \"\", \"exceptionClass\": \"\", \"trace\": \"\"}}, \"*\")"
      ],
      "text/plain": [
       "<IPython.core.display.Javascript object>"
      ]
     },
     "metadata": {},
     "output_type": "display_data"
    },
    {
     "data": {
      "text/markdown": [
       "<span style=\"color:#33cc33\">Correct</span>"
      ],
      "text/plain": [
       "Correct"
      ]
     },
     "metadata": {},
     "output_type": "display_data"
    }
   ],
   "source": [
    "# Fill in the line below: Which candy was more popular with survey respondents:\n",
    "# '3 Musketeers' or 'Almond Joy'?  (Please enclose your answer in single quotes.)\n",
    "more_popular = '3 Musketeers'\n",
    "\n",
    "# Fill in the line below: Which candy has higher sugar content: 'Air Heads'\n",
    "# or 'Baby Ruth'? (Please enclose your answer in single quotes.)\n",
    "more_sugar = 'Air Heads'\n",
    "\n",
    "# Check your answers\n",
    "step_2.check()"
   ]
  },
  {
   "cell_type": "code",
   "execution_count": 7,
   "id": "6872824e",
   "metadata": {
    "execution": {
     "iopub.execute_input": "2022-08-31T08:57:42.116078Z",
     "iopub.status.busy": "2022-08-31T08:57:42.115662Z",
     "iopub.status.idle": "2022-08-31T08:57:42.119951Z",
     "shell.execute_reply": "2022-08-31T08:57:42.118871Z"
    },
    "papermill": {
     "duration": 0.0178,
     "end_time": "2022-08-31T08:57:42.122465",
     "exception": false,
     "start_time": "2022-08-31T08:57:42.104665",
     "status": "completed"
    },
    "tags": []
   },
   "outputs": [],
   "source": [
    "# Lines below will give you a hint or solution code\n",
    "#step_2.hint()\n",
    "#step_2.solution()"
   ]
  },
  {
   "cell_type": "markdown",
   "id": "be74ae98",
   "metadata": {
    "papermill": {
     "duration": 0.009114,
     "end_time": "2022-08-31T08:57:42.141023",
     "exception": false,
     "start_time": "2022-08-31T08:57:42.131909",
     "status": "completed"
    },
    "tags": []
   },
   "source": [
    "## Step 3: The role of sugar\n",
    "\n",
    "Do people tend to prefer candies with higher sugar content?  \n",
    "\n",
    "#### Part A\n",
    "\n",
    "Create a scatter plot that shows the relationship between `'sugarpercent'` (on the horizontal x-axis) and `'winpercent'` (on the vertical y-axis).  _Don't add a regression line just yet -- you'll do that in the next step!_"
   ]
  },
  {
   "cell_type": "code",
   "execution_count": 8,
   "id": "8ac7022a",
   "metadata": {
    "execution": {
     "iopub.execute_input": "2022-08-31T08:57:42.161575Z",
     "iopub.status.busy": "2022-08-31T08:57:42.160633Z",
     "iopub.status.idle": "2022-08-31T08:57:42.429158Z",
     "shell.execute_reply": "2022-08-31T08:57:42.428181Z"
    },
    "papermill": {
     "duration": 0.281352,
     "end_time": "2022-08-31T08:57:42.431647",
     "exception": false,
     "start_time": "2022-08-31T08:57:42.150295",
     "status": "completed"
    },
    "tags": []
   },
   "outputs": [
    {
     "data": {
      "application/javascript": [
       "parent.postMessage({\"jupyterEvent\": \"custom.exercise_interaction\", \"data\": {\"outcomeType\": 1, \"valueTowardsCompletion\": 0.3333333333333333, \"interactionType\": 1, \"questionType\": 2, \"questionId\": \"3.1_PlotBlueScatter\", \"learnToolsVersion\": \"0.3.4\", \"failureMessage\": \"\", \"exceptionClass\": \"\", \"trace\": \"\"}}, \"*\")"
      ],
      "text/plain": [
       "<IPython.core.display.Javascript object>"
      ]
     },
     "metadata": {},
     "output_type": "display_data"
    },
    {
     "data": {
      "text/markdown": [
       "<span style=\"color:#33cc33\">Correct</span>"
      ],
      "text/plain": [
       "Correct"
      ]
     },
     "metadata": {},
     "output_type": "display_data"
    },
    {
     "data": {
      "image/png": "[encoded data removed]",
      "text/plain": [
       "<Figure size 432x288 with 1 Axes>"
      ]
     },
     "metadata": {
      "needs_background": "light"
     },
     "output_type": "display_data"
    }
   ],
   "source": [
    "# Scatter plot showing the relationship between 'sugarpercent' and 'winpercent'\n",
    "sns.scatterplot(x=candy_data.sugarpercent,y=candy_data.winpercent) # Your code here\n",
    "\n",
    "# Check your answer\n",
    "step_3.a.check()"
   ]
  },
  {
   "cell_type": "code",
   "execution_count": 9,
   "id": "764579da",
   "metadata": {
    "execution": {
     "iopub.execute_input": "2022-08-31T08:57:42.453982Z",
     "iopub.status.busy": "2022-08-31T08:57:42.452914Z",
     "iopub.status.idle": "2022-08-31T08:57:42.457713Z",
     "shell.execute_reply": "2022-08-31T08:57:42.456767Z"
    },
    "papermill": {
     "duration": 0.018499,
     "end_time": "2022-08-31T08:57:42.460195",
     "exception": false,
     "start_time": "2022-08-31T08:57:42.441696",
     "status": "completed"
    },
    "tags": []
   },
   "outputs": [],
   "source": [
    "# Lines below will give you a hint or solution code\n",
    "#step_3.a.hint()\n",
    "#step_3.a.solution_plot()"
   ]
  },
  {
   "cell_type": "markdown",
   "id": "ad6f06b2",
   "metadata": {
    "papermill": {
     "duration": 0.009599,
     "end_time": "2022-08-31T08:57:42.479844",
     "exception": false,
     "start_time": "2022-08-31T08:57:42.470245",
     "status": "completed"
    },
    "tags": []
   },
   "source": [
    "#### Part B\n",
    "\n",
    "Does the scatter plot show a **strong** correlation between the two variables?  If so, are candies with more sugar relatively more or less popular with the survey respondents?"
   ]
  },
  {
   "cell_type": "code",
   "execution_count": 10,
   "id": "21f37c73",
   "metadata": {
    "execution": {
     "iopub.execute_input": "2022-08-31T08:57:42.501320Z",
     "iopub.status.busy": "2022-08-31T08:57:42.500941Z",
     "iopub.status.idle": "2022-08-31T08:57:42.506067Z",
     "shell.execute_reply": "2022-08-31T08:57:42.504901Z"
    },
    "papermill": {
     "duration": 0.018266,
     "end_time": "2022-08-31T08:57:42.508151",
     "exception": false,
     "start_time": "2022-08-31T08:57:42.489885",
     "status": "completed"
    },
    "tags": []
   },
   "outputs": [],
   "source": [
    "#step_3.b.hint()"
   ]
  },
  {
   "cell_type": "code",
   "execution_count": 11,
   "id": "0e5e3954",
   "metadata": {
    "execution": {
     "iopub.execute_input": "2022-08-31T08:57:42.530210Z",
     "iopub.status.busy": "2022-08-31T08:57:42.529419Z",
     "iopub.status.idle": "2022-08-31T08:57:42.539020Z",
     "shell.execute_reply": "2022-08-31T08:57:42.537906Z"
    },
    "papermill": {
     "duration": 0.022933,
     "end_time": "2022-08-31T08:57:42.541144",
     "exception": false,
     "start_time": "2022-08-31T08:57:42.518211",
     "status": "completed"
    },
    "tags": []
   },
   "outputs": [
    {
     "data": {
      "application/javascript": [
       "parent.postMessage({\"jupyterEvent\": \"custom.exercise_interaction\", \"data\": {\"interactionType\": 3, \"questionType\": 4, \"questionId\": \"3.2_ThinkBlueScatter\", \"learnToolsVersion\": \"0.3.4\", \"valueTowardsCompletion\": 0.0, \"failureMessage\": \"\", \"exceptionClass\": \"\", \"trace\": \"\", \"outcomeType\": 4}}, \"*\")"
      ],
      "text/plain": [
       "<IPython.core.display.Javascript object>"
      ]
     },
     "metadata": {},
     "output_type": "display_data"
    },
    {
     "data": {
      "text/markdown": [
       "<span style=\"color:#33cc99\">Solution:</span> The scatter plot does not show a strong correlation between the two variables. Since there is no clear relationship between the two variables, this tells us that sugar content does not play a strong role in candy popularity."
      ],
      "text/plain": [
       "Solution: The scatter plot does not show a strong correlation between the two variables. Since there is no clear relationship between the two variables, this tells us that sugar content does not play a strong role in candy popularity."
      ]
     },
     "metadata": {},
     "output_type": "display_data"
    }
   ],
   "source": [
    "# Check your answer (Run this code cell to receive credit!)\n",
    "step_3.b.solution()"
   ]
  },
  {
   "cell_type": "markdown",
   "id": "d964a3a8",
   "metadata": {
    "papermill": {
     "duration": 0.010021,
     "end_time": "2022-08-31T08:57:42.561396",
     "exception": false,
     "start_time": "2022-08-31T08:57:42.551375",
     "status": "completed"
    },
    "tags": []
   },
   "source": [
    "## Step 4: Take a closer look\n",
    "\n",
    "#### Part A\n",
    "\n",
    "Create the same scatter plot you created in **Step 3**, but now with a regression line!"
   ]
  },
  {
   "cell_type": "code",
   "execution_count": 12,
   "id": "5872424a",
   "metadata": {
    "execution": {
     "iopub.execute_input": "2022-08-31T08:57:42.584144Z",
     "iopub.status.busy": "2022-08-31T08:57:42.583452Z",
     "iopub.status.idle": "2022-08-31T08:57:42.915686Z",
     "shell.execute_reply": "2022-08-31T08:57:42.914633Z"
    },
    "papermill": {
     "duration": 0.346318,
     "end_time": "2022-08-31T08:57:42.918016",
     "exception": false,
     "start_time": "2022-08-31T08:57:42.571698",
     "status": "completed"
    },
    "tags": []
   },
   "outputs": [
    {
     "data": {
      "application/javascript": [
       "parent.postMessage({\"jupyterEvent\": \"custom.exercise_interaction\", \"data\": {\"outcomeType\": 1, \"valueTowardsCompletion\": 0.3333333333333333, \"interactionType\": 1, \"questionType\": 2, \"questionId\": \"4.1_PlotBlueReg\", \"learnToolsVersion\": \"0.3.4\", \"failureMessage\": \"\", \"exceptionClass\": \"\", \"trace\": \"\"}}, \"*\")"
      ],
      "text/plain": [
       "<IPython.core.display.Javascript object>"
      ]
     },
     "metadata": {},
     "output_type": "display_data"
    },
    {
     "data": {
      "text/markdown": [
       "<span style=\"color:#33cc33\">Correct</span>"
      ],
      "text/plain": [
       "Correct"
      ]
     },
     "metadata": {},
     "output_type": "display_data"
    },
    {
     "data": {
      "image/png": "[encoded data removed]",
      "text/plain": [
       "<Figure size 432x288 with 1 Axes>"
      ]
     },
     "metadata": {
      "needs_background": "light"
     },
     "output_type": "display_data"
    }
   ],
   "source": [
    "# Scatter plot w/ regression line showing the relationship between 'sugarpercent' and 'winpercent'\n",
    "sns.regplot(x=candy_data.sugarpercent ,y=candy_data.winpercent,) # Your code here\n",
    "\n",
    "# Check your answer\n",
    "step_4.a.check()"
   ]
  },
  {
   "cell_type": "code",
   "execution_count": 13,
   "id": "3b7b8aa5",
   "metadata": {
    "execution": {
     "iopub.execute_input": "2022-08-31T08:57:42.941291Z",
     "iopub.status.busy": "2022-08-31T08:57:42.940905Z",
     "iopub.status.idle": "2022-08-31T08:57:42.945315Z",
     "shell.execute_reply": "2022-08-31T08:57:42.944353Z"
    },
    "papermill": {
     "duration": 0.018415,
     "end_time": "2022-08-31T08:57:42.947296",
     "exception": false,
     "start_time": "2022-08-31T08:57:42.928881",
     "status": "completed"
    },
    "tags": []
   },
   "outputs": [],
   "source": [
    "# Lines below will give you a hint or solution code\n",
    "#step_4.a.hint()\n",
    "#step_4.a.solution_plot()"
   ]
  },
  {
   "cell_type": "markdown",
   "id": "bfe4afe5",
   "metadata": {
    "papermill": {
     "duration": 0.010425,
     "end_time": "2022-08-31T08:57:42.968716",
     "exception": false,
     "start_time": "2022-08-31T08:57:42.958291",
     "status": "completed"
    },
    "tags": []
   },
   "source": [
    "#### Part B\n",
    "\n",
    "According to the plot above, is there a **slight** correlation between `'winpercent'` and `'sugarpercent'`?  What does this tell you about the candy that people tend to prefer?"
   ]
  },
  {
   "cell_type": "code",
   "execution_count": 14,
   "id": "093142c8",
   "metadata": {
    "execution": {
     "iopub.execute_input": "2022-08-31T08:57:42.992597Z",
     "iopub.status.busy": "2022-08-31T08:57:42.991791Z",
     "iopub.status.idle": "2022-08-31T08:57:42.995909Z",
     "shell.execute_reply": "2022-08-31T08:57:42.995046Z"
    },
    "papermill": {
     "duration": 0.018519,
     "end_time": "2022-08-31T08:57:42.998095",
     "exception": false,
     "start_time": "2022-08-31T08:57:42.979576",
     "status": "completed"
    },
    "tags": []
   },
   "outputs": [],
   "source": [
    "#step_4.b.hint()"
   ]
  },
  {
   "cell_type": "code",
   "execution_count": 15,
   "id": "a85572ad",
   "metadata": {
    "execution": {
     "iopub.execute_input": "2022-08-31T08:57:43.022310Z",
     "iopub.status.busy": "2022-08-31T08:57:43.021561Z",
     "iopub.status.idle": "2022-08-31T08:57:43.029268Z",
     "shell.execute_reply": "2022-08-31T08:57:43.028391Z"
    },
    "papermill": {
     "duration": 0.022225,
     "end_time": "2022-08-31T08:57:43.031335",
     "exception": false,
     "start_time": "2022-08-31T08:57:43.009110",
     "status": "completed"
    },
    "tags": []
   },
   "outputs": [
    {
     "data": {
      "application/javascript": [
       "parent.postMessage({\"jupyterEvent\": \"custom.exercise_interaction\", \"data\": {\"interactionType\": 3, \"questionType\": 4, \"questionId\": \"4.2_ThinkBlueReg\", \"learnToolsVersion\": \"0.3.4\", \"valueTowardsCompletion\": 0.0, \"failureMessage\": \"\", \"exceptionClass\": \"\", \"trace\": \"\", \"outcomeType\": 4}}, \"*\")"
      ],
      "text/plain": [
       "<IPython.core.display.Javascript object>"
      ]
     },
     "metadata": {},
     "output_type": "display_data"
    },
    {
     "data": {
      "text/markdown": [
       "<span style=\"color:#33cc99\">Solution:</span> Since the regression line has a slightly positive slope, this tells us that there is a slightly positive correlation between `'winpercent'` and `'sugarpercent'`. Thus, people have a slight preference for candies containing relatively more sugar."
      ],
      "text/plain": [
       "Solution: Since the regression line has a slightly positive slope, this tells us that there is a slightly positive correlation between `'winpercent'` and `'sugarpercent'`. Thus, people have a slight preference for candies containing relatively more sugar."
      ]
     },
     "metadata": {},
     "output_type": "display_data"
    }
   ],
   "source": [
    "# Check your answer (Run this code cell to receive credit!)\n",
    "step_4.b.solution()"
   ]
  },
  {
   "cell_type": "markdown",
   "id": "99f5f727",
   "metadata": {
    "papermill": {
     "duration": 0.010561,
     "end_time": "2022-08-31T08:57:43.053470",
     "exception": false,
     "start_time": "2022-08-31T08:57:43.042909",
     "status": "completed"
    },
    "tags": []
   },
   "source": [
    "## Step 5: Chocolate!\n",
    "\n",
    "In the code cell below, create a scatter plot to show the relationship between `'pricepercent'` (on the horizontal x-axis) and `'winpercent'` (on the vertical y-axis). Use the `'chocolate'` column to color-code the points.  _Don't add any regression lines just yet -- you'll do that in the next step!_"
   ]
  },
  {
   "cell_type": "code",
   "execution_count": 16,
   "id": "6f79885d",
   "metadata": {
    "execution": {
     "iopub.execute_input": "2022-08-31T08:57:43.078022Z",
     "iopub.status.busy": "2022-08-31T08:57:43.077297Z",
     "iopub.status.idle": "2022-08-31T08:57:43.343569Z",
     "shell.execute_reply": "2022-08-31T08:57:43.342288Z"
    },
    "papermill": {
     "duration": 0.281919,
     "end_time": "2022-08-31T08:57:43.346406",
     "exception": false,
     "start_time": "2022-08-31T08:57:43.064487",
     "status": "completed"
    },
    "tags": []
   },
   "outputs": [
    {
     "data": {
      "application/javascript": [
       "parent.postMessage({\"jupyterEvent\": \"custom.exercise_interaction\", \"data\": {\"outcomeType\": 1, \"valueTowardsCompletion\": 0.3333333333333333, \"interactionType\": 1, \"questionType\": 2, \"questionId\": \"5_ColorScatter\", \"learnToolsVersion\": \"0.3.4\", \"failureMessage\": \"\", \"exceptionClass\": \"\", \"trace\": \"\"}}, \"*\")"
      ],
      "text/plain": [
       "<IPython.core.display.Javascript object>"
      ]
     },
     "metadata": {},
     "output_type": "display_data"
    },
    {
     "data": {
      "text/markdown": [
       "<span style=\"color:#33cc33\">Correct</span>"
      ],
      "text/plain": [
       "Correct"
      ]
     },
     "metadata": {},
     "output_type": "display_data"
    },
    {
     "data": {
      "image/png": "[encoded data removed]",
      "text/plain": [
       "<Figure size 432x288 with 1 Axes>"
      ]
     },
     "metadata": {
      "needs_background": "light"
     },
     "output_type": "display_data"
    }
   ],
   "source": [
    "# Scatter plot showing the relationship between 'pricepercent', 'winpercent', and 'chocolate'\n",
    "sns.scatterplot(x=candy_data.pricepercent,y=candy_data.winpercent,hue=candy_data.chocolate)# Your code here\n",
    "\n",
    "# Check your answer\n",
    "step_5.check()"
   ]
  },
  {
   "cell_type": "code",
   "execution_count": 17,
   "id": "7536a19d",
   "metadata": {
    "execution": {
     "iopub.execute_input": "2022-08-31T08:57:43.372210Z",
     "iopub.status.busy": "2022-08-31T08:57:43.371318Z",
     "iopub.status.idle": "2022-08-31T08:57:43.376240Z",
     "shell.execute_reply": "2022-08-31T08:57:43.375072Z"
    },
    "papermill": {
     "duration": 0.020592,
     "end_time": "2022-08-31T08:57:43.378867",
     "exception": false,
     "start_time": "2022-08-31T08:57:43.358275",
     "status": "completed"
    },
    "tags": []
   },
   "outputs": [],
   "source": [
    "# Lines below will give you a hint or solution code\n",
    "#step_5.hint()\n",
    "#step_5.solution_plot()"
   ]
  },
  {
   "cell_type": "markdown",
   "id": "f9273c8e",
   "metadata": {
    "papermill": {
     "duration": 0.012023,
     "end_time": "2022-08-31T08:57:43.403006",
     "exception": false,
     "start_time": "2022-08-31T08:57:43.390983",
     "status": "completed"
    },
    "tags": []
   },
   "source": [
    "Can you see any interesting patterns in the scatter plot?  We'll investigate this plot further  by adding regression lines in the next step!\n",
    "\n",
    "## Step 6: Investigate chocolate\n",
    "\n",
    "#### Part A\n",
    "\n",
    "Create the same scatter plot you created in **Step 5**, but now with two regression lines, corresponding to (1) chocolate candies and (2) candies without chocolate."
   ]
  },
  {
   "cell_type": "code",
   "execution_count": 18,
   "id": "25cb70e3",
   "metadata": {
    "execution": {
     "iopub.execute_input": "2022-08-31T08:57:43.428861Z",
     "iopub.status.busy": "2022-08-31T08:57:43.428109Z",
     "iopub.status.idle": "2022-08-31T08:57:44.067759Z",
     "shell.execute_reply": "2022-08-31T08:57:44.066855Z"
    },
    "papermill": {
     "duration": 0.655317,
     "end_time": "2022-08-31T08:57:44.070098",
     "exception": false,
     "start_time": "2022-08-31T08:57:43.414781",
     "status": "completed"
    },
    "tags": []
   },
   "outputs": [
    {
     "data": {
      "application/javascript": [
       "parent.postMessage({\"jupyterEvent\": \"custom.exercise_interaction\", \"data\": {\"outcomeType\": 1, \"valueTowardsCompletion\": 0.3333333333333333, \"interactionType\": 1, \"questionType\": 2, \"questionId\": \"6.1_PlotColorReg\", \"learnToolsVersion\": \"0.3.4\", \"failureMessage\": \"\", \"exceptionClass\": \"\", \"trace\": \"\"}}, \"*\")"
      ],
      "text/plain": [
       "<IPython.core.display.Javascript object>"
      ]
     },
     "metadata": {},
     "output_type": "display_data"
    },
    {
     "data": {
      "text/markdown": [
       "<span style=\"color:#33cc33\">Correct</span>"
      ],
      "text/plain": [
       "Correct"
      ]
     },
     "metadata": {},
     "output_type": "display_data"
    },
    {
     "data": {
      "image/png": "[encoded data removed]",
      "text/plain": [
       "<Figure size 416.375x360 with 1 Axes>"
      ]
     },
     "metadata": {
      "needs_background": "light"
     },
     "output_type": "display_data"
    }
   ],
   "source": [
    "# Color-coded scatter plot w/ regression lines\n",
    "sns.lmplot(x=\"pricepercent\", y=\"winpercent\", hue=\"chocolate\", data=candy_data)\n",
    "\n",
    "# Check your answer\n",
    "step_6.a.check()"
   ]
  },
  {
   "cell_type": "code",
   "execution_count": 19,
   "id": "a8003af1",
   "metadata": {
    "execution": {
     "iopub.execute_input": "2022-08-31T08:57:44.097734Z",
     "iopub.status.busy": "2022-08-31T08:57:44.097149Z",
     "iopub.status.idle": "2022-08-31T08:57:44.100775Z",
     "shell.execute_reply": "2022-08-31T08:57:44.099963Z"
    },
    "papermill": {
     "duration": 0.020125,
     "end_time": "2022-08-31T08:57:44.102924",
     "exception": false,
     "start_time": "2022-08-31T08:57:44.082799",
     "status": "completed"
    },
    "tags": []
   },
   "outputs": [],
   "source": [
    "# Lines below will give you a hint or solution code\n",
    "#step_6.a.hint()\n",
    "#step_6.a.solution_plot()"
   ]
  },
  {
   "cell_type": "markdown",
   "id": "1839d45d",
   "metadata": {
    "papermill": {
     "duration": 0.012378,
     "end_time": "2022-08-31T08:57:44.128030",
     "exception": false,
     "start_time": "2022-08-31T08:57:44.115652",
     "status": "completed"
    },
    "tags": []
   },
   "source": [
    "#### Part B\n",
    "\n",
    "Using the regression lines, what conclusions can you draw about the effects of chocolate and price on candy popularity?"
   ]
  },
  {
   "cell_type": "code",
   "execution_count": 20,
   "id": "31852e31",
   "metadata": {
    "execution": {
     "iopub.execute_input": "2022-08-31T08:57:44.154632Z",
     "iopub.status.busy": "2022-08-31T08:57:44.154214Z",
     "iopub.status.idle": "2022-08-31T08:57:44.158855Z",
     "shell.execute_reply": "2022-08-31T08:57:44.157680Z"
    },
    "papermill": {
     "duration": 0.020577,
     "end_time": "2022-08-31T08:57:44.160984",
     "exception": false,
     "start_time": "2022-08-31T08:57:44.140407",
     "status": "completed"
    },
    "tags": []
   },
   "outputs": [],
   "source": [
    "#step_6.b.hint()"
   ]
  },
  {
   "cell_type": "code",
   "execution_count": 21,
   "id": "40d89ecb",
   "metadata": {
    "execution": {
     "iopub.execute_input": "2022-08-31T08:57:44.188554Z",
     "iopub.status.busy": "2022-08-31T08:57:44.187847Z",
     "iopub.status.idle": "2022-08-31T08:57:44.196943Z",
     "shell.execute_reply": "2022-08-31T08:57:44.195791Z"
    },
    "papermill": {
     "duration": 0.025203,
     "end_time": "2022-08-31T08:57:44.199289",
     "exception": false,
     "start_time": "2022-08-31T08:57:44.174086",
     "status": "completed"
    },
    "tags": []
   },
   "outputs": [
    {
     "data": {
      "application/javascript": [
       "parent.postMessage({\"jupyterEvent\": \"custom.exercise_interaction\", \"data\": {\"interactionType\": 3, \"questionType\": 4, \"questionId\": \"6.2_ThinkColorReg\", \"learnToolsVersion\": \"0.3.4\", \"valueTowardsCompletion\": 0.0, \"failureMessage\": \"\", \"exceptionClass\": \"\", \"trace\": \"\", \"outcomeType\": 4}}, \"*\")"
      ],
      "text/plain": [
       "<IPython.core.display.Javascript object>"
      ]
     },
     "metadata": {},
     "output_type": "display_data"
    },
    {
     "data": {
      "text/markdown": [
       "<span style=\"color:#33cc99\">Solution:</span> We'll begin with the regression line for chocolate candies. Since this line has a slightly positive slope, we can say that more expensive chocolate candies tend to be more popular (than relatively cheaper chocolate candies).  Likewise, since the regression line for candies without chocolate has a negative slope, we can say that if candies don't contain chocolate, they tend to be more popular when they are cheaper.  One important note, however, is that the dataset is quite small -- so we shouldn't invest too much trust in these patterns!  To inspire more confidence in the results, we should add more candies to the dataset."
      ],
      "text/plain": [
       "Solution: We'll begin with the regression line for chocolate candies. Since this line has a slightly positive slope, we can say that more expensive chocolate candies tend to be more popular (than relatively cheaper chocolate candies).  Likewise, since the regression line for candies without chocolate has a negative slope, we can say that if candies don't contain chocolate, they tend to be more popular when they are cheaper.  One important note, however, is that the dataset is quite small -- so we shouldn't invest too much trust in these patterns!  To inspire more confidence in the results, we should add more candies to the dataset."
      ]
     },
     "metadata": {},
     "output_type": "display_data"
    }
   ],
   "source": [
    "# Check your answer (Run this code cell to receive credit!)\n",
    "step_6.b.solution()"
   ]
  },
  {
   "cell_type": "markdown",
   "id": "1bc62cc0",
   "metadata": {
    "papermill": {
     "duration": 0.012487,
     "end_time": "2022-08-31T08:57:44.224881",
     "exception": false,
     "start_time": "2022-08-31T08:57:44.212394",
     "status": "completed"
    },
    "tags": []
   },
   "source": [
    "## Step 7: Everybody loves chocolate.\n",
    "\n",
    "#### Part A\n",
    "\n",
    "Create a categorical scatter plot to highlight the relationship between `'chocolate'` and `'winpercent'`.  Put `'chocolate'` on the (horizontal) x-axis, and `'winpercent'` on the (vertical) y-axis."
   ]
  },
  {
   "cell_type": "code",
   "execution_count": 22,
   "id": "6a1b3603",
   "metadata": {
    "execution": {
     "iopub.execute_input": "2022-08-31T08:57:44.252591Z",
     "iopub.status.busy": "2022-08-31T08:57:44.251970Z",
     "iopub.status.idle": "2022-08-31T08:57:44.480505Z",
     "shell.execute_reply": "2022-08-31T08:57:44.479617Z"
    },
    "papermill": {
     "duration": 0.245351,
     "end_time": "2022-08-31T08:57:44.482910",
     "exception": false,
     "start_time": "2022-08-31T08:57:44.237559",
     "status": "completed"
    },
    "tags": []
   },
   "outputs": [
    {
     "data": {
      "application/javascript": [
       "parent.postMessage({\"jupyterEvent\": \"custom.exercise_interaction\", \"data\": {\"outcomeType\": 1, \"valueTowardsCompletion\": 0.3333333333333333, \"interactionType\": 1, \"questionType\": 2, \"questionId\": \"7.1_PlotSwarm\", \"learnToolsVersion\": \"0.3.4\", \"failureMessage\": \"\", \"exceptionClass\": \"\", \"trace\": \"\"}}, \"*\")"
      ],
      "text/plain": [
       "<IPython.core.display.Javascript object>"
      ]
     },
     "metadata": {},
     "output_type": "display_data"
    },
    {
     "data": {
      "text/markdown": [
       "<span style=\"color:#33cc33\">Correct</span>"
      ],
      "text/plain": [
       "Correct"
      ]
     },
     "metadata": {},
     "output_type": "display_data"
    },
    {
     "data": {
      "image/png": "[encoded data removed]",
      "text/plain": [
       "<Figure size 432x288 with 1 Axes>"
      ]
     },
     "metadata": {
      "needs_background": "light"
     },
     "output_type": "display_data"
    }
   ],
   "source": [
    "# Scatter plot showing the relationship between 'chocolate' and 'winpercent'\n",
    "sns.swarmplot(x=candy_data.chocolate ,y=candy_data.winpercent ) # Your code here\n",
    "\n",
    "# Check your answer\n",
    "step_7.a.check()"
   ]
  },
  {
   "cell_type": "code",
   "execution_count": 23,
   "id": "92cea604",
   "metadata": {
    "execution": {
     "iopub.execute_input": "2022-08-31T08:57:44.511059Z",
     "iopub.status.busy": "2022-08-31T08:57:44.510641Z",
     "iopub.status.idle": "2022-08-31T08:57:44.517080Z",
     "shell.execute_reply": "2022-08-31T08:57:44.515905Z"
    },
    "papermill": {
     "duration": 0.023557,
     "end_time": "2022-08-31T08:57:44.519720",
     "exception": false,
     "start_time": "2022-08-31T08:57:44.496163",
     "status": "completed"
    },
    "tags": []
   },
   "outputs": [],
   "source": [
    "# Lines below will give you a hint or solution code\n",
    "#step_7.a.hint()\n",
    "#step_7.a.solution_plot()"
   ]
  },
  {
   "cell_type": "markdown",
   "id": "732866d7",
   "metadata": {
    "papermill": {
     "duration": 0.013182,
     "end_time": "2022-08-31T08:57:44.546336",
     "exception": false,
     "start_time": "2022-08-31T08:57:44.533154",
     "status": "completed"
    },
    "tags": []
   },
   "source": [
    "#### Part B\n",
    "\n",
    "You decide to dedicate a section of your report to the fact that chocolate candies tend to be more popular than candies without chocolate.  Which plot is more appropriate to tell this story: the plot from **Step 6**, or the plot from **Step 7**?"
   ]
  },
  {
   "cell_type": "code",
   "execution_count": 24,
   "id": "672b8019",
   "metadata": {
    "execution": {
     "iopub.execute_input": "2022-08-31T08:57:44.574975Z",
     "iopub.status.busy": "2022-08-31T08:57:44.574002Z",
     "iopub.status.idle": "2022-08-31T08:57:44.578625Z",
     "shell.execute_reply": "2022-08-31T08:57:44.577796Z"
    },
    "papermill": {
     "duration": 0.021561,
     "end_time": "2022-08-31T08:57:44.581144",
     "exception": false,
     "start_time": "2022-08-31T08:57:44.559583",
     "status": "completed"
    },
    "tags": []
   },
   "outputs": [],
   "source": [
    "#step_7.b.hint()"
   ]
  },
  {
   "cell_type": "code",
   "execution_count": 25,
   "id": "beece790",
   "metadata": {
    "execution": {
     "iopub.execute_input": "2022-08-31T08:57:44.610280Z",
     "iopub.status.busy": "2022-08-31T08:57:44.609559Z",
     "iopub.status.idle": "2022-08-31T08:57:44.616802Z",
     "shell.execute_reply": "2022-08-31T08:57:44.616019Z"
    },
    "papermill": {
     "duration": 0.024268,
     "end_time": "2022-08-31T08:57:44.618887",
     "exception": false,
     "start_time": "2022-08-31T08:57:44.594619",
     "status": "completed"
    },
    "tags": []
   },
   "outputs": [
    {
     "data": {
      "application/javascript": [
       "parent.postMessage({\"jupyterEvent\": \"custom.exercise_interaction\", \"data\": {\"interactionType\": 3, \"questionType\": 4, \"questionId\": \"7.2_ThinkSwarm\", \"learnToolsVersion\": \"0.3.4\", \"valueTowardsCompletion\": 0.0, \"failureMessage\": \"\", \"exceptionClass\": \"\", \"trace\": \"\", \"outcomeType\": 4}}, \"*\")"
      ],
      "text/plain": [
       "<IPython.core.display.Javascript object>"
      ]
     },
     "metadata": {},
     "output_type": "display_data"
    },
    {
     "data": {
      "text/markdown": [
       "<span style=\"color:#33cc99\">Solution:</span> In this case, the categorical scatter plot from **Step 7** is the more appropriate plot. While both plots tell the desired story, the plot from **Step 6** conveys far more information that could distract from the main point."
      ],
      "text/plain": [
       "Solution: In this case, the categorical scatter plot from **Step 7** is the more appropriate plot. While both plots tell the desired story, the plot from **Step 6** conveys far more information that could distract from the main point."
      ]
     },
     "metadata": {},
     "output_type": "display_data"
    }
   ],
   "source": [
    "# Check your answer (Run this code cell to receive credit!)\n",
    "step_7.b.solution()"
   ]
  },
  {
   "cell_type": "markdown",
   "id": "01c3243a",
   "metadata": {
    "papermill": {
     "duration": 0.013161,
     "end_time": "2022-08-31T08:57:44.645672",
     "exception": false,
     "start_time": "2022-08-31T08:57:44.632511",
     "status": "completed"
    },
    "tags": []
   },
   "source": [
    "## Keep going\n",
    "\n",
    "Explore **[histograms and density plots](https://www.kaggle.com/alexisbcook/distributions)**."
   ]
  },
  {
   "cell_type": "markdown",
   "id": "338a2bcb",
   "metadata": {
    "papermill": {
     "duration": 0.013092,
     "end_time": "2022-08-31T08:57:44.672186",
     "exception": false,
     "start_time": "2022-08-31T08:57:44.659094",
     "status": "completed"
    },
    "tags": []
   },
   "source": [
    "---\n",
    "\n",
    "\n",
    "\n",
    "\n",
    "*Have questions or comments? Visit the [course discussion forum](https://www.kaggle.com/learn/data-visualization/discussion) to chat with other learners.*"
   ]
  }
 ],
 "metadata": {
  "kernelspec": {
   "display_name": "Python 3",
   "language": "python",
   "name": "python3"
  },
  "language_info": {
   "codemirror_mode": {
    "name": "ipython",
    "version": 3
   },
   "file_extension": ".py",
   "mimetype": "text/x-python",
   "name": "python",
   "nbconvert_exporter": "python",
   "pygments_lexer": "ipython3",
   "version": "3.7.12"
  },
  "papermill": {
   "default_parameters": {},
   "duration": 14.16763,
   "end_time": "2022-08-31T08:57:45.407632",
   "environment_variables": {},
   "exception": null,
   "input_path": "__notebook__.ipynb",
   "output_path": "__notebook__.ipynb",
   "parameters": {},
   "start_time": "2022-08-31T08:57:31.240002",
   "version": "2.3.4"
  }
 },
 "nbformat": 4,
 "nbformat_minor": 5
}
