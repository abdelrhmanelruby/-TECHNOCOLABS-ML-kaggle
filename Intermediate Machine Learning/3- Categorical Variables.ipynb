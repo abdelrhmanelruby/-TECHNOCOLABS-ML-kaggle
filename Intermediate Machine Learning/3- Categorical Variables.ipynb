{
 "cells": [
  {
   "cell_type": "markdown",
   "id": "603d0e75",
   "metadata": {
    "papermill": {
     "duration": 0.009054,
     "end_time": "2022-08-31T09:13:37.963295",
     "exception": false,
     "start_time": "2022-08-31T09:13:37.954241",
     "status": "completed"
    },
    "tags": []
   },
   "source": [
    "**This notebook is an exercise in the [Intermediate Machine Learning](https://www.kaggle.com/learn/intermediate-machine-learning) course.  You can reference the tutorial at [this link](https://www.kaggle.com/alexisbcook/categorical-variables).**\n",
    "\n",
    "---\n"
   ]
  },
  {
   "cell_type": "markdown",
   "id": "c695b45d",
   "metadata": {
    "papermill": {
     "duration": 0.007728,
     "end_time": "2022-08-31T09:13:37.979227",
     "exception": false,
     "start_time": "2022-08-31T09:13:37.971499",
     "status": "completed"
    },
    "tags": []
   },
   "source": [
    "By encoding **categorical variables**, you'll obtain your best results thus far!\n",
    "\n",
    "# Setup\n",
    "\n",
    "The questions below will give you feedback on your work. Run the following cell to set up the feedback system."
   ]
  },
  {
   "cell_type": "code",
   "execution_count": 1,
   "id": "996d2510",
   "metadata": {
    "execution": {
     "iopub.execute_input": "2022-08-31T09:13:38.003559Z",
     "iopub.status.busy": "2022-08-31T09:13:38.003068Z",
     "iopub.status.idle": "2022-08-31T09:13:38.055368Z",
     "shell.execute_reply": "2022-08-31T09:13:38.054511Z"
    },
    "papermill": {
     "duration": 0.070878,
     "end_time": "2022-08-31T09:13:38.058050",
     "exception": false,
     "start_time": "2022-08-31T09:13:37.987172",
     "status": "completed"
    },
    "tags": []
   },
   "outputs": [
    {
     "name": "stdout",
     "output_type": "stream",
     "text": [
      "Setup Complete\n"
     ]
    }
   ],
   "source": [
    "# Set up code checking\n",
    "import os\n",
    "if not os.path.exists(\"../input/train.csv\"):\n",
    "    os.symlink(\"../input/home-data-for-ml-course/train.csv\", \"../input/train.csv\")  \n",
    "    os.symlink(\"../input/home-data-for-ml-course/test.csv\", \"../input/test.csv\") \n",
    "from learntools.core import binder\n",
    "binder.bind(globals())\n",
    "from learntools.ml_intermediate.ex3 import *\n",
    "print(\"Setup Complete\")"
   ]
  },
  {
   "cell_type": "markdown",
   "id": "5d6cd5a6",
   "metadata": {
    "papermill": {
     "duration": 0.008149,
     "end_time": "2022-08-31T09:13:38.074921",
     "exception": false,
     "start_time": "2022-08-31T09:13:38.066772",
     "status": "completed"
    },
    "tags": []
   },
   "source": [
    "In this exercise, you will work with data from the [Housing Prices Competition for Kaggle Learn Users](https://www.kaggle.com/c/home-data-for-ml-course). \n",
    "\n",
    "![Ames Housing dataset image](https://i.imgur.com/lTJVG4e.png)\n",
    "\n",
    "Run the next code cell without changes to load the training and validation sets in `X_train`, `X_valid`, `y_train`, and `y_valid`.  The test set is loaded in `X_test`."
   ]
  },
  {
   "cell_type": "code",
   "execution_count": 2,
   "id": "42b17df2",
   "metadata": {
    "execution": {
     "iopub.execute_input": "2022-08-31T09:13:38.094480Z",
     "iopub.status.busy": "2022-08-31T09:13:38.094124Z",
     "iopub.status.idle": "2022-08-31T09:13:39.252984Z",
     "shell.execute_reply": "2022-08-31T09:13:39.252020Z"
    },
    "papermill": {
     "duration": 1.172211,
     "end_time": "2022-08-31T09:13:39.255584",
     "exception": false,
     "start_time": "2022-08-31T09:13:38.083373",
     "status": "completed"
    },
    "tags": []
   },
   "outputs": [],
   "source": [
    "import pandas as pd\n",
    "from sklearn.model_selection import train_test_split\n",
    "\n",
    "# Read the data\n",
    "X = pd.read_csv('../input/train.csv', index_col='Id') \n",
    "X_test = pd.read_csv('../input/test.csv', index_col='Id')\n",
    "\n",
    "# Remove rows with missing target, separate target from predictors\n",
    "X.dropna(axis=0, subset=['SalePrice'], inplace=True)\n",
    "y = X.SalePrice\n",
    "X.drop(['SalePrice'], axis=1, inplace=True)\n",
    "\n",
    "# To keep things simple, we'll drop columns with missing values\n",
    "cols_with_missing = [col for col in X.columns if X[col].isnull().any()] \n",
    "X.drop(cols_with_missing, axis=1, inplace=True)\n",
    "X_test.drop(cols_with_missing, axis=1, inplace=True)\n",
    "\n",
    "# Break off validation set from training data\n",
    "X_train, X_valid, y_train, y_valid = train_test_split(X, y,\n",
    "                                                      train_size=0.8, test_size=0.2,\n",
    "                                                      random_state=0)"
   ]
  },
  {
   "cell_type": "markdown",
   "id": "5d42b638",
   "metadata": {
    "papermill": {
     "duration": 0.008176,
     "end_time": "2022-08-31T09:13:39.272444",
     "exception": false,
     "start_time": "2022-08-31T09:13:39.264268",
     "status": "completed"
    },
    "tags": []
   },
   "source": [
    "Use the next code cell to print the first five rows of the data."
   ]
  },
  {
   "cell_type": "code",
   "execution_count": 3,
   "id": "89e305dc",
   "metadata": {
    "execution": {
     "iopub.execute_input": "2022-08-31T09:13:39.291374Z",
     "iopub.status.busy": "2022-08-31T09:13:39.290941Z",
     "iopub.status.idle": "2022-08-31T09:13:39.318878Z",
     "shell.execute_reply": "2022-08-31T09:13:39.317899Z"
    },
    "papermill": {
     "duration": 0.040558,
     "end_time": "2022-08-31T09:13:39.321733",
     "exception": false,
     "start_time": "2022-08-31T09:13:39.281175",
     "status": "completed"
    },
    "tags": []
   },
   "outputs": [
    {
     "data": {
      "text/html": [
       "<div>\n",
       "<style scoped>\n",
       "    .dataframe tbody tr th:only-of-type {\n",
       "        vertical-align: middle;\n",
       "    }\n",
       "\n",
       "    .dataframe tbody tr th {\n",
       "        vertical-align: top;\n",
       "    }\n",
       "\n",
       "    .dataframe thead th {\n",
       "        text-align: right;\n",
       "    }\n",
       "</style>\n",
       "<table border=\"1\" class=\"dataframe\">\n",
       "  <thead>\n",
       "    <tr style=\"text-align: right;\">\n",
       "      <th></th>\n",
       "      <th>MSSubClass</th>\n",
       "      <th>MSZoning</th>\n",
       "      <th>LotArea</th>\n",
       "      <th>Street</th>\n",
       "      <th>LotShape</th>\n",
       "      <th>LandContour</th>\n",
       "      <th>Utilities</th>\n",
       "      <th>LotConfig</th>\n",
       "      <th>LandSlope</th>\n",
       "      <th>Neighborhood</th>\n",
       "      <th>...</th>\n",
       "      <th>OpenPorchSF</th>\n",
       "      <th>EnclosedPorch</th>\n",
       "      <th>3SsnPorch</th>\n",
       "      <th>ScreenPorch</th>\n",
       "      <th>PoolArea</th>\n",
       "      <th>MiscVal</th>\n",
       "      <th>MoSold</th>\n",
       "      <th>YrSold</th>\n",
       "      <th>SaleType</th>\n",
       "      <th>SaleCondition</th>\n",
       "    </tr>\n",
       "    <tr>\n",
       "      <th>Id</th>\n",
       "      <th></th>\n",
       "      <th></th>\n",
       "      <th></th>\n",
       "      <th></th>\n",
       "      <th></th>\n",
       "      <th></th>\n",
       "      <th></th>\n",
       "      <th></th>\n",
       "      <th></th>\n",
       "      <th></th>\n",
       "      <th></th>\n",
       "      <th></th>\n",
       "      <th></th>\n",
       "      <th></th>\n",
       "      <th></th>\n",
       "      <th></th>\n",
       "      <th></th>\n",
       "      <th></th>\n",
       "      <th></th>\n",
       "      <th></th>\n",
       "      <th></th>\n",
       "    </tr>\n",
       "  </thead>\n",
       "  <tbody>\n",
       "    <tr>\n",
       "      <th>619</th>\n",
       "      <td>20</td>\n",
       "      <td>RL</td>\n",
       "      <td>11694</td>\n",
       "      <td>Pave</td>\n",
       "      <td>Reg</td>\n",
       "      <td>Lvl</td>\n",
       "      <td>AllPub</td>\n",
       "      <td>Inside</td>\n",
       "      <td>Gtl</td>\n",
       "      <td>NridgHt</td>\n",
       "      <td>...</td>\n",
       "      <td>108</td>\n",
       "      <td>0</td>\n",
       "      <td>0</td>\n",
       "      <td>260</td>\n",
       "      <td>0</td>\n",
       "      <td>0</td>\n",
       "      <td>7</td>\n",
       "      <td>2007</td>\n",
       "      <td>New</td>\n",
       "      <td>Partial</td>\n",
       "    </tr>\n",
       "    <tr>\n",
       "      <th>871</th>\n",
       "      <td>20</td>\n",
       "      <td>RL</td>\n",
       "      <td>6600</td>\n",
       "      <td>Pave</td>\n",
       "      <td>Reg</td>\n",
       "      <td>Lvl</td>\n",
       "      <td>AllPub</td>\n",
       "      <td>Inside</td>\n",
       "      <td>Gtl</td>\n",
       "      <td>NAmes</td>\n",
       "      <td>...</td>\n",
       "      <td>0</td>\n",
       "      <td>0</td>\n",
       "      <td>0</td>\n",
       "      <td>0</td>\n",
       "      <td>0</td>\n",
       "      <td>0</td>\n",
       "      <td>8</td>\n",
       "      <td>2009</td>\n",
       "      <td>WD</td>\n",
       "      <td>Normal</td>\n",
       "    </tr>\n",
       "    <tr>\n",
       "      <th>93</th>\n",
       "      <td>30</td>\n",
       "      <td>RL</td>\n",
       "      <td>13360</td>\n",
       "      <td>Pave</td>\n",
       "      <td>IR1</td>\n",
       "      <td>HLS</td>\n",
       "      <td>AllPub</td>\n",
       "      <td>Inside</td>\n",
       "      <td>Gtl</td>\n",
       "      <td>Crawfor</td>\n",
       "      <td>...</td>\n",
       "      <td>0</td>\n",
       "      <td>44</td>\n",
       "      <td>0</td>\n",
       "      <td>0</td>\n",
       "      <td>0</td>\n",
       "      <td>0</td>\n",
       "      <td>8</td>\n",
       "      <td>2009</td>\n",
       "      <td>WD</td>\n",
       "      <td>Normal</td>\n",
       "    </tr>\n",
       "    <tr>\n",
       "      <th>818</th>\n",
       "      <td>20</td>\n",
       "      <td>RL</td>\n",
       "      <td>13265</td>\n",
       "      <td>Pave</td>\n",
       "      <td>IR1</td>\n",
       "      <td>Lvl</td>\n",
       "      <td>AllPub</td>\n",
       "      <td>CulDSac</td>\n",
       "      <td>Gtl</td>\n",
       "      <td>Mitchel</td>\n",
       "      <td>...</td>\n",
       "      <td>59</td>\n",
       "      <td>0</td>\n",
       "      <td>0</td>\n",
       "      <td>0</td>\n",
       "      <td>0</td>\n",
       "      <td>0</td>\n",
       "      <td>7</td>\n",
       "      <td>2008</td>\n",
       "      <td>WD</td>\n",
       "      <td>Normal</td>\n",
       "    </tr>\n",
       "    <tr>\n",
       "      <th>303</th>\n",
       "      <td>20</td>\n",
       "      <td>RL</td>\n",
       "      <td>13704</td>\n",
       "      <td>Pave</td>\n",
       "      <td>IR1</td>\n",
       "      <td>Lvl</td>\n",
       "      <td>AllPub</td>\n",
       "      <td>Corner</td>\n",
       "      <td>Gtl</td>\n",
       "      <td>CollgCr</td>\n",
       "      <td>...</td>\n",
       "      <td>81</td>\n",
       "      <td>0</td>\n",
       "      <td>0</td>\n",
       "      <td>0</td>\n",
       "      <td>0</td>\n",
       "      <td>0</td>\n",
       "      <td>1</td>\n",
       "      <td>2006</td>\n",
       "      <td>WD</td>\n",
       "      <td>Normal</td>\n",
       "    </tr>\n",
       "  </tbody>\n",
       "</table>\n",
       "<p>5 rows × 60 columns</p>\n",
       "</div>"
      ],
      "text/plain": [
       "     MSSubClass MSZoning  LotArea Street LotShape LandContour Utilities  \\\n",
       "Id                                                                        \n",
       "619          20       RL    11694   Pave      Reg         Lvl    AllPub   \n",
       "871          20       RL     6600   Pave      Reg         Lvl    AllPub   \n",
       "93           30       RL    13360   Pave      IR1         HLS    AllPub   \n",
       "818          20       RL    13265   Pave      IR1         Lvl    AllPub   \n",
       "303          20       RL    13704   Pave      IR1         Lvl    AllPub   \n",
       "\n",
       "    LotConfig LandSlope Neighborhood  ... OpenPorchSF EnclosedPorch 3SsnPorch  \\\n",
       "Id                                    ...                                       \n",
       "619    Inside       Gtl      NridgHt  ...         108             0         0   \n",
       "871    Inside       Gtl        NAmes  ...           0             0         0   \n",
       "93     Inside       Gtl      Crawfor  ...           0            44         0   \n",
       "818   CulDSac       Gtl      Mitchel  ...          59             0         0   \n",
       "303    Corner       Gtl      CollgCr  ...          81             0         0   \n",
       "\n",
       "    ScreenPorch  PoolArea  MiscVal  MoSold  YrSold SaleType SaleCondition  \n",
       "Id                                                                         \n",
       "619         260         0        0       7    2007      New       Partial  \n",
       "871           0         0        0       8    2009       WD        Normal  \n",
       "93            0         0        0       8    2009       WD        Normal  \n",
       "818           0         0        0       7    2008       WD        Normal  \n",
       "303           0         0        0       1    2006       WD        Normal  \n",
       "\n",
       "[5 rows x 60 columns]"
      ]
     },
     "execution_count": 3,
     "metadata": {},
     "output_type": "execute_result"
    }
   ],
   "source": [
    "X_train.head()"
   ]
  },
  {
   "cell_type": "markdown",
   "id": "a0ffa987",
   "metadata": {
    "papermill": {
     "duration": 0.008947,
     "end_time": "2022-08-31T09:13:39.339166",
     "exception": false,
     "start_time": "2022-08-31T09:13:39.330219",
     "status": "completed"
    },
    "tags": []
   },
   "source": [
    "Notice that the dataset contains both numerical and categorical variables.  You'll need to encode the categorical data before training a model.\n",
    "\n",
    "To compare different models, you'll use the same `score_dataset()` function from the tutorial.  This function reports the [mean absolute error](https://en.wikipedia.org/wiki/Mean_absolute_error) (MAE) from a random forest model."
   ]
  },
  {
   "cell_type": "code",
   "execution_count": 4,
   "id": "883f5945",
   "metadata": {
    "execution": {
     "iopub.execute_input": "2022-08-31T09:13:39.358774Z",
     "iopub.status.busy": "2022-08-31T09:13:39.358421Z",
     "iopub.status.idle": "2022-08-31T09:13:39.581755Z",
     "shell.execute_reply": "2022-08-31T09:13:39.580939Z"
    },
    "papermill": {
     "duration": 0.235718,
     "end_time": "2022-08-31T09:13:39.584037",
     "exception": false,
     "start_time": "2022-08-31T09:13:39.348319",
     "status": "completed"
    },
    "tags": []
   },
   "outputs": [],
   "source": [
    "from sklearn.ensemble import RandomForestRegressor\n",
    "from sklearn.metrics import mean_absolute_error\n",
    "\n",
    "# function for comparing different approaches\n",
    "def score_dataset(X_train, X_valid, y_train, y_valid):\n",
    "    model = RandomForestRegressor(n_estimators=100, random_state=0)\n",
    "    model.fit(X_train, y_train)\n",
    "    preds = model.predict(X_valid)\n",
    "    return mean_absolute_error(y_valid, preds)"
   ]
  },
  {
   "cell_type": "markdown",
   "id": "d2de70d5",
   "metadata": {
    "papermill": {
     "duration": 0.007996,
     "end_time": "2022-08-31T09:13:39.600852",
     "exception": false,
     "start_time": "2022-08-31T09:13:39.592856",
     "status": "completed"
    },
    "tags": []
   },
   "source": [
    "# Step 1: Drop columns with categorical data\n",
    "\n",
    "You'll get started with the most straightforward approach.  Use the code cell below to preprocess the data in `X_train` and `X_valid` to remove columns with categorical data.  Set the preprocessed DataFrames to `drop_X_train` and `drop_X_valid`, respectively.  "
   ]
  },
  {
   "cell_type": "code",
   "execution_count": 5,
   "id": "b73fecfa",
   "metadata": {
    "execution": {
     "iopub.execute_input": "2022-08-31T09:13:39.619247Z",
     "iopub.status.busy": "2022-08-31T09:13:39.618462Z",
     "iopub.status.idle": "2022-08-31T09:13:39.628629Z",
     "shell.execute_reply": "2022-08-31T09:13:39.628020Z"
    },
    "papermill": {
     "duration": 0.021335,
     "end_time": "2022-08-31T09:13:39.630440",
     "exception": false,
     "start_time": "2022-08-31T09:13:39.609105",
     "status": "completed"
    },
    "tags": []
   },
   "outputs": [
    {
     "data": {
      "application/javascript": [
       "parent.postMessage({\"jupyterEvent\": \"custom.exercise_interaction\", \"data\": {\"outcomeType\": 1, \"valueTowardsCompletion\": 0.5, \"interactionType\": 1, \"questionType\": 2, \"questionId\": \"1_Drop\", \"learnToolsVersion\": \"0.3.4\", \"failureMessage\": \"\", \"exceptionClass\": \"\", \"trace\": \"\"}}, \"*\")"
      ],
      "text/plain": [
       "<IPython.core.display.Javascript object>"
      ]
     },
     "metadata": {},
     "output_type": "display_data"
    },
    {
     "data": {
      "text/markdown": [
       "<span style=\"color:#33cc33\">Correct</span>"
      ],
      "text/plain": [
       "Correct"
      ]
     },
     "metadata": {},
     "output_type": "display_data"
    }
   ],
   "source": [
    "# Fill in the lines below: drop columns in training and validation data\n",
    "s = (X_train.dtypes == 'object')\n",
    "object_cols = list(s[s].index)\n",
    "drop_X_train = X_train.select_dtypes(exclude=['object'])\n",
    "drop_X_valid = X_valid.drop(object_cols,axis=1)\n",
    "\n",
    "# Check your answers\n",
    "step_1.check()"
   ]
  },
  {
   "cell_type": "code",
   "execution_count": 6,
   "id": "3f4b6599",
   "metadata": {
    "execution": {
     "iopub.execute_input": "2022-08-31T09:13:39.650949Z",
     "iopub.status.busy": "2022-08-31T09:13:39.650374Z",
     "iopub.status.idle": "2022-08-31T09:13:39.653541Z",
     "shell.execute_reply": "2022-08-31T09:13:39.652980Z"
    },
    "papermill": {
     "duration": 0.015802,
     "end_time": "2022-08-31T09:13:39.655458",
     "exception": false,
     "start_time": "2022-08-31T09:13:39.639656",
     "status": "completed"
    },
    "tags": []
   },
   "outputs": [],
   "source": [
    "# Lines below will give you a hint or solution code\n",
    "#step_1.hint()\n",
    "#step_1.solution()"
   ]
  },
  {
   "cell_type": "markdown",
   "id": "8b1ff356",
   "metadata": {
    "papermill": {
     "duration": 0.008928,
     "end_time": "2022-08-31T09:13:39.673805",
     "exception": false,
     "start_time": "2022-08-31T09:13:39.664877",
     "status": "completed"
    },
    "tags": []
   },
   "source": [
    "Run the next code cell to get the MAE for this approach."
   ]
  },
  {
   "cell_type": "code",
   "execution_count": 7,
   "id": "8304abbe",
   "metadata": {
    "execution": {
     "iopub.execute_input": "2022-08-31T09:13:39.694381Z",
     "iopub.status.busy": "2022-08-31T09:13:39.693580Z",
     "iopub.status.idle": "2022-08-31T09:13:40.643645Z",
     "shell.execute_reply": "2022-08-31T09:13:40.642122Z"
    },
    "papermill": {
     "duration": 0.962759,
     "end_time": "2022-08-31T09:13:40.645907",
     "exception": false,
     "start_time": "2022-08-31T09:13:39.683148",
     "status": "completed"
    },
    "tags": []
   },
   "outputs": [
    {
     "name": "stdout",
     "output_type": "stream",
     "text": [
      "MAE from Approach 1 (Drop categorical variables):\n",
      "17837.82570776256\n"
     ]
    }
   ],
   "source": [
    "print(\"MAE from Approach 1 (Drop categorical variables):\")\n",
    "print(score_dataset(drop_X_train, drop_X_valid, y_train, y_valid))"
   ]
  },
  {
   "cell_type": "markdown",
   "id": "224f4433",
   "metadata": {
    "papermill": {
     "duration": 0.008754,
     "end_time": "2022-08-31T09:13:40.663684",
     "exception": false,
     "start_time": "2022-08-31T09:13:40.654930",
     "status": "completed"
    },
    "tags": []
   },
   "source": [
    "Before jumping into ordinal encoding, we'll investigate the dataset.  Specifically, we'll look at the `'Condition2'` column.  The code cell below prints the unique entries in both the training and validation sets."
   ]
  },
  {
   "cell_type": "code",
   "execution_count": 8,
   "id": "ba6e12f0",
   "metadata": {
    "execution": {
     "iopub.execute_input": "2022-08-31T09:13:40.684524Z",
     "iopub.status.busy": "2022-08-31T09:13:40.683782Z",
     "iopub.status.idle": "2022-08-31T09:13:40.691058Z",
     "shell.execute_reply": "2022-08-31T09:13:40.690018Z"
    },
    "papermill": {
     "duration": 0.01985,
     "end_time": "2022-08-31T09:13:40.692932",
     "exception": false,
     "start_time": "2022-08-31T09:13:40.673082",
     "status": "completed"
    },
    "tags": []
   },
   "outputs": [
    {
     "name": "stdout",
     "output_type": "stream",
     "text": [
      "Unique values in 'Condition2' column in training data: ['Norm' 'PosA' 'Feedr' 'PosN' 'Artery' 'RRAe']\n",
      "\n",
      "Unique values in 'Condition2' column in validation data: ['Norm' 'RRAn' 'RRNn' 'Artery' 'Feedr' 'PosN']\n"
     ]
    }
   ],
   "source": [
    "print(\"Unique values in 'Condition2' column in training data:\", X_train['Condition2'].unique())\n",
    "print(\"\\nUnique values in 'Condition2' column in validation data:\", X_valid['Condition2'].unique())"
   ]
  },
  {
   "cell_type": "markdown",
   "id": "4f21b3c5",
   "metadata": {
    "papermill": {
     "duration": 0.008518,
     "end_time": "2022-08-31T09:13:40.710897",
     "exception": false,
     "start_time": "2022-08-31T09:13:40.702379",
     "status": "completed"
    },
    "tags": []
   },
   "source": [
    "# Step 2: Ordinal encoding\n",
    "\n",
    "### Part A\n",
    "\n",
    "If you now write code to: \n",
    "- fit an ordinal encoder to the training data, and then \n",
    "- use it to transform both the training and validation data, \n",
    "\n",
    "you'll get an error.  Can you see why this is the case?  (_You'll need  to use the above output to answer this question._)"
   ]
  },
  {
   "cell_type": "code",
   "execution_count": 9,
   "id": "97944c1d",
   "metadata": {
    "execution": {
     "iopub.execute_input": "2022-08-31T09:13:40.731400Z",
     "iopub.status.busy": "2022-08-31T09:13:40.730889Z",
     "iopub.status.idle": "2022-08-31T09:13:40.740877Z",
     "shell.execute_reply": "2022-08-31T09:13:40.739787Z"
    },
    "papermill": {
     "duration": 0.022837,
     "end_time": "2022-08-31T09:13:40.743049",
     "exception": false,
     "start_time": "2022-08-31T09:13:40.720212",
     "status": "completed"
    },
    "tags": []
   },
   "outputs": [
    {
     "data": {
      "application/javascript": [
       "parent.postMessage({\"jupyterEvent\": \"custom.exercise_interaction\", \"data\": {\"outcomeType\": 1, \"valueTowardsCompletion\": 0.5, \"interactionType\": 1, \"questionType\": 4, \"questionId\": \"2.1_LabelA\", \"learnToolsVersion\": \"0.3.4\", \"failureMessage\": \"\", \"exceptionClass\": \"\", \"trace\": \"\"}}, \"*\")"
      ],
      "text/plain": [
       "<IPython.core.display.Javascript object>"
      ]
     },
     "metadata": {},
     "output_type": "display_data"
    },
    {
     "data": {
      "text/markdown": [
       "<span style=\"color:#33cc33\">Correct:</span> \n",
       "\n",
       "Fitting an ordinal encoder to a column in the training data creates a corresponding integer-valued label for each unique value **that appears in the training data**. In the case that the validation data contains values that don't also appear in the training data, the encoder will throw an error, because these values won't have an integer assigned to them.  Notice that the `'Condition2'` column in the validation data contains the values `'RRAn'` and `'RRNn'`, but these don't appear in the training data -- thus, if we try to use an ordinal encoder with scikit-learn, the code will throw an error."
      ],
      "text/plain": [
       "Correct: \n",
       "\n",
       "Fitting an ordinal encoder to a column in the training data creates a corresponding integer-valued label for each unique value **that appears in the training data**. In the case that the validation data contains values that don't also appear in the training data, the encoder will throw an error, because these values won't have an integer assigned to them.  Notice that the `'Condition2'` column in the validation data contains the values `'RRAn'` and `'RRNn'`, but these don't appear in the training data -- thus, if we try to use an ordinal encoder with scikit-learn, the code will throw an error."
      ]
     },
     "metadata": {},
     "output_type": "display_data"
    }
   ],
   "source": [
    "# Check your answer (Run this code cell to receive credit!)\n",
    "step_2.a.check()"
   ]
  },
  {
   "cell_type": "code",
   "execution_count": 10,
   "id": "64d4dca1",
   "metadata": {
    "execution": {
     "iopub.execute_input": "2022-08-31T09:13:40.763516Z",
     "iopub.status.busy": "2022-08-31T09:13:40.763176Z",
     "iopub.status.idle": "2022-08-31T09:13:40.767392Z",
     "shell.execute_reply": "2022-08-31T09:13:40.766153Z"
    },
    "papermill": {
     "duration": 0.016498,
     "end_time": "2022-08-31T09:13:40.769178",
     "exception": false,
     "start_time": "2022-08-31T09:13:40.752680",
     "status": "completed"
    },
    "tags": []
   },
   "outputs": [],
   "source": [
    "#step_2.a.hint()"
   ]
  },
  {
   "cell_type": "markdown",
   "id": "a7ba38dc",
   "metadata": {
    "papermill": {
     "duration": 0.009023,
     "end_time": "2022-08-31T09:13:40.787718",
     "exception": false,
     "start_time": "2022-08-31T09:13:40.778695",
     "status": "completed"
    },
    "tags": []
   },
   "source": [
    "This is a common problem that you'll encounter with real-world data, and there are many approaches to fixing this issue.  For instance, you can write a custom ordinal encoder to deal with new categories.  The simplest approach, however, is to drop the problematic categorical columns.  \n",
    "\n",
    "Run the code cell below to save the problematic columns to a Python list `bad_label_cols`.  Likewise, columns that can be safely ordinal encoded are stored in `good_label_cols`."
   ]
  },
  {
   "cell_type": "code",
   "execution_count": 11,
   "id": "85affd20",
   "metadata": {
    "execution": {
     "iopub.execute_input": "2022-08-31T09:13:40.808393Z",
     "iopub.status.busy": "2022-08-31T09:13:40.807998Z",
     "iopub.status.idle": "2022-08-31T09:13:40.823648Z",
     "shell.execute_reply": "2022-08-31T09:13:40.822176Z"
    },
    "papermill": {
     "duration": 0.028873,
     "end_time": "2022-08-31T09:13:40.825834",
     "exception": false,
     "start_time": "2022-08-31T09:13:40.796961",
     "status": "completed"
    },
    "tags": []
   },
   "outputs": [
    {
     "name": "stdout",
     "output_type": "stream",
     "text": [
      "Categorical columns that will be ordinal encoded: ['MSZoning', 'Street', 'LotShape', 'LandContour', 'Utilities', 'LotConfig', 'LandSlope', 'Neighborhood', 'Condition1', 'BldgType', 'HouseStyle', 'RoofStyle', 'Exterior1st', 'Exterior2nd', 'ExterQual', 'ExterCond', 'Foundation', 'Heating', 'HeatingQC', 'CentralAir', 'KitchenQual', 'PavedDrive', 'SaleType', 'SaleCondition']\n",
      "\n",
      "Categorical columns that will be dropped from the dataset: ['Functional', 'RoofMatl', 'Condition2']\n"
     ]
    }
   ],
   "source": [
    "# Categorical columns in the training data\n",
    "object_cols = [col for col in X_train.columns if X_train[col].dtype == \"object\"]\n",
    "\n",
    "# Columns that can be safely ordinal encoded\n",
    "good_label_cols = [col for col in object_cols if \n",
    "                   set(X_valid[col]).issubset(set(X_train[col]))]\n",
    "        \n",
    "# Problematic columns that will be dropped from the dataset\n",
    "bad_label_cols = list(set(object_cols)-set(good_label_cols))\n",
    "        \n",
    "print('Categorical columns that will be ordinal encoded:', good_label_cols)\n",
    "print('\\nCategorical columns that will be dropped from the dataset:', bad_label_cols)"
   ]
  },
  {
   "cell_type": "markdown",
   "id": "31ac1be0",
   "metadata": {
    "papermill": {
     "duration": 0.008983,
     "end_time": "2022-08-31T09:13:40.844816",
     "exception": false,
     "start_time": "2022-08-31T09:13:40.835833",
     "status": "completed"
    },
    "tags": []
   },
   "source": [
    "### Part B\n",
    "\n",
    "Use the next code cell to ordinal encode the data in `X_train` and `X_valid`.  Set the preprocessed DataFrames to `label_X_train` and `label_X_valid`, respectively.  \n",
    "- We have provided code below to drop the categorical columns in `bad_label_cols` from the dataset. \n",
    "- You should ordinal encode the categorical columns in `good_label_cols`.  "
   ]
  },
  {
   "cell_type": "code",
   "execution_count": 12,
   "id": "72320d5f",
   "metadata": {
    "execution": {
     "iopub.execute_input": "2022-08-31T09:13:40.866240Z",
     "iopub.status.busy": "2022-08-31T09:13:40.865775Z",
     "iopub.status.idle": "2022-08-31T09:13:40.914175Z",
     "shell.execute_reply": "2022-08-31T09:13:40.913238Z"
    },
    "papermill": {
     "duration": 0.061405,
     "end_time": "2022-08-31T09:13:40.915882",
     "exception": false,
     "start_time": "2022-08-31T09:13:40.854477",
     "status": "completed"
    },
    "tags": []
   },
   "outputs": [
    {
     "data": {
      "application/javascript": [
       "parent.postMessage({\"jupyterEvent\": \"custom.exercise_interaction\", \"data\": {\"outcomeType\": 1, \"valueTowardsCompletion\": 0.5, \"interactionType\": 1, \"questionType\": 2, \"questionId\": \"2.2_LabelB\", \"learnToolsVersion\": \"0.3.4\", \"failureMessage\": \"\", \"exceptionClass\": \"\", \"trace\": \"\"}}, \"*\")"
      ],
      "text/plain": [
       "<IPython.core.display.Javascript object>"
      ]
     },
     "metadata": {},
     "output_type": "display_data"
    },
    {
     "data": {
      "text/markdown": [
       "<span style=\"color:#33cc33\">Correct</span>"
      ],
      "text/plain": [
       "Correct"
      ]
     },
     "metadata": {},
     "output_type": "display_data"
    }
   ],
   "source": [
    "from sklearn.preprocessing import OrdinalEncoder\n",
    "\n",
    "# Drop categorical columns that will not be encoded\n",
    "label_X_train = X_train.drop(bad_label_cols, axis=1)\n",
    "label_X_valid = X_valid.drop(bad_label_cols, axis=1)\n",
    "\n",
    "# Apply ordinal encoder \n",
    "encoder=OrdinalEncoder()\n",
    "label_X_train[good_label_cols] = encoder.fit_transform(label_X_train[good_label_cols])\n",
    "label_X_valid[good_label_cols] = encoder.transform(label_X_valid[good_label_cols])\n",
    "# Your code here\n",
    "    \n",
    "# Check your answer\n",
    "step_2.b.check()"
   ]
  },
  {
   "cell_type": "code",
   "execution_count": 13,
   "id": "e1c9981b",
   "metadata": {
    "execution": {
     "iopub.execute_input": "2022-08-31T09:13:40.936885Z",
     "iopub.status.busy": "2022-08-31T09:13:40.936029Z",
     "iopub.status.idle": "2022-08-31T09:13:40.939931Z",
     "shell.execute_reply": "2022-08-31T09:13:40.939186Z"
    },
    "papermill": {
     "duration": 0.01655,
     "end_time": "2022-08-31T09:13:40.941747",
     "exception": false,
     "start_time": "2022-08-31T09:13:40.925197",
     "status": "completed"
    },
    "tags": []
   },
   "outputs": [],
   "source": [
    "# Lines below will give you a hint or solution code\n",
    "#step_2.b.hint()\n",
    "#step_2.b.solution()"
   ]
  },
  {
   "cell_type": "markdown",
   "id": "0133f294",
   "metadata": {
    "papermill": {
     "duration": 0.009359,
     "end_time": "2022-08-31T09:13:40.960746",
     "exception": false,
     "start_time": "2022-08-31T09:13:40.951387",
     "status": "completed"
    },
    "tags": []
   },
   "source": [
    "Run the next code cell to get the MAE for this approach."
   ]
  },
  {
   "cell_type": "code",
   "execution_count": 14,
   "id": "bb84a36c",
   "metadata": {
    "execution": {
     "iopub.execute_input": "2022-08-31T09:13:40.982417Z",
     "iopub.status.busy": "2022-08-31T09:13:40.981607Z",
     "iopub.status.idle": "2022-08-31T09:13:42.199345Z",
     "shell.execute_reply": "2022-08-31T09:13:42.198628Z"
    },
    "papermill": {
     "duration": 1.231299,
     "end_time": "2022-08-31T09:13:42.201589",
     "exception": false,
     "start_time": "2022-08-31T09:13:40.970290",
     "status": "completed"
    },
    "tags": []
   },
   "outputs": [
    {
     "name": "stdout",
     "output_type": "stream",
     "text": [
      "MAE from Approach 2 (Ordinal Encoding):\n",
      "17098.01649543379\n"
     ]
    }
   ],
   "source": [
    "print(\"MAE from Approach 2 (Ordinal Encoding):\") \n",
    "print(score_dataset(label_X_train, label_X_valid, y_train, y_valid))"
   ]
  },
  {
   "cell_type": "markdown",
   "id": "569be5d0",
   "metadata": {
    "papermill": {
     "duration": 0.008961,
     "end_time": "2022-08-31T09:13:42.220146",
     "exception": false,
     "start_time": "2022-08-31T09:13:42.211185",
     "status": "completed"
    },
    "tags": []
   },
   "source": [
    "So far, you've tried two different approaches to dealing with categorical variables.  And, you've seen that encoding categorical data yields better results than removing columns from the dataset.\n",
    "\n",
    "Soon, you'll try one-hot encoding.  Before then, there's one additional topic we need to cover.  Begin by running the next code cell without changes.  "
   ]
  },
  {
   "cell_type": "code",
   "execution_count": 15,
   "id": "4e85146b",
   "metadata": {
    "execution": {
     "iopub.execute_input": "2022-08-31T09:13:42.240119Z",
     "iopub.status.busy": "2022-08-31T09:13:42.239575Z",
     "iopub.status.idle": "2022-08-31T09:13:42.252269Z",
     "shell.execute_reply": "2022-08-31T09:13:42.251266Z"
    },
    "papermill": {
     "duration": 0.024691,
     "end_time": "2022-08-31T09:13:42.253995",
     "exception": false,
     "start_time": "2022-08-31T09:13:42.229304",
     "status": "completed"
    },
    "tags": []
   },
   "outputs": [
    {
     "data": {
      "text/plain": [
       "[('Street', 2),\n",
       " ('Utilities', 2),\n",
       " ('CentralAir', 2),\n",
       " ('LandSlope', 3),\n",
       " ('PavedDrive', 3),\n",
       " ('LotShape', 4),\n",
       " ('LandContour', 4),\n",
       " ('ExterQual', 4),\n",
       " ('KitchenQual', 4),\n",
       " ('MSZoning', 5),\n",
       " ('LotConfig', 5),\n",
       " ('BldgType', 5),\n",
       " ('ExterCond', 5),\n",
       " ('HeatingQC', 5),\n",
       " ('Condition2', 6),\n",
       " ('RoofStyle', 6),\n",
       " ('Foundation', 6),\n",
       " ('Heating', 6),\n",
       " ('Functional', 6),\n",
       " ('SaleCondition', 6),\n",
       " ('RoofMatl', 7),\n",
       " ('HouseStyle', 8),\n",
       " ('Condition1', 9),\n",
       " ('SaleType', 9),\n",
       " ('Exterior1st', 15),\n",
       " ('Exterior2nd', 16),\n",
       " ('Neighborhood', 25)]"
      ]
     },
     "execution_count": 15,
     "metadata": {},
     "output_type": "execute_result"
    }
   ],
   "source": [
    "# Get number of unique entries in each column with categorical data\n",
    "object_nunique = list(map(lambda col: X_train[col].nunique(), object_cols))\n",
    "d = dict(zip(object_cols, object_nunique))\n",
    "\n",
    "# Print number of unique entries by column, in ascending order\n",
    "sorted(d.items(), key=lambda x: x[1])"
   ]
  },
  {
   "cell_type": "markdown",
   "id": "3f6d7148",
   "metadata": {
    "papermill": {
     "duration": 0.009281,
     "end_time": "2022-08-31T09:13:42.274134",
     "exception": false,
     "start_time": "2022-08-31T09:13:42.264853",
     "status": "completed"
    },
    "tags": []
   },
   "source": [
    "# Step 3: Investigating cardinality\n",
    "\n",
    "### Part A\n",
    "\n",
    "The output above shows, for each column with categorical data, the number of unique values in the column.  For instance, the `'Street'` column in the training data has two unique values: `'Grvl'` and `'Pave'`, corresponding to a gravel road and a paved road, respectively.\n",
    "\n",
    "We refer to the number of unique entries of a categorical variable as the **cardinality** of that categorical variable.  For instance, the `'Street'` variable has cardinality 2.\n",
    "\n",
    "Use the output above to answer the questions below."
   ]
  },
  {
   "cell_type": "code",
   "execution_count": 16,
   "id": "68fb49c3",
   "metadata": {
    "execution": {
     "iopub.execute_input": "2022-08-31T09:13:42.294710Z",
     "iopub.status.busy": "2022-08-31T09:13:42.294057Z",
     "iopub.status.idle": "2022-08-31T09:13:42.301935Z",
     "shell.execute_reply": "2022-08-31T09:13:42.301333Z"
    },
    "papermill": {
     "duration": 0.020263,
     "end_time": "2022-08-31T09:13:42.303726",
     "exception": false,
     "start_time": "2022-08-31T09:13:42.283463",
     "status": "completed"
    },
    "tags": []
   },
   "outputs": [
    {
     "data": {
      "application/javascript": [
       "parent.postMessage({\"jupyterEvent\": \"custom.exercise_interaction\", \"data\": {\"outcomeType\": 1, \"valueTowardsCompletion\": 0.5, \"interactionType\": 1, \"questionType\": 1, \"questionId\": \"3.1_CardinalityA\", \"learnToolsVersion\": \"0.3.4\", \"failureMessage\": \"\", \"exceptionClass\": \"\", \"trace\": \"\"}}, \"*\")"
      ],
      "text/plain": [
       "<IPython.core.display.Javascript object>"
      ]
     },
     "metadata": {},
     "output_type": "display_data"
    },
    {
     "data": {
      "text/markdown": [
       "<span style=\"color:#33cc33\">Correct</span>"
      ],
      "text/plain": [
       "Correct"
      ]
     },
     "metadata": {},
     "output_type": "display_data"
    }
   ],
   "source": [
    "# Fill in the line below: How many categorical variables in the training data\n",
    "# have cardinality greater than 10?\n",
    "high_cardinality_numcols = 3\n",
    "\n",
    "# Fill in the line below: How many columns are needed to one-hot encode the \n",
    "# 'Neighborhood' variable in the training data?\n",
    "num_cols_neighborhood = 25\n",
    "\n",
    "# Check your answers\n",
    "step_3.a.check()"
   ]
  },
  {
   "cell_type": "code",
   "execution_count": 17,
   "id": "9fab428d",
   "metadata": {
    "execution": {
     "iopub.execute_input": "2022-08-31T09:13:42.325074Z",
     "iopub.status.busy": "2022-08-31T09:13:42.324703Z",
     "iopub.status.idle": "2022-08-31T09:13:42.328237Z",
     "shell.execute_reply": "2022-08-31T09:13:42.327328Z"
    },
    "papermill": {
     "duration": 0.01644,
     "end_time": "2022-08-31T09:13:42.329961",
     "exception": false,
     "start_time": "2022-08-31T09:13:42.313521",
     "status": "completed"
    },
    "tags": []
   },
   "outputs": [],
   "source": [
    "# Lines below will give you a hint or solution code\n",
    "#step_3.a.hint()\n",
    "#step_3.a.solution()"
   ]
  },
  {
   "cell_type": "markdown",
   "id": "1f82602e",
   "metadata": {
    "papermill": {
     "duration": 0.009683,
     "end_time": "2022-08-31T09:13:42.349583",
     "exception": false,
     "start_time": "2022-08-31T09:13:42.339900",
     "status": "completed"
    },
    "tags": []
   },
   "source": [
    "### Part B\n",
    "\n",
    "For large datasets with many rows, one-hot encoding can greatly expand the size of the dataset.  For this reason, we typically will only one-hot encode columns with relatively low cardinality.  Then, high cardinality columns can either be dropped from the dataset, or we can use ordinal encoding.\n",
    "\n",
    "As an example, consider a dataset with 10,000 rows, and containing one categorical column with 100 unique entries.  \n",
    "- If this column is replaced with the corresponding one-hot encoding, how many entries are added to the dataset?  \n",
    "- If we instead replace the column with the ordinal encoding, how many entries are added?  \n",
    "\n",
    "Use your answers to fill in the lines below."
   ]
  },
  {
   "cell_type": "code",
   "execution_count": 18,
   "id": "86959e90",
   "metadata": {
    "execution": {
     "iopub.execute_input": "2022-08-31T09:13:42.370463Z",
     "iopub.status.busy": "2022-08-31T09:13:42.369828Z",
     "iopub.status.idle": "2022-08-31T09:13:42.377514Z",
     "shell.execute_reply": "2022-08-31T09:13:42.376832Z"
    },
    "papermill": {
     "duration": 0.020011,
     "end_time": "2022-08-31T09:13:42.379199",
     "exception": false,
     "start_time": "2022-08-31T09:13:42.359188",
     "status": "completed"
    },
    "tags": []
   },
   "outputs": [
    {
     "data": {
      "application/javascript": [
       "parent.postMessage({\"jupyterEvent\": \"custom.exercise_interaction\", \"data\": {\"outcomeType\": 1, \"valueTowardsCompletion\": 0.5, \"interactionType\": 1, \"questionType\": 1, \"questionId\": \"3.2_CardinalityB\", \"learnToolsVersion\": \"0.3.4\", \"failureMessage\": \"\", \"exceptionClass\": \"\", \"trace\": \"\"}}, \"*\")"
      ],
      "text/plain": [
       "<IPython.core.display.Javascript object>"
      ]
     },
     "metadata": {},
     "output_type": "display_data"
    },
    {
     "data": {
      "text/markdown": [
       "<span style=\"color:#33cc33\">Correct</span>"
      ],
      "text/plain": [
       "Correct"
      ]
     },
     "metadata": {},
     "output_type": "display_data"
    }
   ],
   "source": [
    "# Fill in the line below: How many entries are added to the dataset by \n",
    "# replacing the column with a one-hot encoding?\n",
    "OH_entries_added = 10000*100 - 10000\n",
    "\n",
    "# Fill in the line below: How many entries are added to the dataset by\n",
    "# replacing the column with an ordinal encoding?\n",
    "label_entries_added = 0\n",
    "\n",
    "# Check your answers\n",
    "step_3.b.check()"
   ]
  },
  {
   "cell_type": "code",
   "execution_count": 19,
   "id": "39334d0c",
   "metadata": {
    "execution": {
     "iopub.execute_input": "2022-08-31T09:13:42.399838Z",
     "iopub.status.busy": "2022-08-31T09:13:42.399556Z",
     "iopub.status.idle": "2022-08-31T09:13:42.402846Z",
     "shell.execute_reply": "2022-08-31T09:13:42.402200Z"
    },
    "papermill": {
     "duration": 0.015669,
     "end_time": "2022-08-31T09:13:42.404514",
     "exception": false,
     "start_time": "2022-08-31T09:13:42.388845",
     "status": "completed"
    },
    "tags": []
   },
   "outputs": [],
   "source": [
    "# Lines below will give you a hint or solution code\n",
    "#step_3.b.hint()\n",
    "#step_3.b.solution()"
   ]
  },
  {
   "cell_type": "markdown",
   "id": "b7fce85d",
   "metadata": {
    "papermill": {
     "duration": 0.009393,
     "end_time": "2022-08-31T09:13:42.423724",
     "exception": false,
     "start_time": "2022-08-31T09:13:42.414331",
     "status": "completed"
    },
    "tags": []
   },
   "source": [
    "Next, you'll experiment with one-hot encoding.  But, instead of encoding all of the categorical variables in the dataset, you'll only create a one-hot encoding for columns with cardinality less than 10.\n",
    "\n",
    "Run the code cell below without changes to set `low_cardinality_cols` to a Python list containing the columns that will be one-hot encoded.  Likewise, `high_cardinality_cols` contains a list of categorical columns that will be dropped from the dataset."
   ]
  },
  {
   "cell_type": "code",
   "execution_count": 20,
   "id": "690f69e8",
   "metadata": {
    "execution": {
     "iopub.execute_input": "2022-08-31T09:13:42.445008Z",
     "iopub.status.busy": "2022-08-31T09:13:42.444407Z",
     "iopub.status.idle": "2022-08-31T09:13:42.454125Z",
     "shell.execute_reply": "2022-08-31T09:13:42.453234Z"
    },
    "papermill": {
     "duration": 0.022468,
     "end_time": "2022-08-31T09:13:42.455804",
     "exception": false,
     "start_time": "2022-08-31T09:13:42.433336",
     "status": "completed"
    },
    "tags": []
   },
   "outputs": [
    {
     "name": "stdout",
     "output_type": "stream",
     "text": [
      "Categorical columns that will be one-hot encoded: ['MSZoning', 'Street', 'LotShape', 'LandContour', 'Utilities', 'LotConfig', 'LandSlope', 'Condition1', 'Condition2', 'BldgType', 'HouseStyle', 'RoofStyle', 'RoofMatl', 'ExterQual', 'ExterCond', 'Foundation', 'Heating', 'HeatingQC', 'CentralAir', 'KitchenQual', 'Functional', 'PavedDrive', 'SaleType', 'SaleCondition']\n",
      "\n",
      "Categorical columns that will be dropped from the dataset: ['Exterior1st', 'Neighborhood', 'Exterior2nd']\n"
     ]
    }
   ],
   "source": [
    "# Columns that will be one-hot encoded\n",
    "low_cardinality_cols = [col for col in object_cols if X_train[col].nunique() < 10]\n",
    "\n",
    "# Columns that will be dropped from the dataset\n",
    "high_cardinality_cols = list(set(object_cols)-set(low_cardinality_cols))\n",
    "\n",
    "print('Categorical columns that will be one-hot encoded:', low_cardinality_cols)\n",
    "print('\\nCategorical columns that will be dropped from the dataset:', high_cardinality_cols)"
   ]
  },
  {
   "cell_type": "markdown",
   "id": "0f6ecb85",
   "metadata": {
    "papermill": {
     "duration": 0.00979,
     "end_time": "2022-08-31T09:13:42.475677",
     "exception": false,
     "start_time": "2022-08-31T09:13:42.465887",
     "status": "completed"
    },
    "tags": []
   },
   "source": [
    "# Step 4: One-hot encoding\n",
    "\n",
    "Use the next code cell to one-hot encode the data in `X_train` and `X_valid`.  Set the preprocessed DataFrames to `OH_X_train` and `OH_X_valid`, respectively.  \n",
    "- The full list of categorical columns in the dataset can be found in the Python list `object_cols`.\n",
    "- You should only one-hot encode the categorical columns in `low_cardinality_cols`.  All other categorical columns should be dropped from the dataset. "
   ]
  },
  {
   "cell_type": "code",
   "execution_count": 21,
   "id": "62766319",
   "metadata": {
    "execution": {
     "iopub.execute_input": "2022-08-31T09:13:42.497366Z",
     "iopub.status.busy": "2022-08-31T09:13:42.496740Z",
     "iopub.status.idle": "2022-08-31T09:13:42.542888Z",
     "shell.execute_reply": "2022-08-31T09:13:42.541834Z"
    },
    "papermill": {
     "duration": 0.059431,
     "end_time": "2022-08-31T09:13:42.545066",
     "exception": false,
     "start_time": "2022-08-31T09:13:42.485635",
     "status": "completed"
    },
    "tags": []
   },
   "outputs": [
    {
     "data": {
      "application/javascript": [
       "parent.postMessage({\"jupyterEvent\": \"custom.exercise_interaction\", \"data\": {\"outcomeType\": 1, \"valueTowardsCompletion\": 0.5, \"interactionType\": 1, \"questionType\": 2, \"questionId\": \"4_OneHot\", \"learnToolsVersion\": \"0.3.4\", \"failureMessage\": \"\", \"exceptionClass\": \"\", \"trace\": \"\"}}, \"*\")"
      ],
      "text/plain": [
       "<IPython.core.display.Javascript object>"
      ]
     },
     "metadata": {},
     "output_type": "display_data"
    },
    {
     "data": {
      "text/markdown": [
       "<span style=\"color:#33cc33\">Correct</span>"
      ],
      "text/plain": [
       "Correct"
      ]
     },
     "metadata": {},
     "output_type": "display_data"
    }
   ],
   "source": [
    "from sklearn.preprocessing import OneHotEncoder\n",
    "from sklearn.compose import ColumnTransformer\n",
    "import numpy as np\n",
    "ohencoder=OneHotEncoder(handle_unknown='ignore', sparse=False)\n",
    "\n",
    "# Use as many lines of code as you need!\n",
    "oht=pd.DataFrame(ohencoder.fit_transform(X_train[low_cardinality_cols]))\n",
    "ohv=pd.DataFrame(ohencoder.transform(X_valid[low_cardinality_cols]))\n",
    "\n",
    "oht.index = X_train.index\n",
    "ohv.index = X_valid.index\n",
    "\n",
    "XT = X_train.drop(object_cols, axis=1)\n",
    "XV = X_valid.drop(object_cols, axis=1)\n",
    "\n",
    "OH_X_train = pd.concat([XT, oht], axis=1)\n",
    "OH_X_valid = pd.concat([XV, ohv], axis=1)\n",
    "\n",
    "#ct = ColumnTransformer(transformers=[('encoder', OneHotEncoder(), object_cols)], remainder='passthrough')\n",
    "#OH_X_train = pd.DataFrame(ct.fit_transform(X))\n",
    "#OH_X_valid = pd.DataFrame(ct.transform(X))\n",
    "\n",
    "\n",
    "# Check your answer\n",
    "step_4.check()"
   ]
  },
  {
   "cell_type": "code",
   "execution_count": 22,
   "id": "79390410",
   "metadata": {
    "execution": {
     "iopub.execute_input": "2022-08-31T09:13:42.568081Z",
     "iopub.status.busy": "2022-08-31T09:13:42.567342Z",
     "iopub.status.idle": "2022-08-31T09:13:42.571080Z",
     "shell.execute_reply": "2022-08-31T09:13:42.570362Z"
    },
    "papermill": {
     "duration": 0.018356,
     "end_time": "2022-08-31T09:13:42.573767",
     "exception": false,
     "start_time": "2022-08-31T09:13:42.555411",
     "status": "completed"
    },
    "tags": []
   },
   "outputs": [],
   "source": [
    "# Lines below will give you a hint or solution code\n",
    "#step_4.hint()\n",
    "#step_4.solution()"
   ]
  },
  {
   "cell_type": "markdown",
   "id": "d903d5a0",
   "metadata": {
    "papermill": {
     "duration": 0.01043,
     "end_time": "2022-08-31T09:13:42.595021",
     "exception": false,
     "start_time": "2022-08-31T09:13:42.584591",
     "status": "completed"
    },
    "tags": []
   },
   "source": [
    "Run the next code cell to get the MAE for this approach."
   ]
  },
  {
   "cell_type": "code",
   "execution_count": 23,
   "id": "8d23bfdf",
   "metadata": {
    "execution": {
     "iopub.execute_input": "2022-08-31T09:13:42.618923Z",
     "iopub.status.busy": "2022-08-31T09:13:42.618213Z",
     "iopub.status.idle": "2022-08-31T09:13:44.006218Z",
     "shell.execute_reply": "2022-08-31T09:13:44.005384Z"
    },
    "papermill": {
     "duration": 1.403234,
     "end_time": "2022-08-31T09:13:44.008898",
     "exception": false,
     "start_time": "2022-08-31T09:13:42.605664",
     "status": "completed"
    },
    "tags": []
   },
   "outputs": [
    {
     "name": "stdout",
     "output_type": "stream",
     "text": [
      "MAE from Approach 3 (One-Hot Encoding):\n"
     ]
    },
    {
     "name": "stderr",
     "output_type": "stream",
     "text": [
      "/opt/conda/lib/python3.7/site-packages/sklearn/utils/validation.py:1692: FutureWarning: Feature names only support names that are all strings. Got feature names with dtypes: ['int', 'str']. An error will be raised in 1.2.\n",
      "  FutureWarning,\n"
     ]
    },
    {
     "name": "stdout",
     "output_type": "stream",
     "text": [
      "17525.345719178084\n"
     ]
    },
    {
     "name": "stderr",
     "output_type": "stream",
     "text": [
      "/opt/conda/lib/python3.7/site-packages/sklearn/utils/validation.py:1692: FutureWarning: Feature names only support names that are all strings. Got feature names with dtypes: ['int', 'str']. An error will be raised in 1.2.\n",
      "  FutureWarning,\n"
     ]
    }
   ],
   "source": [
    "print(\"MAE from Approach 3 (One-Hot Encoding):\") \n",
    "print(score_dataset(OH_X_train, OH_X_valid, y_train, y_valid))"
   ]
  },
  {
   "cell_type": "markdown",
   "id": "7d850fd9",
   "metadata": {
    "papermill": {
     "duration": 0.010944,
     "end_time": "2022-08-31T09:13:44.031042",
     "exception": false,
     "start_time": "2022-08-31T09:13:44.020098",
     "status": "completed"
    },
    "tags": []
   },
   "source": [
    "# Generate test predictions and submit your results\n",
    "\n",
    "After you complete Step 4, if you'd like to use what you've learned to submit your results to the leaderboard, you'll need to preprocess the test data before generating predictions.\n",
    "\n",
    "**This step is completely optional, and you do not need to submit results to the leaderboard to successfully complete the exercise.**\n",
    "\n",
    "Check out the previous exercise if you need help with remembering how to [join the competition](https://www.kaggle.com/c/home-data-for-ml-course) or save your results to CSV.  Once you have generated a file with your results, follow the instructions below:\n",
    "1. Begin by clicking on the **Save Version** button in the top right corner of the window.  This will generate a pop-up window.  \n",
    "2. Ensure that the **Save and Run All** option is selected, and then click on the **Save** button.\n",
    "3. This generates a window in the bottom left corner of the notebook.  After it has finished running, click on the number to the right of the **Save Version** button.  This pulls up a list of versions on the right of the screen.  Click on the ellipsis **(...)** to the right of the most recent version, and select **Open in Viewer**.  This brings you into view mode of the same page. You will need to scroll down to get back to these instructions.\n",
    "4. Click on the **Output** tab on the right of the screen.  Then, click on the file you would like to submit, and click on the **Submit** button to submit your results to the leaderboard.\n",
    "\n",
    "You have now successfully submitted to the competition!\n",
    "\n",
    "If you want to keep working to improve your performance, select the **Edit** button in the top right of the screen. Then you can change your code and repeat the process. There's a lot of room to improve, and you will climb up the leaderboard as you work.\n"
   ]
  },
  {
   "cell_type": "code",
   "execution_count": 24,
   "id": "d6e455ee",
   "metadata": {
    "execution": {
     "iopub.execute_input": "2022-08-31T09:13:44.054876Z",
     "iopub.status.busy": "2022-08-31T09:13:44.054190Z",
     "iopub.status.idle": "2022-08-31T09:13:44.058538Z",
     "shell.execute_reply": "2022-08-31T09:13:44.057074Z"
    },
    "papermill": {
     "duration": 0.019244,
     "end_time": "2022-08-31T09:13:44.060870",
     "exception": false,
     "start_time": "2022-08-31T09:13:44.041626",
     "status": "completed"
    },
    "tags": []
   },
   "outputs": [],
   "source": [
    "# (Optional) Your code here"
   ]
  },
  {
   "cell_type": "markdown",
   "id": "c7a9930a",
   "metadata": {
    "papermill": {
     "duration": 0.011308,
     "end_time": "2022-08-31T09:13:44.083231",
     "exception": false,
     "start_time": "2022-08-31T09:13:44.071923",
     "status": "completed"
    },
    "tags": []
   },
   "source": [
    "# Keep going\n",
    "\n",
    "With missing value handling and categorical encoding, your modeling process is getting complex. This complexity gets worse when you want to save your model to use in the future. The key to managing this complexity is something called **pipelines**. \n",
    "\n",
    "**[Learn to use pipelines](https://www.kaggle.com/alexisbcook/pipelines)** to preprocess datasets with categorical variables, missing values and any other messiness your data throws at you."
   ]
  },
  {
   "cell_type": "markdown",
   "id": "6a7d1c03",
   "metadata": {
    "papermill": {
     "duration": 0.010299,
     "end_time": "2022-08-31T09:13:44.104760",
     "exception": false,
     "start_time": "2022-08-31T09:13:44.094461",
     "status": "completed"
    },
    "tags": []
   },
   "source": [
    "---\n",
    "\n",
    "\n",
    "\n",
    "\n",
    "*Have questions or comments? Visit the [course discussion forum](https://www.kaggle.com/learn/intermediate-machine-learning/discussion) to chat with other learners.*"
   ]
  }
 ],
 "metadata": {
  "kernelspec": {
   "display_name": "Python 3",
   "language": "python",
   "name": "python3"
  },
  "language_info": {
   "codemirror_mode": {
    "name": "ipython",
    "version": 3
   },
   "file_extension": ".py",
   "mimetype": "text/x-python",
   "name": "python",
   "nbconvert_exporter": "python",
   "pygments_lexer": "ipython3",
   "version": "3.7.12"
  },
  "papermill": {
   "default_parameters": {},
   "duration": 15.261874,
   "end_time": "2022-08-31T09:13:44.937604",
   "environment_variables": {},
   "exception": null,
   "input_path": "__notebook__.ipynb",
   "output_path": "__notebook__.ipynb",
   "parameters": {},
   "start_time": "2022-08-31T09:13:29.675730",
   "version": "2.3.4"
  }
 },
 "nbformat": 4,
 "nbformat_minor": 5
}
