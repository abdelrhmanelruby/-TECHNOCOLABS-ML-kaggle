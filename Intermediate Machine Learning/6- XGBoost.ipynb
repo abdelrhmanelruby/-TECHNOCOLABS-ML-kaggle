{
 "cells": [
  {
   "cell_type": "markdown",
   "id": "18a141e6",
   "metadata": {
    "_cell_guid": "06e18728-0b5e-42ad-9aa5-e900e9ccd543",
    "_uuid": "087df2e8-d5d4-4c18-b4f5-fcb88ceb479a",
    "papermill": {
     "duration": 0.00702,
     "end_time": "2022-08-31T09:14:46.894954",
     "exception": false,
     "start_time": "2022-08-31T09:14:46.887934",
     "status": "completed"
    },
    "tags": []
   },
   "source": [
    "**This notebook is an exercise in the [Intermediate Machine Learning](https://www.kaggle.com/learn/intermediate-machine-learning) course.  You can reference the tutorial at [this link](https://www.kaggle.com/alexisbcook/xgboost).**\n",
    "\n",
    "---"
   ]
  },
  {
   "cell_type": "markdown",
   "id": "c659fd7a",
   "metadata": {
    "_cell_guid": "3047ce0b-cc82-46f2-946b-2981c4abd590",
    "_uuid": "2e795d28-e83e-41fe-9e63-74fff359dab5",
    "papermill": {
     "duration": 0.005354,
     "end_time": "2022-08-31T09:14:46.906177",
     "exception": false,
     "start_time": "2022-08-31T09:14:46.900823",
     "status": "completed"
    },
    "tags": []
   },
   "source": [
    "In this exercise, you will use your new knowledge to train a model with **gradient boosting**.\n",
    "\n",
    "# Setup\n",
    "\n",
    "The questions below will give you feedback on your work. Run the following cell to set up the feedback system."
   ]
  },
  {
   "cell_type": "code",
   "execution_count": 1,
   "id": "d76bfa21",
   "metadata": {
    "_cell_guid": "dd470468-0ef4-4d51-b4b5-7ddb4bdbfb71",
    "_uuid": "dc09802f-9595-4960-bad9-8d6538774d73",
    "collapsed": false,
    "execution": {
     "iopub.execute_input": "2022-08-31T09:14:46.919411Z",
     "iopub.status.busy": "2022-08-31T09:14:46.918925Z",
     "iopub.status.idle": "2022-08-31T09:14:49.446587Z",
     "shell.execute_reply": "2022-08-31T09:14:49.445657Z"
    },
    "jupyter": {
     "outputs_hidden": false
    },
    "papermill": {
     "duration": 2.537347,
     "end_time": "2022-08-31T09:14:49.449198",
     "exception": false,
     "start_time": "2022-08-31T09:14:46.911851",
     "status": "completed"
    },
    "tags": []
   },
   "outputs": [
    {
     "name": "stdout",
     "output_type": "stream",
     "text": [
      "Setup Complete\n"
     ]
    }
   ],
   "source": [
    "# Set up code checking\n",
    "import os\n",
    "if not os.path.exists(\"../input/train.csv\"):\n",
    "    os.symlink(\"../input/home-data-for-ml-course/train.csv\", \"../input/train.csv\")  \n",
    "    os.symlink(\"../input/home-data-for-ml-course/test.csv\", \"../input/test.csv\") \n",
    "from learntools.core import binder\n",
    "binder.bind(globals())\n",
    "from learntools.ml_intermediate.ex6 import *\n",
    "print(\"Setup Complete\")"
   ]
  },
  {
   "cell_type": "markdown",
   "id": "6cbc871c",
   "metadata": {
    "_cell_guid": "03b547e2-97d7-4075-b4c7-777fa9823b5a",
    "_uuid": "e6ec38e4-68fa-410c-b29d-26251f36c607",
    "papermill": {
     "duration": 0.005529,
     "end_time": "2022-08-31T09:14:49.461744",
     "exception": false,
     "start_time": "2022-08-31T09:14:49.456215",
     "status": "completed"
    },
    "tags": []
   },
   "source": [
    "You will work with the [Housing Prices Competition for Kaggle Learn Users](https://www.kaggle.com/c/home-data-for-ml-course) dataset from the previous exercise. \n",
    "\n",
    "![Ames Housing dataset image](https://i.imgur.com/lTJVG4e.png)\n",
    "\n",
    "Run the next code cell without changes to load the training and validation sets in `X_train`, `X_valid`, `y_train`, and `y_valid`.  The test set is loaded in `X_test`."
   ]
  },
  {
   "cell_type": "code",
   "execution_count": 2,
   "id": "b3c0fb1e",
   "metadata": {
    "_cell_guid": "c016f107-82d8-4fd0-bfa1-f49939c4e912",
    "_uuid": "2343984a-f6c8-4ce5-817d-8ce0892ed48a",
    "collapsed": false,
    "execution": {
     "iopub.execute_input": "2022-08-31T09:14:49.474414Z",
     "iopub.status.busy": "2022-08-31T09:14:49.474027Z",
     "iopub.status.idle": "2022-08-31T09:14:49.655147Z",
     "shell.execute_reply": "2022-08-31T09:14:49.654292Z"
    },
    "jupyter": {
     "outputs_hidden": false
    },
    "papermill": {
     "duration": 0.190434,
     "end_time": "2022-08-31T09:14:49.657720",
     "exception": false,
     "start_time": "2022-08-31T09:14:49.467286",
     "status": "completed"
    },
    "tags": []
   },
   "outputs": [],
   "source": [
    "import pandas as pd\n",
    "from sklearn.model_selection import train_test_split\n",
    "\n",
    "# Read the data\n",
    "X = pd.read_csv('../input/train.csv', index_col='Id')\n",
    "X_test_full = pd.read_csv('../input/test.csv', index_col='Id')\n",
    "\n",
    "# Remove rows with missing target, separate target from predictors\n",
    "X.dropna(axis=0, subset=['SalePrice'], inplace=True)\n",
    "y = X.SalePrice              \n",
    "X.drop(['SalePrice'], axis=1, inplace=True)\n",
    "\n",
    "# Break off validation set from training data\n",
    "X_train_full, X_valid_full, y_train, y_valid = train_test_split(X, y, train_size=0.8, test_size=0.2,\n",
    "                                                                random_state=0)\n",
    "\n",
    "# \"Cardinality\" means the number of unique values in a column\n",
    "# Select categorical columns with relatively low cardinality (convenient but arbitrary)\n",
    "low_cardinality_cols = [cname for cname in X_train_full.columns if X_train_full[cname].nunique() < 10 and \n",
    "                        X_train_full[cname].dtype == \"object\"]\n",
    "\n",
    "# Select numeric columns\n",
    "numeric_cols = [cname for cname in X_train_full.columns if X_train_full[cname].dtype in ['int64', 'float64']]\n",
    "\n",
    "# Keep selected columns only\n",
    "my_cols = low_cardinality_cols + numeric_cols\n",
    "X_train = X_train_full[my_cols].copy()\n",
    "X_valid = X_valid_full[my_cols].copy()\n",
    "X_test = X_test_full[my_cols].copy()\n",
    "\n",
    "# One-hot encode the data (to shorten the code, we use pandas)\n",
    "X_train = pd.get_dummies(X_train)\n",
    "X_valid = pd.get_dummies(X_valid)\n",
    "X_test = pd.get_dummies(X_test)\n",
    "X_train, X_valid = X_train.align(X_valid, join='left', axis=1)\n",
    "X_train, X_test = X_train.align(X_test, join='left', axis=1)"
   ]
  },
  {
   "cell_type": "markdown",
   "id": "032bc7ee",
   "metadata": {
    "_cell_guid": "0309fc00-2b11-4495-94e1-5b246a372678",
    "_uuid": "1e889b8c-271b-4013-97f8-2cd79a1bc8d2",
    "papermill": {
     "duration": 0.005309,
     "end_time": "2022-08-31T09:14:49.668830",
     "exception": false,
     "start_time": "2022-08-31T09:14:49.663521",
     "status": "completed"
    },
    "tags": []
   },
   "source": [
    "# Step 1: Build model\n",
    "\n",
    "### Part A\n",
    "\n",
    "In this step, you'll build and train your first model with gradient boosting.\n",
    "\n",
    "- Begin by setting `my_model_1` to an XGBoost model.  Use the [XGBRegressor](https://xgboost.readthedocs.io/en/latest/python/python_api.html#xgboost.XGBRegressor) class, and set the random seed to 0 (`random_state=0`).  **Leave all other parameters as default.**\n",
    "- Then, fit the model to the training data in `X_train` and `y_train`."
   ]
  },
  {
   "cell_type": "code",
   "execution_count": 3,
   "id": "f176aec5",
   "metadata": {
    "_cell_guid": "ca7669b2-021e-49a2-90f3-0d6d4106476b",
    "_uuid": "6f27fd0c-4058-41b8-84f7-549fb4e4ea25",
    "collapsed": false,
    "execution": {
     "iopub.execute_input": "2022-08-31T09:14:49.681898Z",
     "iopub.status.busy": "2022-08-31T09:14:49.681233Z",
     "iopub.status.idle": "2022-08-31T09:14:50.706613Z",
     "shell.execute_reply": "2022-08-31T09:14:50.705794Z"
    },
    "jupyter": {
     "outputs_hidden": false
    },
    "papermill": {
     "duration": 1.034231,
     "end_time": "2022-08-31T09:14:50.708586",
     "exception": false,
     "start_time": "2022-08-31T09:14:49.674355",
     "status": "completed"
    },
    "tags": []
   },
   "outputs": [
    {
     "data": {
      "application/javascript": [
       "parent.postMessage({\"jupyterEvent\": \"custom.exercise_interaction\", \"data\": {\"outcomeType\": 1, \"valueTowardsCompletion\": 0.5, \"interactionType\": 1, \"questionType\": 2, \"questionId\": \"1.1_Model1A\", \"learnToolsVersion\": \"0.3.4\", \"failureMessage\": \"\", \"exceptionClass\": \"\", \"trace\": \"\"}}, \"*\")"
      ],
      "text/plain": [
       "<IPython.core.display.Javascript object>"
      ]
     },
     "metadata": {},
     "output_type": "display_data"
    },
    {
     "data": {
      "text/markdown": [
       "<span style=\"color:#33cc33\">Correct</span>"
      ],
      "text/plain": [
       "Correct"
      ]
     },
     "metadata": {},
     "output_type": "display_data"
    }
   ],
   "source": [
    "from xgboost import XGBRegressor\n",
    "\n",
    "# Define the model\n",
    "my_model_1 = XGBRegressor(random_state=0) # Your code here\n",
    "\n",
    "# Fit the model\n",
    "my_model_1.fit(X_train,y_train) # Your code here\n",
    "\n",
    "# Check your answer\n",
    "step_1.a.check()"
   ]
  },
  {
   "cell_type": "code",
   "execution_count": 4,
   "id": "40f4aca8",
   "metadata": {
    "_cell_guid": "02669141-c23f-46e9-9080-9714b98f7eff",
    "_uuid": "1dda49c8-36f3-4aee-b2f6-8ffddc45c369",
    "collapsed": false,
    "execution": {
     "iopub.execute_input": "2022-08-31T09:14:50.722290Z",
     "iopub.status.busy": "2022-08-31T09:14:50.721518Z",
     "iopub.status.idle": "2022-08-31T09:14:50.725462Z",
     "shell.execute_reply": "2022-08-31T09:14:50.724564Z"
    },
    "jupyter": {
     "outputs_hidden": false
    },
    "papermill": {
     "duration": 0.013244,
     "end_time": "2022-08-31T09:14:50.727863",
     "exception": false,
     "start_time": "2022-08-31T09:14:50.714619",
     "status": "completed"
    },
    "tags": []
   },
   "outputs": [],
   "source": [
    "# Lines below will give you a hint or solution code\n",
    "#step_1.a.hint()\n",
    "#step_1.a.solution()"
   ]
  },
  {
   "cell_type": "markdown",
   "id": "a06fa051",
   "metadata": {
    "_cell_guid": "46b071e3-5f64-4ed1-a712-398294fe61d3",
    "_uuid": "57c1e65a-fd03-40ac-bc2f-37ca337a13a4",
    "papermill": {
     "duration": 0.005672,
     "end_time": "2022-08-31T09:14:50.739436",
     "exception": false,
     "start_time": "2022-08-31T09:14:50.733764",
     "status": "completed"
    },
    "tags": []
   },
   "source": [
    "### Part B\n",
    "\n",
    "Set `predictions_1` to the model's predictions for the validation data.  Recall that the validation features are stored in `X_valid`."
   ]
  },
  {
   "cell_type": "code",
   "execution_count": 5,
   "id": "3f54ddec",
   "metadata": {
    "_cell_guid": "14ce8b43-ead8-495f-b5c6-6f434f1ce447",
    "_uuid": "541bf0e1-e4ce-4e27-bb59-93f54efb78cd",
    "collapsed": false,
    "execution": {
     "iopub.execute_input": "2022-08-31T09:14:50.752993Z",
     "iopub.status.busy": "2022-08-31T09:14:50.752303Z",
     "iopub.status.idle": "2022-08-31T09:14:50.783578Z",
     "shell.execute_reply": "2022-08-31T09:14:50.782584Z"
    },
    "jupyter": {
     "outputs_hidden": false
    },
    "papermill": {
     "duration": 0.040288,
     "end_time": "2022-08-31T09:14:50.785604",
     "exception": false,
     "start_time": "2022-08-31T09:14:50.745316",
     "status": "completed"
    },
    "tags": []
   },
   "outputs": [
    {
     "data": {
      "application/javascript": [
       "parent.postMessage({\"jupyterEvent\": \"custom.exercise_interaction\", \"data\": {\"outcomeType\": 1, \"valueTowardsCompletion\": 0.5, \"interactionType\": 1, \"questionType\": 2, \"questionId\": \"1.2_Model1B\", \"learnToolsVersion\": \"0.3.4\", \"failureMessage\": \"\", \"exceptionClass\": \"\", \"trace\": \"\"}}, \"*\")"
      ],
      "text/plain": [
       "<IPython.core.display.Javascript object>"
      ]
     },
     "metadata": {},
     "output_type": "display_data"
    },
    {
     "data": {
      "text/markdown": [
       "<span style=\"color:#33cc33\">Correct</span>"
      ],
      "text/plain": [
       "Correct"
      ]
     },
     "metadata": {},
     "output_type": "display_data"
    }
   ],
   "source": [
    "from sklearn.metrics import mean_absolute_error\n",
    "\n",
    "# Get predictions\n",
    "predictions_1 = my_model_1.predict(X_valid) # Your code here\n",
    "\n",
    "# Check your answer\n",
    "step_1.b.check()"
   ]
  },
  {
   "cell_type": "code",
   "execution_count": 6,
   "id": "86217b16",
   "metadata": {
    "_cell_guid": "70a76b99-7fff-4896-9cad-d78f642b40a1",
    "_uuid": "c0a8a2b1-ec0b-49ed-9a2d-e8775a081716",
    "collapsed": false,
    "execution": {
     "iopub.execute_input": "2022-08-31T09:14:50.800000Z",
     "iopub.status.busy": "2022-08-31T09:14:50.799400Z",
     "iopub.status.idle": "2022-08-31T09:14:50.802872Z",
     "shell.execute_reply": "2022-08-31T09:14:50.802206Z"
    },
    "jupyter": {
     "outputs_hidden": false
    },
    "papermill": {
     "duration": 0.012701,
     "end_time": "2022-08-31T09:14:50.804707",
     "exception": false,
     "start_time": "2022-08-31T09:14:50.792006",
     "status": "completed"
    },
    "tags": []
   },
   "outputs": [],
   "source": [
    "# Lines below will give you a hint or solution code\n",
    "#step_1.b.hint()\n",
    "#step_1.b.solution()"
   ]
  },
  {
   "cell_type": "markdown",
   "id": "7b3df662",
   "metadata": {
    "_cell_guid": "825da420-e682-4a93-a0c0-8dd1bf62d9a6",
    "_uuid": "4561a880-3542-445e-b2ac-ce0da8b046f2",
    "papermill": {
     "duration": 0.005915,
     "end_time": "2022-08-31T09:14:50.817042",
     "exception": false,
     "start_time": "2022-08-31T09:14:50.811127",
     "status": "completed"
    },
    "tags": []
   },
   "source": [
    "### Part C\n",
    "\n",
    "Finally, use the `mean_absolute_error()` function to calculate the mean absolute error (MAE) corresponding to the predictions for the validation set.  Recall that the labels for the validation data are stored in `y_valid`."
   ]
  },
  {
   "cell_type": "code",
   "execution_count": 7,
   "id": "a53f851e",
   "metadata": {
    "_cell_guid": "774a77d7-ef0a-4627-bca5-c960b7c46f05",
    "_uuid": "d7be56f7-e2d7-4c59-946d-d5b166504cc7",
    "collapsed": false,
    "execution": {
     "iopub.execute_input": "2022-08-31T09:14:50.831178Z",
     "iopub.status.busy": "2022-08-31T09:14:50.830574Z",
     "iopub.status.idle": "2022-08-31T09:14:50.840227Z",
     "shell.execute_reply": "2022-08-31T09:14:50.839541Z"
    },
    "jupyter": {
     "outputs_hidden": false
    },
    "papermill": {
     "duration": 0.018924,
     "end_time": "2022-08-31T09:14:50.842133",
     "exception": false,
     "start_time": "2022-08-31T09:14:50.823209",
     "status": "completed"
    },
    "tags": []
   },
   "outputs": [
    {
     "name": "stdout",
     "output_type": "stream",
     "text": [
      "Mean Absolute Error: 17662.736729452055\n"
     ]
    },
    {
     "data": {
      "application/javascript": [
       "parent.postMessage({\"jupyterEvent\": \"custom.exercise_interaction\", \"data\": {\"outcomeType\": 1, \"valueTowardsCompletion\": 0.5, \"interactionType\": 1, \"questionType\": 2, \"questionId\": \"1.3_Model1C\", \"learnToolsVersion\": \"0.3.4\", \"failureMessage\": \"\", \"exceptionClass\": \"\", \"trace\": \"\"}}, \"*\")"
      ],
      "text/plain": [
       "<IPython.core.display.Javascript object>"
      ]
     },
     "metadata": {},
     "output_type": "display_data"
    },
    {
     "data": {
      "text/markdown": [
       "<span style=\"color:#33cc33\">Correct</span>"
      ],
      "text/plain": [
       "Correct"
      ]
     },
     "metadata": {},
     "output_type": "display_data"
    }
   ],
   "source": [
    "# Calculate MAE\n",
    "mae_1 = mean_absolute_error(predictions_1,y_valid) # Your code here\n",
    "\n",
    "# Uncomment to print MAE\n",
    "print(\"Mean Absolute Error:\" , mae_1)\n",
    "\n",
    "# Check your answer\n",
    "step_1.c.check()"
   ]
  },
  {
   "cell_type": "code",
   "execution_count": 8,
   "id": "41f32155",
   "metadata": {
    "_cell_guid": "5a4cbf65-214f-438c-baa1-422464d6bf13",
    "_uuid": "2ef9dae6-374c-4b33-8275-e4bab1478808",
    "collapsed": false,
    "execution": {
     "iopub.execute_input": "2022-08-31T09:14:50.857309Z",
     "iopub.status.busy": "2022-08-31T09:14:50.856728Z",
     "iopub.status.idle": "2022-08-31T09:14:50.860614Z",
     "shell.execute_reply": "2022-08-31T09:14:50.859673Z"
    },
    "jupyter": {
     "outputs_hidden": false
    },
    "papermill": {
     "duration": 0.013455,
     "end_time": "2022-08-31T09:14:50.862722",
     "exception": false,
     "start_time": "2022-08-31T09:14:50.849267",
     "status": "completed"
    },
    "tags": []
   },
   "outputs": [],
   "source": [
    "# Lines below will give you a hint or solution code\n",
    "#step_1.c.hint()\n",
    "#step_1.c.solution()"
   ]
  },
  {
   "cell_type": "markdown",
   "id": "0bfcb2e4",
   "metadata": {
    "_cell_guid": "9e5654d1-641b-480f-a5b7-506cbb62307c",
    "_uuid": "6fc347df-19b3-4f9c-ab78-4bff80d5e3c5",
    "papermill": {
     "duration": 0.006112,
     "end_time": "2022-08-31T09:14:50.875163",
     "exception": false,
     "start_time": "2022-08-31T09:14:50.869051",
     "status": "completed"
    },
    "tags": []
   },
   "source": [
    "# Step 2: Improve the model\n",
    "\n",
    "Now that you've trained a default model as baseline, it's time to tinker with the parameters, to see if you can get better performance!\n",
    "- Begin by setting `my_model_2` to an XGBoost model, using the [XGBRegressor](https://xgboost.readthedocs.io/en/latest/python/python_api.html#xgboost.XGBRegressor) class.  Use what you learned in the previous tutorial to figure out how to change the default parameters (like `n_estimators` and `learning_rate`) to get better results.\n",
    "- Then, fit the model to the training data in `X_train` and `y_train`.\n",
    "- Set `predictions_2` to the model's predictions for the validation data.  Recall that the validation features are stored in `X_valid`.\n",
    "- Finally, use the `mean_absolute_error()` function to calculate the mean absolute error (MAE) corresponding to the predictions on the validation set.  Recall that the labels for the validation data are stored in `y_valid`.\n",
    "\n",
    "In order for this step to be marked correct, your model in `my_model_2` must attain lower MAE than the model in `my_model_1`."
   ]
  },
  {
   "cell_type": "code",
   "execution_count": 9,
   "id": "68620b56",
   "metadata": {
    "_cell_guid": "1d95b386-1e20-4e57-8307-25716f3f7d6a",
    "_uuid": "4ebadf0d-b0c4-4023-ab61-99233bd31205",
    "collapsed": false,
    "execution": {
     "iopub.execute_input": "2022-08-31T09:14:50.889336Z",
     "iopub.status.busy": "2022-08-31T09:14:50.888960Z",
     "iopub.status.idle": "2022-08-31T09:14:59.769422Z",
     "shell.execute_reply": "2022-08-31T09:14:59.768268Z"
    },
    "jupyter": {
     "outputs_hidden": false
    },
    "papermill": {
     "duration": 8.890064,
     "end_time": "2022-08-31T09:14:59.771505",
     "exception": false,
     "start_time": "2022-08-31T09:14:50.881441",
     "status": "completed"
    },
    "tags": []
   },
   "outputs": [
    {
     "name": "stdout",
     "output_type": "stream",
     "text": [
      "Mean Absolute Error: 17308.831001177226\n"
     ]
    },
    {
     "data": {
      "application/javascript": [
       "parent.postMessage({\"jupyterEvent\": \"custom.exercise_interaction\", \"data\": {\"outcomeType\": 1, \"valueTowardsCompletion\": 0.5, \"interactionType\": 1, \"questionType\": 2, \"questionId\": \"2_Model2\", \"learnToolsVersion\": \"0.3.4\", \"failureMessage\": \"\", \"exceptionClass\": \"\", \"trace\": \"\"}}, \"*\")"
      ],
      "text/plain": [
       "<IPython.core.display.Javascript object>"
      ]
     },
     "metadata": {},
     "output_type": "display_data"
    },
    {
     "data": {
      "text/markdown": [
       "<span style=\"color:#33cc33\">Correct</span>"
      ],
      "text/plain": [
       "Correct"
      ]
     },
     "metadata": {},
     "output_type": "display_data"
    }
   ],
   "source": [
    "# Define the model\n",
    "my_model_2 = XGBRegressor(n_estimators=1000,learning_rate=0.1,random_state=0) # Your code here\n",
    "\n",
    "# Fit the model\n",
    "my_model_2.fit(X_train,y_train) # Your code here\n",
    "\n",
    "# Get predictions\n",
    "predictions_2 = my_model_2.predict(X_valid) # Your code here\n",
    "\n",
    "# Calculate MAE\n",
    "mae_2 = mean_absolute_error(predictions_2,y_valid) # Your code here\n",
    "\n",
    "# Uncomment to print MAE\n",
    "print(\"Mean Absolute Error:\" , mae_2)\n",
    "\n",
    "# Check your answer\n",
    "step_2.check()"
   ]
  },
  {
   "cell_type": "code",
   "execution_count": 10,
   "id": "3e5041a5",
   "metadata": {
    "_cell_guid": "5958bde0-69fe-4f52-a57e-eabf4aa4b88f",
    "_uuid": "689aff92-1e4b-49f6-b601-6e630fb952ae",
    "collapsed": false,
    "execution": {
     "iopub.execute_input": "2022-08-31T09:14:59.788743Z",
     "iopub.status.busy": "2022-08-31T09:14:59.788082Z",
     "iopub.status.idle": "2022-08-31T09:14:59.792893Z",
     "shell.execute_reply": "2022-08-31T09:14:59.791673Z"
    },
    "jupyter": {
     "outputs_hidden": false
    },
    "papermill": {
     "duration": 0.015746,
     "end_time": "2022-08-31T09:14:59.795235",
     "exception": false,
     "start_time": "2022-08-31T09:14:59.779489",
     "status": "completed"
    },
    "tags": []
   },
   "outputs": [],
   "source": [
    "# Lines below will give you a hint or solution code\n",
    "#step_2.hint()\n",
    "#step_2.solution()"
   ]
  },
  {
   "cell_type": "markdown",
   "id": "b035cd24",
   "metadata": {
    "_cell_guid": "06fb6035-b7aa-47fa-8d66-3fb205111ec6",
    "_uuid": "9f57ecb8-0095-4d12-a47f-9cd568b71c26",
    "papermill": {
     "duration": 0.006617,
     "end_time": "2022-08-31T09:14:59.808677",
     "exception": false,
     "start_time": "2022-08-31T09:14:59.802060",
     "status": "completed"
    },
    "tags": []
   },
   "source": [
    "# Step 3: Break the model\n",
    "\n",
    "In this step, you will create a model that performs worse than the original model in Step 1.  This will help you to develop your intuition for how to set parameters.  You might even find that you accidentally get better performance, which is ultimately a nice problem to have and a valuable learning experience!\n",
    "- Begin by setting `my_model_3` to an XGBoost model, using the [XGBRegressor](https://xgboost.readthedocs.io/en/latest/python/python_api.html#xgboost.XGBRegressor) class.  Use what you learned in the previous tutorial to figure out how to change the default parameters (like `n_estimators` and `learning_rate`) to design a model to get high MAE.\n",
    "- Then, fit the model to the training data in `X_train` and `y_train`.\n",
    "- Set `predictions_3` to the model's predictions for the validation data.  Recall that the validation features are stored in `X_valid`.\n",
    "- Finally, use the `mean_absolute_error()` function to calculate the mean absolute error (MAE) corresponding to the predictions on the validation set.  Recall that the labels for the validation data are stored in `y_valid`.\n",
    "\n",
    "In order for this step to be marked correct, your model in `my_model_3` must attain higher MAE than the model in `my_model_1`."
   ]
  },
  {
   "cell_type": "code",
   "execution_count": 11,
   "id": "122dadf8",
   "metadata": {
    "_cell_guid": "dae81fa9-ad02-47e0-a5d6-70853d622ca9",
    "_uuid": "f6625387-4916-44fe-9c89-9a9b4e25a73d",
    "collapsed": false,
    "execution": {
     "iopub.execute_input": "2022-08-31T09:14:59.823727Z",
     "iopub.status.busy": "2022-08-31T09:14:59.823389Z",
     "iopub.status.idle": "2022-08-31T09:15:00.014387Z",
     "shell.execute_reply": "2022-08-31T09:15:00.013442Z"
    },
    "jupyter": {
     "outputs_hidden": false
    },
    "papermill": {
     "duration": 0.201561,
     "end_time": "2022-08-31T09:15:00.016940",
     "exception": false,
     "start_time": "2022-08-31T09:14:59.815379",
     "status": "completed"
    },
    "tags": []
   },
   "outputs": [
    {
     "name": "stdout",
     "output_type": "stream",
     "text": [
      "Mean Absolute Error: 164333.40517310574\n"
     ]
    },
    {
     "name": "stderr",
     "output_type": "stream",
     "text": [
      "/opt/conda/lib/python3.7/site-packages/xgboost/sklearn.py:797: UserWarning: `early_stopping_rounds` in `fit` method is deprecated for better compatibility with scikit-learn, use `early_stopping_rounds` in constructor or`set_params` instead.\n",
      "  UserWarning,\n"
     ]
    },
    {
     "data": {
      "application/javascript": [
       "parent.postMessage({\"jupyterEvent\": \"custom.exercise_interaction\", \"data\": {\"outcomeType\": 1, \"valueTowardsCompletion\": 0.5, \"interactionType\": 1, \"questionType\": 2, \"questionId\": \"3_Model3\", \"learnToolsVersion\": \"0.3.4\", \"failureMessage\": \"\", \"exceptionClass\": \"\", \"trace\": \"\"}}, \"*\")"
      ],
      "text/plain": [
       "<IPython.core.display.Javascript object>"
      ]
     },
     "metadata": {},
     "output_type": "display_data"
    },
    {
     "data": {
      "text/markdown": [
       "<span style=\"color:#33cc33\">Correct</span>"
      ],
      "text/plain": [
       "Correct"
      ]
     },
     "metadata": {},
     "output_type": "display_data"
    }
   ],
   "source": [
    "# Define the model\n",
    "my_model_3 = XGBRegressor(n_estimators=10,learning_rate=0.01,random_state=0)\n",
    "\n",
    "# Fit the model\n",
    "my_model_3.fit(X_train,y_train,early_stopping_rounds=5, \n",
    "             eval_set=[(X_valid, y_valid)], \n",
    "             verbose=False) # Your code here\n",
    "\n",
    "# Get predictions\n",
    "predictions_3 = my_model_3.predict(X_valid)\n",
    "\n",
    "# Calculate MAE\n",
    "mae_3 = mean_absolute_error(predictions_3,y_valid)\n",
    "\n",
    "# Uncomment to print MAE\n",
    "print(\"Mean Absolute Error:\" , mae_3)\n",
    "\n",
    "# Check your answer\n",
    "step_3.check()"
   ]
  },
  {
   "cell_type": "code",
   "execution_count": 12,
   "id": "7060937b",
   "metadata": {
    "_cell_guid": "bb2d0773-b246-4d7e-9876-f5f909caa9cf",
    "_uuid": "eb8a0912-da21-4514-b2a3-73bc0963ce4b",
    "collapsed": false,
    "execution": {
     "iopub.execute_input": "2022-08-31T09:15:00.033669Z",
     "iopub.status.busy": "2022-08-31T09:15:00.033339Z",
     "iopub.status.idle": "2022-08-31T09:15:00.116970Z",
     "shell.execute_reply": "2022-08-31T09:15:00.116038Z"
    },
    "jupyter": {
     "outputs_hidden": false
    },
    "papermill": {
     "duration": 0.094237,
     "end_time": "2022-08-31T09:15:00.119376",
     "exception": false,
     "start_time": "2022-08-31T09:15:00.025139",
     "status": "completed"
    },
    "tags": []
   },
   "outputs": [
    {
     "name": "stdout",
     "output_type": "stream",
     "text": [
      "Mean Absolute Error: 181191.6342264332\n"
     ]
    },
    {
     "name": "stderr",
     "output_type": "stream",
     "text": [
      "/opt/conda/lib/python3.7/site-packages/xgboost/sklearn.py:797: UserWarning: `early_stopping_rounds` in `fit` method is deprecated for better compatibility with scikit-learn, use `early_stopping_rounds` in constructor or`set_params` instead.\n",
      "  UserWarning,\n"
     ]
    },
    {
     "data": {
      "application/javascript": [
       "parent.postMessage({\"jupyterEvent\": \"custom.exercise_interaction\", \"data\": {\"outcomeType\": 1, \"valueTowardsCompletion\": 0.5, \"interactionType\": 1, \"questionType\": 2, \"questionId\": \"3_Model3\", \"learnToolsVersion\": \"0.3.4\", \"failureMessage\": \"\", \"exceptionClass\": \"\", \"trace\": \"\"}}, \"*\")"
      ],
      "text/plain": [
       "<IPython.core.display.Javascript object>"
      ]
     },
     "metadata": {},
     "output_type": "display_data"
    },
    {
     "data": {
      "text/markdown": [
       "<span style=\"color:#33cc33\">Correct</span>"
      ],
      "text/plain": [
       "Correct"
      ]
     },
     "metadata": {},
     "output_type": "display_data"
    }
   ],
   "source": [
    "# Define the model\n",
    "my_model_4 = XGBRegressor(n_estimators=1,learning_rate=0.001)\n",
    "\n",
    "# Fit the model\n",
    "my_model_4.fit(X_train,y_train,early_stopping_rounds=50, \n",
    "             eval_set=[(X_valid, y_valid)], \n",
    "             verbose=False) # Your code here\n",
    "\n",
    "# Get predictions\n",
    "predictions_4 = my_model_4.predict(X_valid)\n",
    "\n",
    "# Calculate MAE\n",
    "mae_4 = mean_absolute_error(predictions_4,y_valid)\n",
    "\n",
    "# Uncomment to print MAE\n",
    "print(\"Mean Absolute Error:\" , mae_4)\n",
    "\n",
    "# Check your answer\n",
    "step_3.check()"
   ]
  },
  {
   "cell_type": "code",
   "execution_count": 13,
   "id": "edc1849b",
   "metadata": {
    "_cell_guid": "a06fd340-f326-444d-8abe-cbe2dc29c5ee",
    "_uuid": "4216e794-a296-43d7-910f-6c6da4cdb91d",
    "collapsed": false,
    "execution": {
     "iopub.execute_input": "2022-08-31T09:15:00.137377Z",
     "iopub.status.busy": "2022-08-31T09:15:00.136564Z",
     "iopub.status.idle": "2022-08-31T09:15:00.140566Z",
     "shell.execute_reply": "2022-08-31T09:15:00.139666Z"
    },
    "jupyter": {
     "outputs_hidden": false
    },
    "papermill": {
     "duration": 0.01492,
     "end_time": "2022-08-31T09:15:00.142861",
     "exception": false,
     "start_time": "2022-08-31T09:15:00.127941",
     "status": "completed"
    },
    "tags": []
   },
   "outputs": [],
   "source": [
    "# Lines below will give you a hint or solution code\n",
    "#step_3.hint()\n",
    "#step_3.solution()"
   ]
  },
  {
   "cell_type": "markdown",
   "id": "00126078",
   "metadata": {
    "_cell_guid": "f4c26acd-69c8-491f-8246-ced48532fa3f",
    "_uuid": "6c2e79f3-395e-4823-b115-bc1e46af5acc",
    "papermill": {
     "duration": 0.007744,
     "end_time": "2022-08-31T09:15:00.158091",
     "exception": false,
     "start_time": "2022-08-31T09:15:00.150347",
     "status": "completed"
    },
    "tags": []
   },
   "source": [
    "# Keep going\n",
    "\n",
    "Continue to learn about **[data leakage](https://www.kaggle.com/alexisbcook/data-leakage)**.  This is an important issue for a data scientist to understand, and it has the potential to ruin your models in subtle and dangerous ways!"
   ]
  },
  {
   "cell_type": "markdown",
   "id": "513b29be",
   "metadata": {
    "_cell_guid": "cec9d953-c3ac-46a7-a128-17e5cc0ed323",
    "_uuid": "43c868c0-7d72-407c-9fe3-458310386389",
    "papermill": {
     "duration": 0.007249,
     "end_time": "2022-08-31T09:15:00.172908",
     "exception": false,
     "start_time": "2022-08-31T09:15:00.165659",
     "status": "completed"
    },
    "tags": []
   },
   "source": [
    "---\n",
    "\n",
    "\n",
    "\n",
    "\n",
    "*Have questions or comments? Visit the [course discussion forum](https://www.kaggle.com/learn/intermediate-machine-learning/discussion) to chat with other learners.*"
   ]
  }
 ],
 "metadata": {
  "kernelspec": {
   "display_name": "Python 3",
   "language": "python",
   "name": "python3"
  },
  "language_info": {
   "codemirror_mode": {
    "name": "ipython",
    "version": 3
   },
   "file_extension": ".py",
   "mimetype": "text/x-python",
   "name": "python",
   "nbconvert_exporter": "python",
   "pygments_lexer": "ipython3",
   "version": "3.7.12"
  },
  "papermill": {
   "default_parameters": {},
   "duration": 22.462351,
   "end_time": "2022-08-31T09:15:00.800854",
   "environment_variables": {},
   "exception": null,
   "input_path": "__notebook__.ipynb",
   "output_path": "__notebook__.ipynb",
   "parameters": {},
   "start_time": "2022-08-31T09:14:38.338503",
   "version": "2.3.4"
  }
 },
 "nbformat": 4,
 "nbformat_minor": 5
}
