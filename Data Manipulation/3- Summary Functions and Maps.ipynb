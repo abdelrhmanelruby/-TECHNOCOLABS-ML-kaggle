{
 "cells": [
  {
   "cell_type": "markdown",
   "id": "b6062fa8",
   "metadata": {
    "papermill": {
     "duration": 0.007082,
     "end_time": "2022-08-31T09:03:23.781487",
     "exception": false,
     "start_time": "2022-08-31T09:03:23.774405",
     "status": "completed"
    },
    "tags": []
   },
   "source": [
    "**This notebook is an exercise in the [Pandas](https://www.kaggle.com/learn/pandas) course.  You can reference the tutorial at [this link](https://www.kaggle.com/residentmario/summary-functions-and-maps).**\n",
    "\n",
    "---\n"
   ]
  },
  {
   "cell_type": "markdown",
   "id": "1c55c43e",
   "metadata": {
    "papermill": {
     "duration": 0.005398,
     "end_time": "2022-08-31T09:03:23.792870",
     "exception": false,
     "start_time": "2022-08-31T09:03:23.787472",
     "status": "completed"
    },
    "tags": []
   },
   "source": [
    "# Introduction\n",
    "\n",
    "Now you are ready to get a deeper understanding of your data.\n",
    "\n",
    "Run the following cell to load your data and some utility functions (including code to check your answers)."
   ]
  },
  {
   "cell_type": "code",
   "execution_count": 1,
   "id": "6d4ed996",
   "metadata": {
    "execution": {
     "iopub.execute_input": "2022-08-31T09:03:23.806541Z",
     "iopub.status.busy": "2022-08-31T09:03:23.805952Z",
     "iopub.status.idle": "2022-08-31T09:03:30.814130Z",
     "shell.execute_reply": "2022-08-31T09:03:30.812806Z"
    },
    "papermill": {
     "duration": 7.018496,
     "end_time": "2022-08-31T09:03:30.817029",
     "exception": false,
     "start_time": "2022-08-31T09:03:23.798533",
     "status": "completed"
    },
    "tags": []
   },
   "outputs": [
    {
     "name": "stdout",
     "output_type": "stream",
     "text": [
      "Setup complete.\n"
     ]
    },
    {
     "data": {
      "text/html": [
       "<div>\n",
       "<style scoped>\n",
       "    .dataframe tbody tr th:only-of-type {\n",
       "        vertical-align: middle;\n",
       "    }\n",
       "\n",
       "    .dataframe tbody tr th {\n",
       "        vertical-align: top;\n",
       "    }\n",
       "\n",
       "    .dataframe thead th {\n",
       "        text-align: right;\n",
       "    }\n",
       "</style>\n",
       "<table border=\"1\" class=\"dataframe\">\n",
       "  <thead>\n",
       "    <tr style=\"text-align: right;\">\n",
       "      <th></th>\n",
       "      <th>country</th>\n",
       "      <th>description</th>\n",
       "      <th>designation</th>\n",
       "      <th>points</th>\n",
       "      <th>price</th>\n",
       "      <th>province</th>\n",
       "      <th>region_1</th>\n",
       "      <th>region_2</th>\n",
       "      <th>taster_name</th>\n",
       "      <th>taster_twitter_handle</th>\n",
       "      <th>title</th>\n",
       "      <th>variety</th>\n",
       "      <th>winery</th>\n",
       "    </tr>\n",
       "  </thead>\n",
       "  <tbody>\n",
       "    <tr>\n",
       "      <th>0</th>\n",
       "      <td>Italy</td>\n",
       "      <td>Aromas include tropical fruit, broom, brimston...</td>\n",
       "      <td>Vulkà Bianco</td>\n",
       "      <td>87</td>\n",
       "      <td>NaN</td>\n",
       "      <td>Sicily &amp; Sardinia</td>\n",
       "      <td>Etna</td>\n",
       "      <td>NaN</td>\n",
       "      <td>Kerin O’Keefe</td>\n",
       "      <td>@kerinokeefe</td>\n",
       "      <td>Nicosia 2013 Vulkà Bianco  (Etna)</td>\n",
       "      <td>White Blend</td>\n",
       "      <td>Nicosia</td>\n",
       "    </tr>\n",
       "    <tr>\n",
       "      <th>1</th>\n",
       "      <td>Portugal</td>\n",
       "      <td>This is ripe and fruity, a wine that is smooth...</td>\n",
       "      <td>Avidagos</td>\n",
       "      <td>87</td>\n",
       "      <td>15.0</td>\n",
       "      <td>Douro</td>\n",
       "      <td>NaN</td>\n",
       "      <td>NaN</td>\n",
       "      <td>Roger Voss</td>\n",
       "      <td>@vossroger</td>\n",
       "      <td>Quinta dos Avidagos 2011 Avidagos Red (Douro)</td>\n",
       "      <td>Portuguese Red</td>\n",
       "      <td>Quinta dos Avidagos</td>\n",
       "    </tr>\n",
       "    <tr>\n",
       "      <th>2</th>\n",
       "      <td>US</td>\n",
       "      <td>Tart and snappy, the flavors of lime flesh and...</td>\n",
       "      <td>NaN</td>\n",
       "      <td>87</td>\n",
       "      <td>14.0</td>\n",
       "      <td>Oregon</td>\n",
       "      <td>Willamette Valley</td>\n",
       "      <td>Willamette Valley</td>\n",
       "      <td>Paul Gregutt</td>\n",
       "      <td>@paulgwine</td>\n",
       "      <td>Rainstorm 2013 Pinot Gris (Willamette Valley)</td>\n",
       "      <td>Pinot Gris</td>\n",
       "      <td>Rainstorm</td>\n",
       "    </tr>\n",
       "    <tr>\n",
       "      <th>3</th>\n",
       "      <td>US</td>\n",
       "      <td>Pineapple rind, lemon pith and orange blossom ...</td>\n",
       "      <td>Reserve Late Harvest</td>\n",
       "      <td>87</td>\n",
       "      <td>13.0</td>\n",
       "      <td>Michigan</td>\n",
       "      <td>Lake Michigan Shore</td>\n",
       "      <td>NaN</td>\n",
       "      <td>Alexander Peartree</td>\n",
       "      <td>NaN</td>\n",
       "      <td>St. Julian 2013 Reserve Late Harvest Riesling ...</td>\n",
       "      <td>Riesling</td>\n",
       "      <td>St. Julian</td>\n",
       "    </tr>\n",
       "    <tr>\n",
       "      <th>4</th>\n",
       "      <td>US</td>\n",
       "      <td>Much like the regular bottling from 2012, this...</td>\n",
       "      <td>Vintner's Reserve Wild Child Block</td>\n",
       "      <td>87</td>\n",
       "      <td>65.0</td>\n",
       "      <td>Oregon</td>\n",
       "      <td>Willamette Valley</td>\n",
       "      <td>Willamette Valley</td>\n",
       "      <td>Paul Gregutt</td>\n",
       "      <td>@paulgwine</td>\n",
       "      <td>Sweet Cheeks 2012 Vintner's Reserve Wild Child...</td>\n",
       "      <td>Pinot Noir</td>\n",
       "      <td>Sweet Cheeks</td>\n",
       "    </tr>\n",
       "  </tbody>\n",
       "</table>\n",
       "</div>"
      ],
      "text/plain": [
       "    country                                        description  \\\n",
       "0     Italy  Aromas include tropical fruit, broom, brimston...   \n",
       "1  Portugal  This is ripe and fruity, a wine that is smooth...   \n",
       "2        US  Tart and snappy, the flavors of lime flesh and...   \n",
       "3        US  Pineapple rind, lemon pith and orange blossom ...   \n",
       "4        US  Much like the regular bottling from 2012, this...   \n",
       "\n",
       "                          designation  points  price           province  \\\n",
       "0                        Vulkà Bianco      87    NaN  Sicily & Sardinia   \n",
       "1                            Avidagos      87   15.0              Douro   \n",
       "2                                 NaN      87   14.0             Oregon   \n",
       "3                Reserve Late Harvest      87   13.0           Michigan   \n",
       "4  Vintner's Reserve Wild Child Block      87   65.0             Oregon   \n",
       "\n",
       "              region_1           region_2         taster_name  \\\n",
       "0                 Etna                NaN       Kerin O’Keefe   \n",
       "1                  NaN                NaN          Roger Voss   \n",
       "2    Willamette Valley  Willamette Valley        Paul Gregutt   \n",
       "3  Lake Michigan Shore                NaN  Alexander Peartree   \n",
       "4    Willamette Valley  Willamette Valley        Paul Gregutt   \n",
       "\n",
       "  taster_twitter_handle                                              title  \\\n",
       "0          @kerinokeefe                  Nicosia 2013 Vulkà Bianco  (Etna)   \n",
       "1            @vossroger      Quinta dos Avidagos 2011 Avidagos Red (Douro)   \n",
       "2           @paulgwine       Rainstorm 2013 Pinot Gris (Willamette Valley)   \n",
       "3                   NaN  St. Julian 2013 Reserve Late Harvest Riesling ...   \n",
       "4           @paulgwine   Sweet Cheeks 2012 Vintner's Reserve Wild Child...   \n",
       "\n",
       "          variety               winery  \n",
       "0     White Blend              Nicosia  \n",
       "1  Portuguese Red  Quinta dos Avidagos  \n",
       "2      Pinot Gris            Rainstorm  \n",
       "3        Riesling           St. Julian  \n",
       "4      Pinot Noir         Sweet Cheeks  "
      ]
     },
     "execution_count": 1,
     "metadata": {},
     "output_type": "execute_result"
    }
   ],
   "source": [
    "import pandas as pd\n",
    "pd.set_option(\"display.max_rows\", 5)\n",
    "reviews = pd.read_csv(\"../input/wine-reviews/winemag-data-130k-v2.csv\", index_col=0)\n",
    "\n",
    "from learntools.core import binder; binder.bind(globals())\n",
    "from learntools.pandas.summary_functions_and_maps import *\n",
    "print(\"Setup complete.\")\n",
    "\n",
    "reviews.head()"
   ]
  },
  {
   "cell_type": "markdown",
   "id": "e69e8ba9",
   "metadata": {
    "papermill": {
     "duration": 0.005913,
     "end_time": "2022-08-31T09:03:30.829456",
     "exception": false,
     "start_time": "2022-08-31T09:03:30.823543",
     "status": "completed"
    },
    "tags": []
   },
   "source": [
    "# Exercises"
   ]
  },
  {
   "cell_type": "markdown",
   "id": "0578e383",
   "metadata": {
    "papermill": {
     "duration": 0.005832,
     "end_time": "2022-08-31T09:03:30.841340",
     "exception": false,
     "start_time": "2022-08-31T09:03:30.835508",
     "status": "completed"
    },
    "tags": []
   },
   "source": [
    "## 1.\n",
    "\n",
    "What is the median of the `points` column in the `reviews` DataFrame?"
   ]
  },
  {
   "cell_type": "code",
   "execution_count": 2,
   "id": "dfad4d63",
   "metadata": {
    "execution": {
     "iopub.execute_input": "2022-08-31T09:03:30.855074Z",
     "iopub.status.busy": "2022-08-31T09:03:30.854722Z",
     "iopub.status.idle": "2022-08-31T09:03:30.864612Z",
     "shell.execute_reply": "2022-08-31T09:03:30.863646Z"
    },
    "papermill": {
     "duration": 0.019287,
     "end_time": "2022-08-31T09:03:30.866605",
     "exception": false,
     "start_time": "2022-08-31T09:03:30.847318",
     "status": "completed"
    },
    "tags": []
   },
   "outputs": [
    {
     "data": {
      "application/javascript": [
       "parent.postMessage({\"jupyterEvent\": \"custom.exercise_interaction\", \"data\": {\"outcomeType\": 1, \"valueTowardsCompletion\": 0.14285714285714285, \"interactionType\": 1, \"questionType\": 1, \"questionId\": \"1_MedianPoints\", \"learnToolsVersion\": \"0.3.4\", \"failureMessage\": \"\", \"exceptionClass\": \"\", \"trace\": \"\"}}, \"*\")"
      ],
      "text/plain": [
       "<IPython.core.display.Javascript object>"
      ]
     },
     "metadata": {},
     "output_type": "display_data"
    },
    {
     "data": {
      "text/markdown": [
       "<span style=\"color:#33cc33\">Correct</span>"
      ],
      "text/plain": [
       "Correct"
      ]
     },
     "metadata": {},
     "output_type": "display_data"
    }
   ],
   "source": [
    "median_points = reviews.points.median()\n",
    "\n",
    "# Check your answer\n",
    "q1.check()"
   ]
  },
  {
   "cell_type": "code",
   "execution_count": 3,
   "id": "b9f0de10",
   "metadata": {
    "execution": {
     "iopub.execute_input": "2022-08-31T09:03:30.881217Z",
     "iopub.status.busy": "2022-08-31T09:03:30.880601Z",
     "iopub.status.idle": "2022-08-31T09:03:30.884365Z",
     "shell.execute_reply": "2022-08-31T09:03:30.883591Z"
    },
    "papermill": {
     "duration": 0.013326,
     "end_time": "2022-08-31T09:03:30.886374",
     "exception": false,
     "start_time": "2022-08-31T09:03:30.873048",
     "status": "completed"
    },
    "tags": []
   },
   "outputs": [],
   "source": [
    "#q1.hint()\n",
    "#q1.solution()"
   ]
  },
  {
   "cell_type": "markdown",
   "id": "3fdf9bc9",
   "metadata": {
    "papermill": {
     "duration": 0.006157,
     "end_time": "2022-08-31T09:03:30.898868",
     "exception": false,
     "start_time": "2022-08-31T09:03:30.892711",
     "status": "completed"
    },
    "tags": []
   },
   "source": [
    "## 2. \n",
    "What countries are represented in the dataset? (Your answer should not include any duplicates.)"
   ]
  },
  {
   "cell_type": "code",
   "execution_count": 4,
   "id": "ab5459d4",
   "metadata": {
    "execution": {
     "iopub.execute_input": "2022-08-31T09:03:30.913289Z",
     "iopub.status.busy": "2022-08-31T09:03:30.912640Z",
     "iopub.status.idle": "2022-08-31T09:03:30.927589Z",
     "shell.execute_reply": "2022-08-31T09:03:30.926453Z"
    },
    "papermill": {
     "duration": 0.024786,
     "end_time": "2022-08-31T09:03:30.929916",
     "exception": false,
     "start_time": "2022-08-31T09:03:30.905130",
     "status": "completed"
    },
    "tags": []
   },
   "outputs": [
    {
     "data": {
      "application/javascript": [
       "parent.postMessage({\"jupyterEvent\": \"custom.exercise_interaction\", \"data\": {\"outcomeType\": 1, \"valueTowardsCompletion\": 0.14285714285714285, \"interactionType\": 1, \"questionType\": 2, \"questionId\": \"2_UniqueCountries\", \"learnToolsVersion\": \"0.3.4\", \"failureMessage\": \"\", \"exceptionClass\": \"\", \"trace\": \"\"}}, \"*\")"
      ],
      "text/plain": [
       "<IPython.core.display.Javascript object>"
      ]
     },
     "metadata": {},
     "output_type": "display_data"
    },
    {
     "data": {
      "text/markdown": [
       "<span style=\"color:#33cc33\">Correct</span>"
      ],
      "text/plain": [
       "Correct"
      ]
     },
     "metadata": {},
     "output_type": "display_data"
    }
   ],
   "source": [
    "countries = reviews.country.unique()\n",
    "\n",
    "# Check your answer\n",
    "q2.check()"
   ]
  },
  {
   "cell_type": "code",
   "execution_count": 5,
   "id": "14af7e8d",
   "metadata": {
    "execution": {
     "iopub.execute_input": "2022-08-31T09:03:30.945238Z",
     "iopub.status.busy": "2022-08-31T09:03:30.944646Z",
     "iopub.status.idle": "2022-08-31T09:03:30.948998Z",
     "shell.execute_reply": "2022-08-31T09:03:30.948068Z"
    },
    "papermill": {
     "duration": 0.01436,
     "end_time": "2022-08-31T09:03:30.951030",
     "exception": false,
     "start_time": "2022-08-31T09:03:30.936670",
     "status": "completed"
    },
    "tags": []
   },
   "outputs": [],
   "source": [
    "#q2.hint()\n",
    "#q2.solution()"
   ]
  },
  {
   "cell_type": "markdown",
   "id": "dd5b7cb5",
   "metadata": {
    "papermill": {
     "duration": 0.006458,
     "end_time": "2022-08-31T09:03:30.964409",
     "exception": false,
     "start_time": "2022-08-31T09:03:30.957951",
     "status": "completed"
    },
    "tags": []
   },
   "source": [
    "## 3.\n",
    "How often does each country appear in the dataset? Create a Series `reviews_per_country` mapping countries to the count of reviews of wines from that country."
   ]
  },
  {
   "cell_type": "code",
   "execution_count": 6,
   "id": "6f642153",
   "metadata": {
    "execution": {
     "iopub.execute_input": "2022-08-31T09:03:30.979899Z",
     "iopub.status.busy": "2022-08-31T09:03:30.979236Z",
     "iopub.status.idle": "2022-08-31T09:03:30.996225Z",
     "shell.execute_reply": "2022-08-31T09:03:30.995398Z"
    },
    "papermill": {
     "duration": 0.027051,
     "end_time": "2022-08-31T09:03:30.998229",
     "exception": false,
     "start_time": "2022-08-31T09:03:30.971178",
     "status": "completed"
    },
    "tags": []
   },
   "outputs": [
    {
     "data": {
      "application/javascript": [
       "parent.postMessage({\"jupyterEvent\": \"custom.exercise_interaction\", \"data\": {\"outcomeType\": 1, \"valueTowardsCompletion\": 0.14285714285714285, \"interactionType\": 1, \"questionType\": 1, \"questionId\": \"3_ReviewsPerCountry\", \"learnToolsVersion\": \"0.3.4\", \"failureMessage\": \"\", \"exceptionClass\": \"\", \"trace\": \"\"}}, \"*\")"
      ],
      "text/plain": [
       "<IPython.core.display.Javascript object>"
      ]
     },
     "metadata": {},
     "output_type": "display_data"
    },
    {
     "data": {
      "text/markdown": [
       "<span style=\"color:#33cc33\">Correct</span>"
      ],
      "text/plain": [
       "Correct"
      ]
     },
     "metadata": {},
     "output_type": "display_data"
    }
   ],
   "source": [
    "reviews_per_country = reviews.country.value_counts()\n",
    "\n",
    "# Check your answer\n",
    "q3.check()"
   ]
  },
  {
   "cell_type": "code",
   "execution_count": 7,
   "id": "243095b5",
   "metadata": {
    "execution": {
     "iopub.execute_input": "2022-08-31T09:03:31.014155Z",
     "iopub.status.busy": "2022-08-31T09:03:31.013589Z",
     "iopub.status.idle": "2022-08-31T09:03:31.017651Z",
     "shell.execute_reply": "2022-08-31T09:03:31.016877Z"
    },
    "papermill": {
     "duration": 0.014525,
     "end_time": "2022-08-31T09:03:31.019615",
     "exception": false,
     "start_time": "2022-08-31T09:03:31.005090",
     "status": "completed"
    },
    "tags": []
   },
   "outputs": [],
   "source": [
    "#q3.hint()\n",
    "#q3.solution()"
   ]
  },
  {
   "cell_type": "markdown",
   "id": "d4ce2fc6",
   "metadata": {
    "papermill": {
     "duration": 0.006532,
     "end_time": "2022-08-31T09:03:31.033731",
     "exception": false,
     "start_time": "2022-08-31T09:03:31.027199",
     "status": "completed"
    },
    "tags": []
   },
   "source": [
    "## 4.\n",
    "Create variable `centered_price` containing a version of the `price` column with the mean price subtracted.\n",
    "\n",
    "(Note: this 'centering' transformation is a common preprocessing step before applying various machine learning algorithms.) "
   ]
  },
  {
   "cell_type": "code",
   "execution_count": 8,
   "id": "f834fa2e",
   "metadata": {
    "execution": {
     "iopub.execute_input": "2022-08-31T09:03:31.049566Z",
     "iopub.status.busy": "2022-08-31T09:03:31.048916Z",
     "iopub.status.idle": "2022-08-31T09:03:31.059961Z",
     "shell.execute_reply": "2022-08-31T09:03:31.059084Z"
    },
    "papermill": {
     "duration": 0.021379,
     "end_time": "2022-08-31T09:03:31.062111",
     "exception": false,
     "start_time": "2022-08-31T09:03:31.040732",
     "status": "completed"
    },
    "tags": []
   },
   "outputs": [
    {
     "data": {
      "application/javascript": [
       "parent.postMessage({\"jupyterEvent\": \"custom.exercise_interaction\", \"data\": {\"outcomeType\": 1, \"valueTowardsCompletion\": 0.14285714285714285, \"interactionType\": 1, \"questionType\": 1, \"questionId\": \"4_CenteredPrice\", \"learnToolsVersion\": \"0.3.4\", \"failureMessage\": \"\", \"exceptionClass\": \"\", \"trace\": \"\"}}, \"*\")"
      ],
      "text/plain": [
       "<IPython.core.display.Javascript object>"
      ]
     },
     "metadata": {},
     "output_type": "display_data"
    },
    {
     "data": {
      "text/markdown": [
       "<span style=\"color:#33cc33\">Correct</span>"
      ],
      "text/plain": [
       "Correct"
      ]
     },
     "metadata": {},
     "output_type": "display_data"
    }
   ],
   "source": [
    "centered_price = reviews.price - reviews.price.mean()\n",
    "\n",
    "# Check your answer\n",
    "q4.check()"
   ]
  },
  {
   "cell_type": "code",
   "execution_count": 9,
   "id": "e14232cf",
   "metadata": {
    "execution": {
     "iopub.execute_input": "2022-08-31T09:03:31.078847Z",
     "iopub.status.busy": "2022-08-31T09:03:31.078180Z",
     "iopub.status.idle": "2022-08-31T09:03:31.082529Z",
     "shell.execute_reply": "2022-08-31T09:03:31.081734Z"
    },
    "papermill": {
     "duration": 0.015005,
     "end_time": "2022-08-31T09:03:31.084576",
     "exception": false,
     "start_time": "2022-08-31T09:03:31.069571",
     "status": "completed"
    },
    "tags": []
   },
   "outputs": [],
   "source": [
    "#q4.hint()\n",
    "#q4.solution()"
   ]
  },
  {
   "cell_type": "markdown",
   "id": "9f005254",
   "metadata": {
    "papermill": {
     "duration": 0.006985,
     "end_time": "2022-08-31T09:03:31.098729",
     "exception": false,
     "start_time": "2022-08-31T09:03:31.091744",
     "status": "completed"
    },
    "tags": []
   },
   "source": [
    "## 5.\n",
    "I'm an economical wine buyer. Which wine is the \"best bargain\"? Create a variable `bargain_wine` with the title of the wine with the highest points-to-price ratio in the dataset."
   ]
  },
  {
   "cell_type": "code",
   "execution_count": 10,
   "id": "8c33d25f",
   "metadata": {
    "execution": {
     "iopub.execute_input": "2022-08-31T09:03:31.115375Z",
     "iopub.status.busy": "2022-08-31T09:03:31.114692Z",
     "iopub.status.idle": "2022-08-31T09:03:31.129398Z",
     "shell.execute_reply": "2022-08-31T09:03:31.128276Z"
    },
    "papermill": {
     "duration": 0.025267,
     "end_time": "2022-08-31T09:03:31.131332",
     "exception": false,
     "start_time": "2022-08-31T09:03:31.106065",
     "status": "completed"
    },
    "tags": []
   },
   "outputs": [
    {
     "name": "stdout",
     "output_type": "stream",
     "text": [
      "64590\n"
     ]
    },
    {
     "data": {
      "application/javascript": [
       "parent.postMessage({\"jupyterEvent\": \"custom.exercise_interaction\", \"data\": {\"outcomeType\": 1, \"valueTowardsCompletion\": 0.14285714285714285, \"interactionType\": 1, \"questionType\": 2, \"questionId\": \"5_BargainWine\", \"learnToolsVersion\": \"0.3.4\", \"failureMessage\": \"\", \"exceptionClass\": \"\", \"trace\": \"\"}}, \"*\")"
      ],
      "text/plain": [
       "<IPython.core.display.Javascript object>"
      ]
     },
     "metadata": {},
     "output_type": "display_data"
    },
    {
     "data": {
      "text/markdown": [
       "<span style=\"color:#33cc33\">Correct</span>"
      ],
      "text/plain": [
       "Correct"
      ]
     },
     "metadata": {},
     "output_type": "display_data"
    }
   ],
   "source": [
    "X=(reviews.points / reviews.price).idxmax()\n",
    "print(X)\n",
    "bargain_wine = reviews.loc[X, 'title']\n",
    "\n",
    "# Check your answer\n",
    "q5.check()"
   ]
  },
  {
   "cell_type": "code",
   "execution_count": 11,
   "id": "55ecaec7",
   "metadata": {
    "execution": {
     "iopub.execute_input": "2022-08-31T09:03:31.147950Z",
     "iopub.status.busy": "2022-08-31T09:03:31.147324Z",
     "iopub.status.idle": "2022-08-31T09:03:31.150859Z",
     "shell.execute_reply": "2022-08-31T09:03:31.150118Z"
    },
    "papermill": {
     "duration": 0.01396,
     "end_time": "2022-08-31T09:03:31.152746",
     "exception": false,
     "start_time": "2022-08-31T09:03:31.138786",
     "status": "completed"
    },
    "tags": []
   },
   "outputs": [],
   "source": [
    "#q5.hint()\n",
    "#q5.solution()"
   ]
  },
  {
   "cell_type": "markdown",
   "id": "a26ce7e4",
   "metadata": {
    "papermill": {
     "duration": 0.007141,
     "end_time": "2022-08-31T09:03:31.167269",
     "exception": false,
     "start_time": "2022-08-31T09:03:31.160128",
     "status": "completed"
    },
    "tags": []
   },
   "source": [
    "## 6.\n",
    "There are only so many words you can use when describing a bottle of wine. Is a wine more likely to be \"tropical\" or \"fruity\"? Create a Series `descriptor_counts` counting how many times each of these two words appears in the `description` column in the dataset. (For simplicity, let's ignore the capitalized versions of these words.)"
   ]
  },
  {
   "cell_type": "code",
   "execution_count": 12,
   "id": "7a988c1d",
   "metadata": {
    "execution": {
     "iopub.execute_input": "2022-08-31T09:03:31.183946Z",
     "iopub.status.busy": "2022-08-31T09:03:31.183259Z",
     "iopub.status.idle": "2022-08-31T09:03:31.323732Z",
     "shell.execute_reply": "2022-08-31T09:03:31.322808Z"
    },
    "papermill": {
     "duration": 0.151226,
     "end_time": "2022-08-31T09:03:31.325884",
     "exception": false,
     "start_time": "2022-08-31T09:03:31.174658",
     "status": "completed"
    },
    "tags": []
   },
   "outputs": [
    {
     "data": {
      "application/javascript": [
       "parent.postMessage({\"jupyterEvent\": \"custom.exercise_interaction\", \"data\": {\"outcomeType\": 1, \"valueTowardsCompletion\": 0.14285714285714285, \"interactionType\": 1, \"questionType\": 1, \"questionId\": \"6_DescriptorCounts\", \"learnToolsVersion\": \"0.3.4\", \"failureMessage\": \"\", \"exceptionClass\": \"\", \"trace\": \"\"}}, \"*\")"
      ],
      "text/plain": [
       "<IPython.core.display.Javascript object>"
      ]
     },
     "metadata": {},
     "output_type": "display_data"
    },
    {
     "data": {
      "text/markdown": [
       "<span style=\"color:#33cc33\">Correct</span>"
      ],
      "text/plain": [
       "Correct"
      ]
     },
     "metadata": {},
     "output_type": "display_data"
    }
   ],
   "source": [
    "n_trop = reviews.description.map(lambda desc: \"tropical\" in desc).sum()\n",
    "n_fruity = reviews.description.map(lambda desc: \"fruity\" in desc).sum()\n",
    "descriptor_counts = pd.Series([n_trop, n_fruity], index=['tropical', 'fruity'])\n",
    "\n",
    "# Check your answer\n",
    "q6.check()"
   ]
  },
  {
   "cell_type": "code",
   "execution_count": 13,
   "id": "7baa5c64",
   "metadata": {
    "execution": {
     "iopub.execute_input": "2022-08-31T09:03:31.342977Z",
     "iopub.status.busy": "2022-08-31T09:03:31.342315Z",
     "iopub.status.idle": "2022-08-31T09:03:31.350254Z",
     "shell.execute_reply": "2022-08-31T09:03:31.349342Z"
    },
    "papermill": {
     "duration": 0.018586,
     "end_time": "2022-08-31T09:03:31.352286",
     "exception": false,
     "start_time": "2022-08-31T09:03:31.333700",
     "status": "completed"
    },
    "tags": []
   },
   "outputs": [
    {
     "data": {
      "application/javascript": [
       "parent.postMessage({\"jupyterEvent\": \"custom.exercise_interaction\", \"data\": {\"interactionType\": 3, \"questionType\": 1, \"questionId\": \"6_DescriptorCounts\", \"learnToolsVersion\": \"0.3.4\", \"valueTowardsCompletion\": 0.0, \"failureMessage\": \"\", \"exceptionClass\": \"\", \"trace\": \"\", \"outcomeType\": 4}}, \"*\")"
      ],
      "text/plain": [
       "<IPython.core.display.Javascript object>"
      ]
     },
     "metadata": {},
     "output_type": "display_data"
    },
    {
     "data": {
      "text/markdown": [
       "<span style=\"color:#33cc99\">Solution:</span> \n",
       "```python\n",
       "n_trop = reviews.description.map(lambda desc: \"tropical\" in desc).sum()\n",
       "n_fruity = reviews.description.map(lambda desc: \"fruity\" in desc).sum()\n",
       "descriptor_counts = pd.Series([n_trop, n_fruity], index=['tropical', 'fruity'])\n",
       "```"
      ],
      "text/plain": [
       "Solution: \n",
       "```python\n",
       "n_trop = reviews.description.map(lambda desc: \"tropical\" in desc).sum()\n",
       "n_fruity = reviews.description.map(lambda desc: \"fruity\" in desc).sum()\n",
       "descriptor_counts = pd.Series([n_trop, n_fruity], index=['tropical', 'fruity'])\n",
       "```"
      ]
     },
     "metadata": {},
     "output_type": "display_data"
    }
   ],
   "source": [
    "#q6.hint()\n",
    "q6.solution()"
   ]
  },
  {
   "cell_type": "markdown",
   "id": "4efe5915",
   "metadata": {
    "papermill": {
     "duration": 0.007781,
     "end_time": "2022-08-31T09:03:31.367944",
     "exception": false,
     "start_time": "2022-08-31T09:03:31.360163",
     "status": "completed"
    },
    "tags": []
   },
   "source": [
    "## 7.\n",
    "We'd like to host these wine reviews on our website, but a rating system ranging from 80 to 100 points is too hard to understand - we'd like to translate them into simple star ratings. A score of 95 or higher counts as 3 stars, a score of at least 85 but less than 95 is 2 stars. Any other score is 1 star.\n",
    "\n",
    "Also, the Canadian Vintners Association bought a lot of ads on the site, so any wines from Canada should automatically get 3 stars, regardless of points.\n",
    "\n",
    "Create a series `star_ratings` with the number of stars corresponding to each review in the dataset."
   ]
  },
  {
   "cell_type": "code",
   "execution_count": 14,
   "id": "9834930c",
   "metadata": {
    "execution": {
     "iopub.execute_input": "2022-08-31T09:03:31.385636Z",
     "iopub.status.busy": "2022-08-31T09:03:31.384956Z",
     "iopub.status.idle": "2022-08-31T09:03:31.448576Z",
     "shell.execute_reply": "2022-08-31T09:03:31.447545Z"
    },
    "papermill": {
     "duration": 0.07512,
     "end_time": "2022-08-31T09:03:31.450876",
     "exception": false,
     "start_time": "2022-08-31T09:03:31.375756",
     "status": "completed"
    },
    "tags": []
   },
   "outputs": [
    {
     "data": {
      "application/javascript": [
       "parent.postMessage({\"jupyterEvent\": \"custom.exercise_interaction\", \"data\": {\"outcomeType\": 1, \"valueTowardsCompletion\": 0.14285714285714285, \"interactionType\": 1, \"questionType\": 1, \"questionId\": \"7_StarRatings\", \"learnToolsVersion\": \"0.3.4\", \"failureMessage\": \"\", \"exceptionClass\": \"\", \"trace\": \"\"}}, \"*\")"
      ],
      "text/plain": [
       "<IPython.core.display.Javascript object>"
      ]
     },
     "metadata": {},
     "output_type": "display_data"
    },
    {
     "data": {
      "text/markdown": [
       "<span style=\"color:#33cc33\">Correct</span>"
      ],
      "text/plain": [
       "Correct"
      ]
     },
     "metadata": {},
     "output_type": "display_data"
    }
   ],
   "source": [
    "def stars(X):\n",
    "    if X >= 95:\n",
    "        return 3\n",
    "    elif X >= 85:\n",
    "        return 2\n",
    "    else:\n",
    "        return 1\n",
    "\n",
    "star_ratings = reviews.points.apply(stars)\n",
    "\n",
    "# Check your answer\n",
    "q7.check()"
   ]
  },
  {
   "cell_type": "code",
   "execution_count": 15,
   "id": "dfbdfd6f",
   "metadata": {
    "execution": {
     "iopub.execute_input": "2022-08-31T09:03:31.468995Z",
     "iopub.status.busy": "2022-08-31T09:03:31.468439Z",
     "iopub.status.idle": "2022-08-31T09:03:31.472936Z",
     "shell.execute_reply": "2022-08-31T09:03:31.472002Z"
    },
    "papermill": {
     "duration": 0.015939,
     "end_time": "2022-08-31T09:03:31.475194",
     "exception": false,
     "start_time": "2022-08-31T09:03:31.459255",
     "status": "completed"
    },
    "tags": []
   },
   "outputs": [],
   "source": [
    "#q7.hint()\n",
    "#q7.solution()"
   ]
  },
  {
   "cell_type": "markdown",
   "id": "6a70e343",
   "metadata": {
    "papermill": {
     "duration": 0.007938,
     "end_time": "2022-08-31T09:03:31.491269",
     "exception": false,
     "start_time": "2022-08-31T09:03:31.483331",
     "status": "completed"
    },
    "tags": []
   },
   "source": [
    "# Keep going\n",
    "Continue to **[grouping and sorting](https://www.kaggle.com/residentmario/grouping-and-sorting)**."
   ]
  },
  {
   "cell_type": "markdown",
   "id": "5d0fdac7",
   "metadata": {
    "papermill": {
     "duration": 0.00776,
     "end_time": "2022-08-31T09:03:31.506984",
     "exception": false,
     "start_time": "2022-08-31T09:03:31.499224",
     "status": "completed"
    },
    "tags": []
   },
   "source": [
    "---\n",
    "\n",
    "\n",
    "\n",
    "\n",
    "*Have questions or comments? Visit the [course discussion forum](https://www.kaggle.com/learn/pandas/discussion) to chat with other learners.*"
   ]
  }
 ],
 "metadata": {
  "kernelspec": {
   "display_name": "Python 3",
   "language": "python",
   "name": "python3"
  },
  "language_info": {
   "codemirror_mode": {
    "name": "ipython",
    "version": 3
   },
   "file_extension": ".py",
   "mimetype": "text/x-python",
   "name": "python",
   "nbconvert_exporter": "python",
   "pygments_lexer": "ipython3",
   "version": "3.7.12"
  },
  "papermill": {
   "default_parameters": {},
   "duration": 16.813208,
   "end_time": "2022-08-31T09:03:32.136107",
   "environment_variables": {},
   "exception": null,
   "input_path": "__notebook__.ipynb",
   "output_path": "__notebook__.ipynb",
   "parameters": {},
   "start_time": "2022-08-31T09:03:15.322899",
   "version": "2.3.4"
  }
 },
 "nbformat": 4,
 "nbformat_minor": 5
}
