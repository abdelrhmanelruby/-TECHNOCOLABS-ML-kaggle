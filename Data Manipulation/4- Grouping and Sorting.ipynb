{
 "cells": [
  {
   "cell_type": "markdown",
   "id": "c87e3c0d",
   "metadata": {
    "papermill": {
     "duration": 0.007155,
     "end_time": "2022-08-31T09:03:58.807382",
     "exception": false,
     "start_time": "2022-08-31T09:03:58.800227",
     "status": "completed"
    },
    "tags": []
   },
   "source": [
    "**This notebook is an exercise in the [Pandas](https://www.kaggle.com/learn/pandas) course.  You can reference the tutorial at [this link](https://www.kaggle.com/residentmario/grouping-and-sorting).**\n",
    "\n",
    "---\n"
   ]
  },
  {
   "cell_type": "markdown",
   "id": "71c22bee",
   "metadata": {
    "papermill": {
     "duration": 0.00561,
     "end_time": "2022-08-31T09:03:58.819072",
     "exception": false,
     "start_time": "2022-08-31T09:03:58.813462",
     "status": "completed"
    },
    "tags": []
   },
   "source": [
    "# Introduction\n",
    "\n",
    "In these exercises we'll apply groupwise analysis to our dataset.\n",
    "\n",
    "Run the code cell below to load the data before running the exercises."
   ]
  },
  {
   "cell_type": "code",
   "execution_count": 1,
   "id": "46823ca4",
   "metadata": {
    "execution": {
     "iopub.execute_input": "2022-08-31T09:03:58.833455Z",
     "iopub.status.busy": "2022-08-31T09:03:58.832811Z",
     "iopub.status.idle": "2022-08-31T09:04:01.767867Z",
     "shell.execute_reply": "2022-08-31T09:04:01.766659Z"
    },
    "papermill": {
     "duration": 2.946019,
     "end_time": "2022-08-31T09:04:01.771007",
     "exception": false,
     "start_time": "2022-08-31T09:03:58.824988",
     "status": "completed"
    },
    "tags": []
   },
   "outputs": [
    {
     "name": "stdout",
     "output_type": "stream",
     "text": [
      "Setup complete.\n"
     ]
    }
   ],
   "source": [
    "import pandas as pd\n",
    "\n",
    "reviews = pd.read_csv(\"../input/wine-reviews/winemag-data-130k-v2.csv\", index_col=0)\n",
    "#pd.set_option(\"display.max_rows\", 5)\n",
    "\n",
    "from learntools.core import binder; binder.bind(globals())\n",
    "from learntools.pandas.grouping_and_sorting import *\n",
    "print(\"Setup complete.\")"
   ]
  },
  {
   "cell_type": "markdown",
   "id": "0766c3d6",
   "metadata": {
    "papermill": {
     "duration": 0.005753,
     "end_time": "2022-08-31T09:04:01.783375",
     "exception": false,
     "start_time": "2022-08-31T09:04:01.777622",
     "status": "completed"
    },
    "tags": []
   },
   "source": [
    "# Exercises"
   ]
  },
  {
   "cell_type": "markdown",
   "id": "e62d5c46",
   "metadata": {
    "papermill": {
     "duration": 0.005605,
     "end_time": "2022-08-31T09:04:01.794999",
     "exception": false,
     "start_time": "2022-08-31T09:04:01.789394",
     "status": "completed"
    },
    "tags": []
   },
   "source": [
    "## 1.\n",
    "Who are the most common wine reviewers in the dataset? Create a `Series` whose index is the `taster_twitter_handle` category from the dataset, and whose values count how many reviews each person wrote."
   ]
  },
  {
   "cell_type": "code",
   "execution_count": 2,
   "id": "d2d5fb7f",
   "metadata": {
    "execution": {
     "iopub.execute_input": "2022-08-31T09:04:01.808755Z",
     "iopub.status.busy": "2022-08-31T09:04:01.808344Z",
     "iopub.status.idle": "2022-08-31T09:04:01.837910Z",
     "shell.execute_reply": "2022-08-31T09:04:01.836783Z"
    },
    "papermill": {
     "duration": 0.039587,
     "end_time": "2022-08-31T09:04:01.840501",
     "exception": false,
     "start_time": "2022-08-31T09:04:01.800914",
     "status": "completed"
    },
    "tags": []
   },
   "outputs": [
    {
     "data": {
      "application/javascript": [
       "parent.postMessage({\"jupyterEvent\": \"custom.exercise_interaction\", \"data\": {\"outcomeType\": 1, \"valueTowardsCompletion\": 0.16666666666666666, \"interactionType\": 1, \"questionType\": 1, \"questionId\": \"1_ReviewsWritten\", \"learnToolsVersion\": \"0.3.4\", \"failureMessage\": \"\", \"exceptionClass\": \"\", \"trace\": \"\"}}, \"*\")"
      ],
      "text/plain": [
       "<IPython.core.display.Javascript object>"
      ]
     },
     "metadata": {},
     "output_type": "display_data"
    },
    {
     "data": {
      "text/markdown": [
       "<span style=\"color:#33cc33\">Correct:</span> \n",
       "\n",
       "\n",
       "```python\n",
       "reviews_written = reviews.groupby('taster_twitter_handle').size()\n",
       "```\n",
       "or\n",
       "```python\n",
       "reviews_written = reviews.groupby('taster_twitter_handle').taster_twitter_handle.count()\n",
       "```\n"
      ],
      "text/plain": [
       "Correct: \n",
       "\n",
       "\n",
       "```python\n",
       "reviews_written = reviews.groupby('taster_twitter_handle').size()\n",
       "```\n",
       "or\n",
       "```python\n",
       "reviews_written = reviews.groupby('taster_twitter_handle').taster_twitter_handle.count()\n",
       "```"
      ]
     },
     "metadata": {},
     "output_type": "display_data"
    }
   ],
   "source": [
    "# Your code here\n",
    "reviews_written = reviews.groupby('taster_twitter_handle').taster_twitter_handle.count()\n",
    "\n",
    "# Check your answer\n",
    "q1.check()"
   ]
  },
  {
   "cell_type": "code",
   "execution_count": 3,
   "id": "9b814aa1",
   "metadata": {
    "execution": {
     "iopub.execute_input": "2022-08-31T09:04:01.854937Z",
     "iopub.status.busy": "2022-08-31T09:04:01.854519Z",
     "iopub.status.idle": "2022-08-31T09:04:01.858595Z",
     "shell.execute_reply": "2022-08-31T09:04:01.857632Z"
    },
    "papermill": {
     "duration": 0.013855,
     "end_time": "2022-08-31T09:04:01.860734",
     "exception": false,
     "start_time": "2022-08-31T09:04:01.846879",
     "status": "completed"
    },
    "tags": []
   },
   "outputs": [],
   "source": [
    "#q1.hint()\n",
    "#q1.solution()"
   ]
  },
  {
   "cell_type": "markdown",
   "id": "0645c2f5",
   "metadata": {
    "papermill": {
     "duration": 0.005967,
     "end_time": "2022-08-31T09:04:01.873014",
     "exception": false,
     "start_time": "2022-08-31T09:04:01.867047",
     "status": "completed"
    },
    "tags": []
   },
   "source": [
    "## 2.\n",
    "What is the best wine I can buy for a given amount of money? Create a `Series` whose index is wine prices and whose values is the maximum number of points a wine costing that much was given in a review. Sort the values by price, ascending (so that `4.0` dollars is at the top and `3300.0` dollars is at the bottom)."
   ]
  },
  {
   "cell_type": "code",
   "execution_count": 4,
   "id": "5c97a4b7",
   "metadata": {
    "execution": {
     "iopub.execute_input": "2022-08-31T09:04:01.887202Z",
     "iopub.status.busy": "2022-08-31T09:04:01.886761Z",
     "iopub.status.idle": "2022-08-31T09:04:01.901688Z",
     "shell.execute_reply": "2022-08-31T09:04:01.900765Z"
    },
    "papermill": {
     "duration": 0.024634,
     "end_time": "2022-08-31T09:04:01.903896",
     "exception": false,
     "start_time": "2022-08-31T09:04:01.879262",
     "status": "completed"
    },
    "tags": []
   },
   "outputs": [
    {
     "data": {
      "application/javascript": [
       "parent.postMessage({\"jupyterEvent\": \"custom.exercise_interaction\", \"data\": {\"outcomeType\": 1, \"valueTowardsCompletion\": 0.16666666666666666, \"interactionType\": 1, \"questionType\": 1, \"questionId\": \"2_BestRatingPerPrice\", \"learnToolsVersion\": \"0.3.4\", \"failureMessage\": \"\", \"exceptionClass\": \"\", \"trace\": \"\"}}, \"*\")"
      ],
      "text/plain": [
       "<IPython.core.display.Javascript object>"
      ]
     },
     "metadata": {},
     "output_type": "display_data"
    },
    {
     "data": {
      "text/markdown": [
       "<span style=\"color:#33cc33\">Correct</span>"
      ],
      "text/plain": [
       "Correct"
      ]
     },
     "metadata": {},
     "output_type": "display_data"
    }
   ],
   "source": [
    "best_rating_per_price =  reviews.groupby('price')['points'].max().sort_index()\n",
    "\n",
    "# Check your answer\n",
    "q2.check()"
   ]
  },
  {
   "cell_type": "code",
   "execution_count": 5,
   "id": "80a0d655",
   "metadata": {
    "execution": {
     "iopub.execute_input": "2022-08-31T09:04:01.920083Z",
     "iopub.status.busy": "2022-08-31T09:04:01.919336Z",
     "iopub.status.idle": "2022-08-31T09:04:01.923330Z",
     "shell.execute_reply": "2022-08-31T09:04:01.922448Z"
    },
    "papermill": {
     "duration": 0.014661,
     "end_time": "2022-08-31T09:04:01.925498",
     "exception": false,
     "start_time": "2022-08-31T09:04:01.910837",
     "status": "completed"
    },
    "tags": []
   },
   "outputs": [],
   "source": [
    "#q2.hint()\n",
    "#q2.solution()"
   ]
  },
  {
   "cell_type": "markdown",
   "id": "15b27757",
   "metadata": {
    "papermill": {
     "duration": 0.006157,
     "end_time": "2022-08-31T09:04:01.938175",
     "exception": false,
     "start_time": "2022-08-31T09:04:01.932018",
     "status": "completed"
    },
    "tags": []
   },
   "source": [
    "## 3.\n",
    "What are the minimum and maximum prices for each `variety` of wine? Create a `DataFrame` whose index is the `variety` category from the dataset and whose values are the `min` and `max` values thereof."
   ]
  },
  {
   "cell_type": "code",
   "execution_count": 6,
   "id": "23f0488b",
   "metadata": {
    "execution": {
     "iopub.execute_input": "2022-08-31T09:04:01.952837Z",
     "iopub.status.busy": "2022-08-31T09:04:01.952430Z",
     "iopub.status.idle": "2022-08-31T09:04:01.976639Z",
     "shell.execute_reply": "2022-08-31T09:04:01.975682Z"
    },
    "papermill": {
     "duration": 0.034257,
     "end_time": "2022-08-31T09:04:01.978985",
     "exception": false,
     "start_time": "2022-08-31T09:04:01.944728",
     "status": "completed"
    },
    "tags": []
   },
   "outputs": [
    {
     "data": {
      "application/javascript": [
       "parent.postMessage({\"jupyterEvent\": \"custom.exercise_interaction\", \"data\": {\"outcomeType\": 1, \"valueTowardsCompletion\": 0.16666666666666666, \"interactionType\": 1, \"questionType\": 1, \"questionId\": \"3_PriceExtremes\", \"learnToolsVersion\": \"0.3.4\", \"failureMessage\": \"\", \"exceptionClass\": \"\", \"trace\": \"\"}}, \"*\")"
      ],
      "text/plain": [
       "<IPython.core.display.Javascript object>"
      ]
     },
     "metadata": {},
     "output_type": "display_data"
    },
    {
     "data": {
      "text/markdown": [
       "<span style=\"color:#33cc33\">Correct</span>"
      ],
      "text/plain": [
       "Correct"
      ]
     },
     "metadata": {},
     "output_type": "display_data"
    }
   ],
   "source": [
    "price_extremes = reviews.groupby('variety').price.agg([min, max])\n",
    "\n",
    "# Check your answer\n",
    "q3.check()"
   ]
  },
  {
   "cell_type": "code",
   "execution_count": 7,
   "id": "0360a310",
   "metadata": {
    "execution": {
     "iopub.execute_input": "2022-08-31T09:04:01.995218Z",
     "iopub.status.busy": "2022-08-31T09:04:01.994439Z",
     "iopub.status.idle": "2022-08-31T09:04:01.998529Z",
     "shell.execute_reply": "2022-08-31T09:04:01.997712Z"
    },
    "papermill": {
     "duration": 0.014687,
     "end_time": "2022-08-31T09:04:02.000727",
     "exception": false,
     "start_time": "2022-08-31T09:04:01.986040",
     "status": "completed"
    },
    "tags": []
   },
   "outputs": [],
   "source": [
    "#q3.hint()\n",
    "#q3.solution()"
   ]
  },
  {
   "cell_type": "markdown",
   "id": "44810cc9",
   "metadata": {
    "papermill": {
     "duration": 0.006338,
     "end_time": "2022-08-31T09:04:02.014678",
     "exception": false,
     "start_time": "2022-08-31T09:04:02.008340",
     "status": "completed"
    },
    "tags": []
   },
   "source": [
    "## 4.\n",
    "What are the most expensive wine varieties? Create a variable `sorted_varieties` containing a copy of the dataframe from the previous question where varieties are sorted in descending order based on minimum price, then on maximum price (to break ties)."
   ]
  },
  {
   "cell_type": "code",
   "execution_count": 8,
   "id": "70faace6",
   "metadata": {
    "execution": {
     "iopub.execute_input": "2022-08-31T09:04:02.030526Z",
     "iopub.status.busy": "2022-08-31T09:04:02.029780Z",
     "iopub.status.idle": "2022-08-31T09:04:02.041024Z",
     "shell.execute_reply": "2022-08-31T09:04:02.039768Z"
    },
    "papermill": {
     "duration": 0.022053,
     "end_time": "2022-08-31T09:04:02.043409",
     "exception": false,
     "start_time": "2022-08-31T09:04:02.021356",
     "status": "completed"
    },
    "tags": []
   },
   "outputs": [
    {
     "data": {
      "application/javascript": [
       "parent.postMessage({\"jupyterEvent\": \"custom.exercise_interaction\", \"data\": {\"outcomeType\": 1, \"valueTowardsCompletion\": 0.16666666666666666, \"interactionType\": 1, \"questionType\": 1, \"questionId\": \"4_SortedVarieties\", \"learnToolsVersion\": \"0.3.4\", \"failureMessage\": \"\", \"exceptionClass\": \"\", \"trace\": \"\"}}, \"*\")"
      ],
      "text/plain": [
       "<IPython.core.display.Javascript object>"
      ]
     },
     "metadata": {},
     "output_type": "display_data"
    },
    {
     "data": {
      "text/markdown": [
       "<span style=\"color:#33cc33\">Correct</span>"
      ],
      "text/plain": [
       "Correct"
      ]
     },
     "metadata": {},
     "output_type": "display_data"
    }
   ],
   "source": [
    "sorted_varieties = price_extremes.sort_values(by=['min', 'max'], ascending=False)\n",
    "\n",
    "# Check your answer\n",
    "q4.check()"
   ]
  },
  {
   "cell_type": "code",
   "execution_count": 9,
   "id": "cc3c2ee9",
   "metadata": {
    "execution": {
     "iopub.execute_input": "2022-08-31T09:04:02.059928Z",
     "iopub.status.busy": "2022-08-31T09:04:02.059502Z",
     "iopub.status.idle": "2022-08-31T09:04:02.064090Z",
     "shell.execute_reply": "2022-08-31T09:04:02.062969Z"
    },
    "papermill": {
     "duration": 0.015681,
     "end_time": "2022-08-31T09:04:02.066677",
     "exception": false,
     "start_time": "2022-08-31T09:04:02.050996",
     "status": "completed"
    },
    "tags": []
   },
   "outputs": [],
   "source": [
    "#q4.hint()\n",
    "#q4.solution()"
   ]
  },
  {
   "cell_type": "markdown",
   "id": "f0666cf9",
   "metadata": {
    "papermill": {
     "duration": 0.00664,
     "end_time": "2022-08-31T09:04:02.080354",
     "exception": false,
     "start_time": "2022-08-31T09:04:02.073714",
     "status": "completed"
    },
    "tags": []
   },
   "source": [
    "## 5.\n",
    "Create a `Series` whose index is reviewers and whose values is the average review score given out by that reviewer. Hint: you will need the `taster_name` and `points` columns."
   ]
  },
  {
   "cell_type": "code",
   "execution_count": 10,
   "id": "7dbf63db",
   "metadata": {
    "execution": {
     "iopub.execute_input": "2022-08-31T09:04:02.097686Z",
     "iopub.status.busy": "2022-08-31T09:04:02.096843Z",
     "iopub.status.idle": "2022-08-31T09:04:02.118860Z",
     "shell.execute_reply": "2022-08-31T09:04:02.117533Z"
    },
    "papermill": {
     "duration": 0.033189,
     "end_time": "2022-08-31T09:04:02.121410",
     "exception": false,
     "start_time": "2022-08-31T09:04:02.088221",
     "status": "completed"
    },
    "tags": []
   },
   "outputs": [
    {
     "data": {
      "application/javascript": [
       "parent.postMessage({\"jupyterEvent\": \"custom.exercise_interaction\", \"data\": {\"outcomeType\": 1, \"valueTowardsCompletion\": 0.16666666666666666, \"interactionType\": 1, \"questionType\": 1, \"questionId\": \"5_ReviewerMeanRatings\", \"learnToolsVersion\": \"0.3.4\", \"failureMessage\": \"\", \"exceptionClass\": \"\", \"trace\": \"\"}}, \"*\")"
      ],
      "text/plain": [
       "<IPython.core.display.Javascript object>"
      ]
     },
     "metadata": {},
     "output_type": "display_data"
    },
    {
     "data": {
      "text/markdown": [
       "<span style=\"color:#33cc33\">Correct</span>"
      ],
      "text/plain": [
       "Correct"
      ]
     },
     "metadata": {},
     "output_type": "display_data"
    }
   ],
   "source": [
    "reviewer_mean_ratings = reviews.groupby('taster_name').points.mean()\n",
    "\n",
    "# Check your answer\n",
    "q5.check()"
   ]
  },
  {
   "cell_type": "code",
   "execution_count": 11,
   "id": "d404b8be",
   "metadata": {
    "execution": {
     "iopub.execute_input": "2022-08-31T09:04:02.138133Z",
     "iopub.status.busy": "2022-08-31T09:04:02.137329Z",
     "iopub.status.idle": "2022-08-31T09:04:02.142022Z",
     "shell.execute_reply": "2022-08-31T09:04:02.141135Z"
    },
    "papermill": {
     "duration": 0.015817,
     "end_time": "2022-08-31T09:04:02.144425",
     "exception": false,
     "start_time": "2022-08-31T09:04:02.128608",
     "status": "completed"
    },
    "tags": []
   },
   "outputs": [],
   "source": [
    "#q5.hint()\n",
    "#q5.solution()"
   ]
  },
  {
   "cell_type": "markdown",
   "id": "41930cbd",
   "metadata": {
    "papermill": {
     "duration": 0.006895,
     "end_time": "2022-08-31T09:04:02.158572",
     "exception": false,
     "start_time": "2022-08-31T09:04:02.151677",
     "status": "completed"
    },
    "tags": []
   },
   "source": [
    "Are there significant differences in the average scores assigned by the various reviewers? Run the cell below to use the `describe()` method to see a summary of the range of values."
   ]
  },
  {
   "cell_type": "code",
   "execution_count": 12,
   "id": "f0aec368",
   "metadata": {
    "execution": {
     "iopub.execute_input": "2022-08-31T09:04:02.174983Z",
     "iopub.status.busy": "2022-08-31T09:04:02.174199Z",
     "iopub.status.idle": "2022-08-31T09:04:02.187412Z",
     "shell.execute_reply": "2022-08-31T09:04:02.186318Z"
    },
    "papermill": {
     "duration": 0.0241,
     "end_time": "2022-08-31T09:04:02.189785",
     "exception": false,
     "start_time": "2022-08-31T09:04:02.165685",
     "status": "completed"
    },
    "tags": []
   },
   "outputs": [
    {
     "data": {
      "text/plain": [
       "count    19.000000\n",
       "mean     88.233026\n",
       "std       1.243610\n",
       "min      85.855422\n",
       "25%      87.323501\n",
       "50%      88.536235\n",
       "75%      88.975256\n",
       "max      90.562551\n",
       "Name: points, dtype: float64"
      ]
     },
     "execution_count": 12,
     "metadata": {},
     "output_type": "execute_result"
    }
   ],
   "source": [
    "reviewer_mean_ratings.describe()"
   ]
  },
  {
   "cell_type": "markdown",
   "id": "02ac7770",
   "metadata": {
    "papermill": {
     "duration": 0.007244,
     "end_time": "2022-08-31T09:04:02.204348",
     "exception": false,
     "start_time": "2022-08-31T09:04:02.197104",
     "status": "completed"
    },
    "tags": []
   },
   "source": [
    "## 6.\n",
    "What combination of countries and varieties are most common? Create a `Series` whose index is a `MultiIndex`of `{country, variety}` pairs. For example, a pinot noir produced in the US should map to `{\"US\", \"Pinot Noir\"}`. Sort the values in the `Series` in descending order based on wine count."
   ]
  },
  {
   "cell_type": "code",
   "execution_count": 13,
   "id": "2401644c",
   "metadata": {
    "execution": {
     "iopub.execute_input": "2022-08-31T09:04:02.220684Z",
     "iopub.status.busy": "2022-08-31T09:04:02.220306Z",
     "iopub.status.idle": "2022-08-31T09:04:02.256069Z",
     "shell.execute_reply": "2022-08-31T09:04:02.255116Z"
    },
    "papermill": {
     "duration": 0.046698,
     "end_time": "2022-08-31T09:04:02.258357",
     "exception": false,
     "start_time": "2022-08-31T09:04:02.211659",
     "status": "completed"
    },
    "tags": []
   },
   "outputs": [
    {
     "data": {
      "application/javascript": [
       "parent.postMessage({\"jupyterEvent\": \"custom.exercise_interaction\", \"data\": {\"outcomeType\": 1, \"valueTowardsCompletion\": 0.16666666666666666, \"interactionType\": 1, \"questionType\": 1, \"questionId\": \"6_GroupbyCountryVariety\", \"learnToolsVersion\": \"0.3.4\", \"failureMessage\": \"\", \"exceptionClass\": \"\", \"trace\": \"\"}}, \"*\")"
      ],
      "text/plain": [
       "<IPython.core.display.Javascript object>"
      ]
     },
     "metadata": {},
     "output_type": "display_data"
    },
    {
     "data": {
      "text/markdown": [
       "<span style=\"color:#33cc33\">Correct</span>"
      ],
      "text/plain": [
       "Correct"
      ]
     },
     "metadata": {},
     "output_type": "display_data"
    }
   ],
   "source": [
    "country_variety_counts = reviews.groupby(['country', 'variety']).size().sort_values(ascending=False)\n",
    "\n",
    "# Check your answer\n",
    "q6.check()"
   ]
  },
  {
   "cell_type": "code",
   "execution_count": 14,
   "id": "ba25295d",
   "metadata": {
    "execution": {
     "iopub.execute_input": "2022-08-31T09:04:02.276199Z",
     "iopub.status.busy": "2022-08-31T09:04:02.275321Z",
     "iopub.status.idle": "2022-08-31T09:04:02.280190Z",
     "shell.execute_reply": "2022-08-31T09:04:02.279374Z"
    },
    "papermill": {
     "duration": 0.016606,
     "end_time": "2022-08-31T09:04:02.282614",
     "exception": false,
     "start_time": "2022-08-31T09:04:02.266008",
     "status": "completed"
    },
    "tags": []
   },
   "outputs": [],
   "source": [
    "#q6.hint()\n",
    "#q6.solution()"
   ]
  },
  {
   "cell_type": "markdown",
   "id": "5613209d",
   "metadata": {
    "papermill": {
     "duration": 0.007159,
     "end_time": "2022-08-31T09:04:02.297246",
     "exception": false,
     "start_time": "2022-08-31T09:04:02.290087",
     "status": "completed"
    },
    "tags": []
   },
   "source": [
    "# Keep going\n",
    "\n",
    "Move on to the [**data types and missing data**](https://www.kaggle.com/residentmario/data-types-and-missing-values)."
   ]
  },
  {
   "cell_type": "markdown",
   "id": "684740de",
   "metadata": {
    "papermill": {
     "duration": 0.007041,
     "end_time": "2022-08-31T09:04:02.311820",
     "exception": false,
     "start_time": "2022-08-31T09:04:02.304779",
     "status": "completed"
    },
    "tags": []
   },
   "source": [
    "---\n",
    "\n",
    "\n",
    "\n",
    "\n",
    "*Have questions or comments? Visit the [course discussion forum](https://www.kaggle.com/learn/pandas/discussion) to chat with other learners.*"
   ]
  }
 ],
 "metadata": {
  "kernelspec": {
   "display_name": "Python 3",
   "language": "python",
   "name": "python3"
  },
  "language_info": {
   "codemirror_mode": {
    "name": "ipython",
    "version": 3
   },
   "file_extension": ".py",
   "mimetype": "text/x-python",
   "name": "python",
   "nbconvert_exporter": "python",
   "pygments_lexer": "ipython3",
   "version": "3.7.12"
  },
  "papermill": {
   "default_parameters": {},
   "duration": 13.552149,
   "end_time": "2022-08-31T09:04:03.041710",
   "environment_variables": {},
   "exception": null,
   "input_path": "__notebook__.ipynb",
   "output_path": "__notebook__.ipynb",
   "parameters": {},
   "start_time": "2022-08-31T09:03:49.489561",
   "version": "2.3.4"
  }
 },
 "nbformat": 4,
 "nbformat_minor": 5
}
