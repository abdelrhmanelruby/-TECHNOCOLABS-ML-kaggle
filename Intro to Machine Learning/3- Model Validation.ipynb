{
 "cells": [
  {
   "cell_type": "markdown",
   "id": "f43b37cc",
   "metadata": {
    "papermill": {
     "duration": 0.005419,
     "end_time": "2022-08-31T09:08:04.930943",
     "exception": false,
     "start_time": "2022-08-31T09:08:04.925524",
     "status": "completed"
    },
    "tags": []
   },
   "source": [
    "**This notebook is an exercise in the [Introduction to Machine Learning](https://www.kaggle.com/learn/intro-to-machine-learning) course.  You can reference the tutorial at [this link](https://www.kaggle.com/dansbecker/model-validation).**\n",
    "\n",
    "---\n"
   ]
  },
  {
   "cell_type": "markdown",
   "id": "9f603ef8",
   "metadata": {
    "papermill": {
     "duration": 0.003964,
     "end_time": "2022-08-31T09:08:04.939487",
     "exception": false,
     "start_time": "2022-08-31T09:08:04.935523",
     "status": "completed"
    },
    "tags": []
   },
   "source": [
    "## Recap\n",
    "You've built a model. In this exercise you will test how good your model is.\n",
    "\n",
    "Run the cell below to set up your coding environment where the previous exercise left off."
   ]
  },
  {
   "cell_type": "code",
   "execution_count": 1,
   "id": "743bbe39",
   "metadata": {
    "execution": {
     "iopub.execute_input": "2022-08-31T09:08:04.950269Z",
     "iopub.status.busy": "2022-08-31T09:08:04.949512Z",
     "iopub.status.idle": "2022-08-31T09:08:06.450670Z",
     "shell.execute_reply": "2022-08-31T09:08:06.449295Z"
    },
    "papermill": {
     "duration": 1.509822,
     "end_time": "2022-08-31T09:08:06.453480",
     "exception": false,
     "start_time": "2022-08-31T09:08:04.943658",
     "status": "completed"
    },
    "tags": []
   },
   "outputs": [
    {
     "name": "stdout",
     "output_type": "stream",
     "text": [
      "First in-sample predictions: [208500. 181500. 223500. 140000. 250000.]\n",
      "Actual target values for those homes: [208500, 181500, 223500, 140000, 250000]\n",
      "Setup Complete\n"
     ]
    }
   ],
   "source": [
    "# Code you have previously used to load data\n",
    "import pandas as pd\n",
    "from sklearn.tree import DecisionTreeRegressor\n",
    "\n",
    "# Path of the file to read\n",
    "iowa_file_path = '../input/home-data-for-ml-course/train.csv'\n",
    "\n",
    "home_data = pd.read_csv(iowa_file_path)\n",
    "y = home_data.SalePrice\n",
    "feature_columns = ['LotArea', 'YearBuilt', '1stFlrSF', '2ndFlrSF', 'FullBath', 'BedroomAbvGr', 'TotRmsAbvGrd']\n",
    "X = home_data[feature_columns]\n",
    "\n",
    "# Specify Model\n",
    "iowa_model = DecisionTreeRegressor()\n",
    "# Fit Model\n",
    "iowa_model.fit(X, y)\n",
    "\n",
    "print(\"First in-sample predictions:\", iowa_model.predict(X.head()))\n",
    "print(\"Actual target values for those homes:\", y.head().tolist())\n",
    "\n",
    "# Set up code checking\n",
    "from learntools.core import binder\n",
    "binder.bind(globals())\n",
    "from learntools.machine_learning.ex4 import *\n",
    "print(\"Setup Complete\")"
   ]
  },
  {
   "cell_type": "markdown",
   "id": "bcf23873",
   "metadata": {
    "papermill": {
     "duration": 0.004152,
     "end_time": "2022-08-31T09:08:06.462157",
     "exception": false,
     "start_time": "2022-08-31T09:08:06.458005",
     "status": "completed"
    },
    "tags": []
   },
   "source": [
    "# Exercises\n",
    "\n",
    "## Step 1: Split Your Data\n",
    "Use the `train_test_split` function to split up your data.\n",
    "\n",
    "Give it the argument `random_state=1` so the `check` functions know what to expect when verifying your code.\n",
    "\n",
    "Recall, your features are loaded in the DataFrame **X** and your target is loaded in **y**.\n"
   ]
  },
  {
   "cell_type": "code",
   "execution_count": 2,
   "id": "f4a02c29",
   "metadata": {
    "execution": {
     "iopub.execute_input": "2022-08-31T09:08:06.472956Z",
     "iopub.status.busy": "2022-08-31T09:08:06.472548Z",
     "iopub.status.idle": "2022-08-31T09:08:06.485755Z",
     "shell.execute_reply": "2022-08-31T09:08:06.484790Z"
    },
    "papermill": {
     "duration": 0.021288,
     "end_time": "2022-08-31T09:08:06.487890",
     "exception": false,
     "start_time": "2022-08-31T09:08:06.466602",
     "status": "completed"
    },
    "tags": []
   },
   "outputs": [
    {
     "data": {
      "application/javascript": [
       "parent.postMessage({\"jupyterEvent\": \"custom.exercise_interaction\", \"data\": {\"outcomeType\": 1, \"valueTowardsCompletion\": 0.25, \"interactionType\": 1, \"questionType\": 2, \"questionId\": \"1_SplitData\", \"learnToolsVersion\": \"0.3.4\", \"failureMessage\": \"\", \"exceptionClass\": \"\", \"trace\": \"\"}}, \"*\")"
      ],
      "text/plain": [
       "<IPython.core.display.Javascript object>"
      ]
     },
     "metadata": {},
     "output_type": "display_data"
    },
    {
     "data": {
      "text/markdown": [
       "<span style=\"color:#33cc33\">Correct</span>"
      ],
      "text/plain": [
       "Correct"
      ]
     },
     "metadata": {},
     "output_type": "display_data"
    }
   ],
   "source": [
    "# Import the train_test_split function and uncomment\n",
    "from sklearn.model_selection import train_test_split\n",
    "\n",
    "# fill in and uncomment\n",
    "train_X, val_X, train_y, val_y = train_test_split(X,y,random_state=1)\n",
    "\n",
    "# Check your answer\n",
    "step_1.check()"
   ]
  },
  {
   "cell_type": "code",
   "execution_count": 3,
   "id": "d080404e",
   "metadata": {
    "execution": {
     "iopub.execute_input": "2022-08-31T09:08:06.499636Z",
     "iopub.status.busy": "2022-08-31T09:08:06.498783Z",
     "iopub.status.idle": "2022-08-31T09:08:06.503240Z",
     "shell.execute_reply": "2022-08-31T09:08:06.502340Z"
    },
    "papermill": {
     "duration": 0.012807,
     "end_time": "2022-08-31T09:08:06.505418",
     "exception": false,
     "start_time": "2022-08-31T09:08:06.492611",
     "status": "completed"
    },
    "tags": []
   },
   "outputs": [],
   "source": [
    "# The lines below will show you a hint or the solution.\n",
    "# step_1.hint() \n",
    "# step_1.solution()\n"
   ]
  },
  {
   "cell_type": "markdown",
   "id": "8717d657",
   "metadata": {
    "papermill": {
     "duration": 0.004552,
     "end_time": "2022-08-31T09:08:06.515169",
     "exception": false,
     "start_time": "2022-08-31T09:08:06.510617",
     "status": "completed"
    },
    "tags": []
   },
   "source": [
    "## Step 2: Specify and Fit the Model\n",
    "\n",
    "Create a `DecisionTreeRegressor` model and fit it to the relevant data.\n",
    "Set `random_state` to 1 again when creating the model."
   ]
  },
  {
   "cell_type": "code",
   "execution_count": 4,
   "id": "efd986d9",
   "metadata": {
    "execution": {
     "iopub.execute_input": "2022-08-31T09:08:06.527027Z",
     "iopub.status.busy": "2022-08-31T09:08:06.526404Z",
     "iopub.status.idle": "2022-08-31T09:08:06.552379Z",
     "shell.execute_reply": "2022-08-31T09:08:06.551411Z"
    },
    "papermill": {
     "duration": 0.034476,
     "end_time": "2022-08-31T09:08:06.554418",
     "exception": false,
     "start_time": "2022-08-31T09:08:06.519942",
     "status": "completed"
    },
    "tags": []
   },
   "outputs": [
    {
     "name": "stdout",
     "output_type": "stream",
     "text": [
      "[186500. 184000. 130000.  92000. 164500. 220000. 335000. 144152. 215000.\n",
      " 262000.]\n",
      "[186500. 184000. 130000.  92000. 164500. 220000. 335000. 144152. 215000.\n",
      " 262000.]\n"
     ]
    },
    {
     "data": {
      "application/javascript": [
       "parent.postMessage({\"jupyterEvent\": \"custom.exercise_interaction\", \"data\": {\"outcomeType\": 1, \"valueTowardsCompletion\": 0.25, \"interactionType\": 1, \"questionType\": 2, \"questionId\": \"2_FitModelWithTrain\", \"learnToolsVersion\": \"0.3.4\", \"failureMessage\": \"\", \"exceptionClass\": \"\", \"trace\": \"\"}}, \"*\")"
      ],
      "text/plain": [
       "<IPython.core.display.Javascript object>"
      ]
     },
     "metadata": {},
     "output_type": "display_data"
    },
    {
     "data": {
      "text/markdown": [
       "<span style=\"color:#33cc33\">Correct</span>"
      ],
      "text/plain": [
       "Correct"
      ]
     },
     "metadata": {},
     "output_type": "display_data"
    }
   ],
   "source": [
    "# You imported DecisionTreeRegressor in your last exercise\n",
    "# and that code has been copied to the setup code above. So, no need to\n",
    "# import it again\n",
    "\n",
    "# Specify the model\n",
    "iowa_model = DecisionTreeRegressor(random_state=1)\n",
    "\n",
    "# Fit iowa_model with the training data.\n",
    "iowa_model.fit(train_X,train_y)\n",
    "\n",
    "# Check your answer\n",
    "step_2.check()"
   ]
  },
  {
   "cell_type": "code",
   "execution_count": 5,
   "id": "21a4434f",
   "metadata": {
    "execution": {
     "iopub.execute_input": "2022-08-31T09:08:06.566425Z",
     "iopub.status.busy": "2022-08-31T09:08:06.565996Z",
     "iopub.status.idle": "2022-08-31T09:08:06.569926Z",
     "shell.execute_reply": "2022-08-31T09:08:06.568971Z"
    },
    "papermill": {
     "duration": 0.012586,
     "end_time": "2022-08-31T09:08:06.572004",
     "exception": false,
     "start_time": "2022-08-31T09:08:06.559418",
     "status": "completed"
    },
    "tags": []
   },
   "outputs": [],
   "source": [
    "# step_2.hint()\n",
    "# step_2.solution()"
   ]
  },
  {
   "cell_type": "markdown",
   "id": "b469214b",
   "metadata": {
    "papermill": {
     "duration": 0.004671,
     "end_time": "2022-08-31T09:08:06.581966",
     "exception": false,
     "start_time": "2022-08-31T09:08:06.577295",
     "status": "completed"
    },
    "tags": []
   },
   "source": [
    "## Step 3: Make Predictions with Validation data\n"
   ]
  },
  {
   "cell_type": "code",
   "execution_count": 6,
   "id": "b59d277e",
   "metadata": {
    "execution": {
     "iopub.execute_input": "2022-08-31T09:08:06.594124Z",
     "iopub.status.busy": "2022-08-31T09:08:06.593493Z",
     "iopub.status.idle": "2022-08-31T09:08:06.604265Z",
     "shell.execute_reply": "2022-08-31T09:08:06.603409Z"
    },
    "papermill": {
     "duration": 0.019419,
     "end_time": "2022-08-31T09:08:06.606350",
     "exception": false,
     "start_time": "2022-08-31T09:08:06.586931",
     "status": "completed"
    },
    "tags": []
   },
   "outputs": [
    {
     "data": {
      "application/javascript": [
       "parent.postMessage({\"jupyterEvent\": \"custom.exercise_interaction\", \"data\": {\"outcomeType\": 1, \"valueTowardsCompletion\": 0.25, \"interactionType\": 1, \"questionType\": 2, \"questionId\": \"3_ValPreds\", \"learnToolsVersion\": \"0.3.4\", \"failureMessage\": \"\", \"exceptionClass\": \"\", \"trace\": \"\"}}, \"*\")"
      ],
      "text/plain": [
       "<IPython.core.display.Javascript object>"
      ]
     },
     "metadata": {},
     "output_type": "display_data"
    },
    {
     "data": {
      "text/markdown": [
       "<span style=\"color:#33cc33\">Correct</span>"
      ],
      "text/plain": [
       "Correct"
      ]
     },
     "metadata": {},
     "output_type": "display_data"
    }
   ],
   "source": [
    "# Predict with all validation observations\n",
    "val_predictions = iowa_model.predict(val_X)\n",
    "\n",
    "# Check your answer\n",
    "step_3.check()"
   ]
  },
  {
   "cell_type": "code",
   "execution_count": 7,
   "id": "67e42302",
   "metadata": {
    "execution": {
     "iopub.execute_input": "2022-08-31T09:08:06.618623Z",
     "iopub.status.busy": "2022-08-31T09:08:06.617803Z",
     "iopub.status.idle": "2022-08-31T09:08:06.621559Z",
     "shell.execute_reply": "2022-08-31T09:08:06.620769Z"
    },
    "papermill": {
     "duration": 0.012073,
     "end_time": "2022-08-31T09:08:06.623601",
     "exception": false,
     "start_time": "2022-08-31T09:08:06.611528",
     "status": "completed"
    },
    "tags": []
   },
   "outputs": [],
   "source": [
    "# step_3.hint()\n",
    "# step_3.solution()"
   ]
  },
  {
   "cell_type": "markdown",
   "id": "ff29a08c",
   "metadata": {
    "papermill": {
     "duration": 0.004949,
     "end_time": "2022-08-31T09:08:06.633917",
     "exception": false,
     "start_time": "2022-08-31T09:08:06.628968",
     "status": "completed"
    },
    "tags": []
   },
   "source": [
    "Inspect your predictions and actual values from validation data."
   ]
  },
  {
   "cell_type": "code",
   "execution_count": 8,
   "id": "5d3de7f9",
   "metadata": {
    "execution": {
     "iopub.execute_input": "2022-08-31T09:08:06.649638Z",
     "iopub.status.busy": "2022-08-31T09:08:06.648296Z",
     "iopub.status.idle": "2022-08-31T09:08:06.654967Z",
     "shell.execute_reply": "2022-08-31T09:08:06.653785Z"
    },
    "papermill": {
     "duration": 0.016204,
     "end_time": "2022-08-31T09:08:06.657385",
     "exception": false,
     "start_time": "2022-08-31T09:08:06.641181",
     "status": "completed"
    },
    "tags": []
   },
   "outputs": [
    {
     "name": "stdout",
     "output_type": "stream",
     "text": [
      "<learntools.core.constants.PlaceholderValue object at 0x7fd7fd5f34d0>\n",
      "<learntools.core.constants.PlaceholderValue object at 0x7fd7fd5f34d0>\n"
     ]
    }
   ],
   "source": [
    "# print the top few validation predictions\n",
    "print(____)\n",
    "# print the top few actual prices from validation data\n",
    "print(____)"
   ]
  },
  {
   "cell_type": "markdown",
   "id": "d1eb5f05",
   "metadata": {
    "papermill": {
     "duration": 0.005116,
     "end_time": "2022-08-31T09:08:06.667794",
     "exception": false,
     "start_time": "2022-08-31T09:08:06.662678",
     "status": "completed"
    },
    "tags": []
   },
   "source": [
    "What do you notice that is different from what you saw with in-sample predictions (which are printed after the top code cell in this page).\n",
    "\n",
    "Do you remember why validation predictions differ from in-sample (or training) predictions? This is an important idea from the last lesson.\n",
    "\n",
    "## Step 4: Calculate the Mean Absolute Error in Validation Data\n"
   ]
  },
  {
   "cell_type": "code",
   "execution_count": 9,
   "id": "772cb754",
   "metadata": {
    "execution": {
     "iopub.execute_input": "2022-08-31T09:08:06.680836Z",
     "iopub.status.busy": "2022-08-31T09:08:06.680027Z",
     "iopub.status.idle": "2022-08-31T09:08:06.690777Z",
     "shell.execute_reply": "2022-08-31T09:08:06.689564Z"
    },
    "papermill": {
     "duration": 0.020002,
     "end_time": "2022-08-31T09:08:06.693329",
     "exception": false,
     "start_time": "2022-08-31T09:08:06.673327",
     "status": "completed"
    },
    "tags": []
   },
   "outputs": [
    {
     "data": {
      "application/javascript": [
       "parent.postMessage({\"jupyterEvent\": \"custom.exercise_interaction\", \"data\": {\"outcomeType\": 1, \"valueTowardsCompletion\": 0.25, \"interactionType\": 1, \"questionType\": 1, \"questionId\": \"4_MAE\", \"learnToolsVersion\": \"0.3.4\", \"failureMessage\": \"\", \"exceptionClass\": \"\", \"trace\": \"\"}}, \"*\")"
      ],
      "text/plain": [
       "<IPython.core.display.Javascript object>"
      ]
     },
     "metadata": {},
     "output_type": "display_data"
    },
    {
     "data": {
      "text/markdown": [
       "<span style=\"color:#33cc33\">Correct</span>"
      ],
      "text/plain": [
       "Correct"
      ]
     },
     "metadata": {},
     "output_type": "display_data"
    }
   ],
   "source": [
    "from sklearn.metrics import mean_absolute_error\n",
    "val_mae = mean_absolute_error(val_y,val_predictions)\n",
    "\n",
    "# uncomment following line to see the validation_mae\n",
    "#print(val_mae)\n",
    "\n",
    "# Check your answer\n",
    "step_4.check()"
   ]
  },
  {
   "cell_type": "code",
   "execution_count": 10,
   "id": "dd0ad1d0",
   "metadata": {
    "execution": {
     "iopub.execute_input": "2022-08-31T09:08:06.706676Z",
     "iopub.status.busy": "2022-08-31T09:08:06.705899Z",
     "iopub.status.idle": "2022-08-31T09:08:06.710579Z",
     "shell.execute_reply": "2022-08-31T09:08:06.709770Z"
    },
    "papermill": {
     "duration": 0.013942,
     "end_time": "2022-08-31T09:08:06.712811",
     "exception": false,
     "start_time": "2022-08-31T09:08:06.698869",
     "status": "completed"
    },
    "tags": []
   },
   "outputs": [],
   "source": [
    "# step_4.hint()\n",
    "# step_4.solution()"
   ]
  },
  {
   "cell_type": "markdown",
   "id": "df3a48a5",
   "metadata": {
    "papermill": {
     "duration": 0.005222,
     "end_time": "2022-08-31T09:08:06.723686",
     "exception": false,
     "start_time": "2022-08-31T09:08:06.718464",
     "status": "completed"
    },
    "tags": []
   },
   "source": [
    "Is that MAE good?  There isn't a general rule for what values are good that applies across applications. But you'll see how to use (and improve) this number in the next step.\n",
    "\n",
    "# Keep Going\n",
    "\n",
    "You are ready for **[Underfitting and Overfitting](https://www.kaggle.com/dansbecker/underfitting-and-overfitting).**\n"
   ]
  },
  {
   "cell_type": "markdown",
   "id": "9d98eb8a",
   "metadata": {
    "papermill": {
     "duration": 0.005217,
     "end_time": "2022-08-31T09:08:06.735216",
     "exception": false,
     "start_time": "2022-08-31T09:08:06.729999",
     "status": "completed"
    },
    "tags": []
   },
   "source": [
    "---\n",
    "\n",
    "\n",
    "\n",
    "\n",
    "*Have questions or comments? Visit the [course discussion forum](https://www.kaggle.com/learn/intro-to-machine-learning/discussion) to chat with other learners.*"
   ]
  }
 ],
 "metadata": {
  "kernelspec": {
   "display_name": "Python 3",
   "language": "python",
   "name": "python3"
  },
  "language_info": {
   "codemirror_mode": {
    "name": "ipython",
    "version": 3
   },
   "file_extension": ".py",
   "mimetype": "text/x-python",
   "name": "python",
   "nbconvert_exporter": "python",
   "pygments_lexer": "ipython3",
   "version": "3.7.12"
  },
  "papermill": {
   "default_parameters": {},
   "duration": 13.28644,
   "end_time": "2022-08-31T09:08:07.463150",
   "environment_variables": {},
   "exception": null,
   "input_path": "__notebook__.ipynb",
   "output_path": "__notebook__.ipynb",
   "parameters": {},
   "start_time": "2022-08-31T09:07:54.176710",
   "version": "2.3.4"
  }
 },
 "nbformat": 4,
 "nbformat_minor": 5
}
